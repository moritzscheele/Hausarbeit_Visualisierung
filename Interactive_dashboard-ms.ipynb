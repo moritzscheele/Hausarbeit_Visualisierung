{
 "cells": [
  {
   "cell_type": "code",
   "execution_count": 39,
   "id": "fdc9dea9-977d-47ec-a607-c4302a010733",
   "metadata": {
    "tags": []
   },
   "outputs": [],
   "source": [
    "import pandas as pd\n",
    "import numpy as np\n",
    "import panel as pn\n",
    "pn.extension('tabulator')\n",
    "\n",
    "import hvplot.pandas\n",
    "\n",
    "df = pd.read_csv('biased_dataset2.csv')\n",
    "df_time = pd.read_csv('transactions2.csv', delimiter=';', header=1)\n",
    "df_time = df_time.dropna()\n",
    "df_time[\"date\"] = pd.to_datetime(df_time[\"date\"])\n",
    "df_time['share_of_accepted_transactions'] =df_time['share_of_accepted_transactions'].replace(',','.', regex=True)\n",
    "df_time['share_of_accepted_transactions'] = df_time['share_of_accepted_transactions'].astype(float)"
   ]
  },
  {
   "cell_type": "code",
   "execution_count": 2,
   "id": "58f973fa-e01c-4b6b-ba6a-532a62b2e1e8",
   "metadata": {
    "tags": []
   },
   "outputs": [],
   "source": [
    "# cache data to improve dashboard performance\n",
    "if 'data' not in pn.state.cache.keys():\n",
    "\n",
    "    df = pd.read_csv('biased_dataset2.csv')\n",
    "\n",
    "    pn.state.cache['data'] = df.copy()\n",
    "\n",
    "else: \n",
    "\n",
    "    df = pn.state.cache['data']"
   ]
  },
  {
   "cell_type": "code",
   "execution_count": 114,
   "id": "fb12395d-b4d4-4067-bdd0-b5af81d07044",
   "metadata": {
    "tags": []
   },
   "outputs": [],
   "source": [
    "cat_columns = ['Sex', 'ForeignWorker', 'LoanPurpose','CheckingStatus', 'CreditHistory', 'ExistingSavings', 'EmploymentDuration', 'OthersOnLoan', 'OwnsProperty', 'InstallmentPlans', 'Housing', 'Job', 'Telephone']\n",
    "num_columns = ['Age', 'LoanDuration', 'InstallmentPercent', 'CurrentResidenceDuration', 'ExistingCreditsCount', 'Dependents']\n"
   ]
  },
  {
   "cell_type": "code",
   "execution_count": 101,
   "id": "28c34f25-8c33-4b36-9597-a876d2e9c02a",
   "metadata": {
    "tags": []
   },
   "outputs": [
    {
     "data": {
      "text/html": [
       "<div>\n",
       "<style scoped>\n",
       "    .dataframe tbody tr th:only-of-type {\n",
       "        vertical-align: middle;\n",
       "    }\n",
       "\n",
       "    .dataframe tbody tr th {\n",
       "        vertical-align: top;\n",
       "    }\n",
       "\n",
       "    .dataframe thead th {\n",
       "        text-align: right;\n",
       "    }\n",
       "</style>\n",
       "<table border=\"1\" class=\"dataframe\">\n",
       "  <thead>\n",
       "    <tr style=\"text-align: right;\">\n",
       "      <th></th>\n",
       "      <th>CheckingStatus</th>\n",
       "      <th>LoanDuration</th>\n",
       "      <th>CreditHistory</th>\n",
       "      <th>LoanPurpose</th>\n",
       "      <th>LoanAmount</th>\n",
       "      <th>ExistingSavings</th>\n",
       "      <th>EmploymentDuration</th>\n",
       "      <th>InstallmentPercent</th>\n",
       "      <th>Sex</th>\n",
       "      <th>OthersOnLoan</th>\n",
       "      <th>CurrentResidenceDuration</th>\n",
       "      <th>OwnsProperty</th>\n",
       "      <th>Age</th>\n",
       "      <th>InstallmentPlans</th>\n",
       "      <th>Housing</th>\n",
       "      <th>ExistingCreditsCount</th>\n",
       "      <th>Job</th>\n",
       "      <th>Dependents</th>\n",
       "      <th>Telephone</th>\n",
       "      <th>ForeignWorker</th>\n",
       "      <th>Risk</th>\n",
       "    </tr>\n",
       "  </thead>\n",
       "  <tbody>\n",
       "    <tr>\n",
       "      <th>0</th>\n",
       "      <td>0_to_200</td>\n",
       "      <td>31</td>\n",
       "      <td>credits_paid_to_date</td>\n",
       "      <td>other</td>\n",
       "      <td>1889</td>\n",
       "      <td>100_to_500</td>\n",
       "      <td>less_1</td>\n",
       "      <td>3</td>\n",
       "      <td>female</td>\n",
       "      <td>none</td>\n",
       "      <td>3</td>\n",
       "      <td>savings_insurance</td>\n",
       "      <td>32</td>\n",
       "      <td>none</td>\n",
       "      <td>own</td>\n",
       "      <td>1</td>\n",
       "      <td>skilled</td>\n",
       "      <td>1</td>\n",
       "      <td>none</td>\n",
       "      <td>yes</td>\n",
       "      <td>No Risk</td>\n",
       "    </tr>\n",
       "  </tbody>\n",
       "</table>\n",
       "</div>"
      ],
      "text/plain": [
       "  CheckingStatus  LoanDuration         CreditHistory LoanPurpose  LoanAmount  \\\n",
       "0       0_to_200            31  credits_paid_to_date       other        1889   \n",
       "\n",
       "  ExistingSavings EmploymentDuration  InstallmentPercent     Sex OthersOnLoan  \\\n",
       "0      100_to_500             less_1                   3  female         none   \n",
       "\n",
       "   CurrentResidenceDuration       OwnsProperty  Age InstallmentPlans Housing  \\\n",
       "0                         3  savings_insurance   32             none     own   \n",
       "\n",
       "   ExistingCreditsCount      Job  Dependents Telephone ForeignWorker     Risk  \n",
       "0                     1  skilled           1      none           yes  No Risk  "
      ]
     },
     "execution_count": 101,
     "metadata": {},
     "output_type": "execute_result"
    }
   ],
   "source": [
    "pd.set_option('display.max_columns', None)\n",
    "df.head(1)"
   ]
  },
  {
   "cell_type": "code",
   "execution_count": 102,
   "id": "3b6d5f4a-f7ef-47fc-a3df-7d60b3cfd97e",
   "metadata": {
    "tags": []
   },
   "outputs": [],
   "source": [
    "# Make DataFrame Pipeline Interactive\n",
    "idf = df.interactive()"
   ]
  },
  {
   "cell_type": "code",
   "execution_count": 103,
   "id": "504a1070-70e5-448b-81f6-7feeae883bc6",
   "metadata": {
    "tags": []
   },
   "outputs": [],
   "source": [
    "idf2 = df_time.interactive()"
   ]
  },
  {
   "cell_type": "markdown",
   "id": "54629e7a-8cb8-4fbe-a616-6481a8e6ff31",
   "metadata": {},
   "source": [
    "## (1) Verteilung an Risikofällen pro Spalte"
   ]
  },
  {
   "cell_type": "code",
   "execution_count": 104,
   "id": "ffc2aa53-9def-4ec8-a4c1-0a89de340b66",
   "metadata": {
    "tags": []
   },
   "outputs": [],
   "source": [
    "select_cat_distribution_pipeline = pn.widgets.Select(name='Select', options=cat_columns)"
   ]
  },
  {
   "cell_type": "code",
   "execution_count": 105,
   "id": "4c357628-af69-4ec4-9e2d-91bcdd21c3c9",
   "metadata": {
    "tags": []
   },
   "outputs": [
    {
     "data": {},
     "metadata": {},
     "output_type": "display_data"
    },
    {
     "data": {
      "application/vnd.holoviews_exec.v0+json": "",
      "text/html": [
       "<div id='11549'>\n",
       "  <div class=\"bk-root\" id=\"882f5742-b5c9-4140-b129-e405ede48eec\" data-root-id=\"11549\"></div>\n",
       "</div>\n",
       "<script type=\"application/javascript\">(function(root) {\n",
       "  function embed_document(root) {\n",
       "    var docs_json = {\"ffa0244f-b96b-460f-8be2-923c6d0c1a0d\":{\"defs\":[{\"extends\":null,\"module\":null,\"name\":\"ReactiveHTML1\",\"overrides\":[],\"properties\":[]},{\"extends\":null,\"module\":null,\"name\":\"FlexBox1\",\"overrides\":[],\"properties\":[{\"default\":\"flex-start\",\"kind\":null,\"name\":\"align_content\"},{\"default\":\"flex-start\",\"kind\":null,\"name\":\"align_items\"},{\"default\":\"row\",\"kind\":null,\"name\":\"flex_direction\"},{\"default\":\"wrap\",\"kind\":null,\"name\":\"flex_wrap\"},{\"default\":\"flex-start\",\"kind\":null,\"name\":\"justify_content\"}]},{\"extends\":null,\"module\":null,\"name\":\"GridStack1\",\"overrides\":[],\"properties\":[{\"default\":\"warn\",\"kind\":null,\"name\":\"mode\"},{\"default\":null,\"kind\":null,\"name\":\"ncols\"},{\"default\":null,\"kind\":null,\"name\":\"nrows\"},{\"default\":true,\"kind\":null,\"name\":\"allow_resize\"},{\"default\":true,\"kind\":null,\"name\":\"allow_drag\"},{\"default\":[],\"kind\":null,\"name\":\"state\"}]},{\"extends\":null,\"module\":null,\"name\":\"click1\",\"overrides\":[],\"properties\":[{\"default\":\"\",\"kind\":null,\"name\":\"terminal_output\"},{\"default\":\"\",\"kind\":null,\"name\":\"debug_name\"},{\"default\":0,\"kind\":null,\"name\":\"clears\"}]},{\"extends\":null,\"module\":null,\"name\":\"NotificationAreaBase1\",\"overrides\":[],\"properties\":[{\"default\":\"bottom-right\",\"kind\":null,\"name\":\"position\"},{\"default\":0,\"kind\":null,\"name\":\"_clear\"}]},{\"extends\":null,\"module\":null,\"name\":\"NotificationArea1\",\"overrides\":[],\"properties\":[{\"default\":[],\"kind\":null,\"name\":\"notifications\"},{\"default\":\"bottom-right\",\"kind\":null,\"name\":\"position\"},{\"default\":0,\"kind\":null,\"name\":\"_clear\"},{\"default\":[{\"background\":\"#ffc107\",\"icon\":{\"className\":\"fas fa-exclamation-triangle\",\"color\":\"white\",\"tagName\":\"i\"},\"type\":\"warning\"},{\"background\":\"#007bff\",\"icon\":{\"className\":\"fas fa-info-circle\",\"color\":\"white\",\"tagName\":\"i\"},\"type\":\"info\"}],\"kind\":null,\"name\":\"types\"}]},{\"extends\":null,\"module\":null,\"name\":\"Notification\",\"overrides\":[],\"properties\":[{\"default\":null,\"kind\":null,\"name\":\"background\"},{\"default\":3000,\"kind\":null,\"name\":\"duration\"},{\"default\":null,\"kind\":null,\"name\":\"icon\"},{\"default\":\"\",\"kind\":null,\"name\":\"message\"},{\"default\":null,\"kind\":null,\"name\":\"notification_type\"},{\"default\":false,\"kind\":null,\"name\":\"_destroyed\"}]},{\"extends\":null,\"module\":null,\"name\":\"TemplateActions1\",\"overrides\":[],\"properties\":[{\"default\":0,\"kind\":null,\"name\":\"open_modal\"},{\"default\":0,\"kind\":null,\"name\":\"close_modal\"}]},{\"extends\":null,\"module\":null,\"name\":\"MaterialTemplateActions1\",\"overrides\":[],\"properties\":[{\"default\":0,\"kind\":null,\"name\":\"open_modal\"},{\"default\":0,\"kind\":null,\"name\":\"close_modal\"}]}],\"roots\":{\"references\":[{\"attributes\":{\"children\":[{\"id\":\"11553\"}],\"margin\":[0,0,0,0],\"name\":\"Column21406\"},\"id\":\"11552\",\"type\":\"Column\"},{\"attributes\":{\"margin\":[5,5,5,5],\"name\":\"ParamFunction21407\",\"text\":\"&lt;table class=&quot;dataframe panel-df&quot;&gt;\\n  &lt;thead&gt;\\n    &lt;tr style=&quot;text-align: right;&quot;&gt;\\n      &lt;th&gt;&lt;/th&gt;\\n      &lt;th&gt;&lt;/th&gt;\\n      &lt;th&gt;percent&lt;/th&gt;\\n    &lt;/tr&gt;\\n    &lt;tr&gt;\\n      &lt;th&gt;Sex&lt;/th&gt;\\n      &lt;th&gt;Risk&lt;/th&gt;\\n      &lt;th&gt;&lt;/th&gt;\\n    &lt;/tr&gt;\\n  &lt;/thead&gt;\\n  &lt;tbody&gt;\\n    &lt;tr&gt;\\n      &lt;th rowspan=&quot;2&quot; valign=&quot;top&quot;&gt;female&lt;/th&gt;\\n      &lt;th&gt;No Risk&lt;/th&gt;\\n      &lt;td&gt;54.441728&lt;/td&gt;\\n    &lt;/tr&gt;\\n    &lt;tr&gt;\\n      &lt;th&gt;Risk&lt;/th&gt;\\n      &lt;td&gt;45.558272&lt;/td&gt;\\n    &lt;/tr&gt;\\n    &lt;tr&gt;\\n      &lt;th rowspan=&quot;2&quot; valign=&quot;top&quot;&gt;male&lt;/th&gt;\\n      &lt;th&gt;No Risk&lt;/th&gt;\\n      &lt;td&gt;64.683053&lt;/td&gt;\\n    &lt;/tr&gt;\\n    &lt;tr&gt;\\n      &lt;th&gt;Risk&lt;/th&gt;\\n      &lt;td&gt;35.316947&lt;/td&gt;\\n    &lt;/tr&gt;\\n  &lt;/tbody&gt;\\n&lt;/table&gt;\"},\"id\":\"11556\",\"type\":\"panel.models.markup.HTML\"},{\"attributes\":{\"margin\":[5,10,5,10],\"options\":[\"Sex\",\"ForeignWorker\",\"LoanPurpose\",\"CheckingStatus\",\"CreditHistory\",\"ExistingSavings\",\"EmploymentDuration\",\"OthersOnLoan\",\"OwnsProperty\",\"InstallmentPlans\",\"Housing\",\"Job\",\"Telephone\"],\"title\":\"Select\",\"value\":\"Sex\"},\"id\":\"11553\",\"type\":\"panel.models.widgets.CustomSelect\"},{\"attributes\":{\"children\":[{\"id\":\"11556\"}],\"margin\":[0,0,0,0],\"name\":\"Row21411\"},\"id\":\"11555\",\"type\":\"Row\"},{\"attributes\":{\"children\":[{\"id\":\"11550\"}],\"margin\":[0,0,0,0],\"name\":\"Row21417\"},\"id\":\"11549\",\"type\":\"Row\"},{\"attributes\":{\"margin\":[5,5,5,5],\"name\":\"HSpacer21414\",\"sizing_mode\":\"stretch_width\"},\"id\":\"11554\",\"type\":\"Spacer\"},{\"attributes\":{\"children\":[{\"id\":\"11551\"},{\"id\":\"11555\"}],\"margin\":[0,0,0,0],\"name\":\"Column21416\"},\"id\":\"11550\",\"type\":\"Column\"},{\"attributes\":{\"client_comm_id\":\"f088999b80574279bbd0fb3656714911\",\"comm_id\":\"5be6a93bd6874df2a9bcd07239cd7d32\",\"plot_id\":\"11549\"},\"id\":\"11557\",\"type\":\"panel.models.comm_manager.CommManager\"},{\"attributes\":{\"children\":[{\"id\":\"11552\"},{\"id\":\"11554\"}],\"margin\":[0,0,0,0],\"name\":\"Row21415\"},\"id\":\"11551\",\"type\":\"Row\"}],\"root_ids\":[\"11549\",\"11557\"]},\"title\":\"Bokeh Application\",\"version\":\"2.4.3\"}};\n",
       "    var render_items = [{\"docid\":\"ffa0244f-b96b-460f-8be2-923c6d0c1a0d\",\"root_ids\":[\"11549\"],\"roots\":{\"11549\":\"882f5742-b5c9-4140-b129-e405ede48eec\"}}];\n",
       "    root.Bokeh.embed.embed_items_notebook(docs_json, render_items);\n",
       "    for (const render_item of render_items) {\n",
       "      for (const root_id of render_item.root_ids) {\n",
       "\tconst id_el = document.getElementById(root_id)\n",
       "\tif (id_el.children.length && (id_el.children[0].className === 'bk-root')) {\n",
       "\t  const root_el = id_el.children[0]\n",
       "\t  root_el.id = root_el.id + '-rendered'\n",
       "\t}\n",
       "      }\n",
       "    }\n",
       "  }\n",
       "  if (root.Bokeh !== undefined && root.Bokeh.Panel !== undefined && ( root['Tabulator'] !== undefined) && ( root['Tabulator'] !== undefined) && ( root['Tabulator'] !== undefined) && ( root['Tabulator'] !== undefined) && ( root['Tabulator'] !== undefined)) {\n",
       "    embed_document(root);\n",
       "  } else {\n",
       "    var attempts = 0;\n",
       "    var timer = setInterval(function(root) {\n",
       "      if (root.Bokeh !== undefined && root.Bokeh.Panel !== undefined && (root['Tabulator'] !== undefined) && (root['Tabulator'] !== undefined) && (root['Tabulator'] !== undefined) && (root['Tabulator'] !== undefined) && (root['Tabulator'] !== undefined)) {\n",
       "        clearInterval(timer);\n",
       "        embed_document(root);\n",
       "      } else if (document.readyState == \"complete\") {\n",
       "        attempts++;\n",
       "        if (attempts > 200) {\n",
       "          clearInterval(timer);\n",
       "          console.log(\"Bokeh: ERROR: Unable to run BokehJS code because BokehJS library is missing\");\n",
       "        }\n",
       "      }\n",
       "    }, 25, root)\n",
       "  }\n",
       "})(window);</script>"
      ],
      "text/plain": [
       "<hvplot.interactive.Interactive at 0x7fe5823446d0>"
      ]
     },
     "execution_count": 105,
     "metadata": {
      "application/vnd.holoviews_exec.v0+json": {
       "id": "11549"
      }
     },
     "output_type": "execute_result"
    }
   ],
   "source": [
    "cat_distribution_pipeline = (\n",
    "        idf\n",
    "        .groupby([select_cat_distribution_pipeline])['Risk']\n",
    "        .value_counts(normalize=True)\n",
    "        .mul(100)\n",
    "        .rename('percent')\n",
    "        #.reset_index(drop=False)\n",
    ")\n",
    "cat_distribution_pipeline"
   ]
  },
  {
   "cell_type": "code",
   "execution_count": 106,
   "id": "bd988286-7909-4906-aaea-e8b79fae3cf4",
   "metadata": {
    "tags": []
   },
   "outputs": [
    {
     "data": {},
     "metadata": {},
     "output_type": "display_data"
    },
    {
     "data": {},
     "metadata": {},
     "output_type": "display_data"
    },
    {
     "data": {
      "application/vnd.holoviews_exec.v0+json": "",
      "text/html": [
       "<div id='11558'>\n",
       "  <div class=\"bk-root\" id=\"bd61887b-45b4-42fc-b528-a083c094b6ee\" data-root-id=\"11558\"></div>\n",
       "</div>\n",
       "<script type=\"application/javascript\">(function(root) {\n",
       "  function embed_document(root) {\n",
       "    var docs_json = {\"71f709aa-1507-4921-9a2e-433af7691a31\":{\"defs\":[{\"extends\":null,\"module\":null,\"name\":\"ReactiveHTML1\",\"overrides\":[],\"properties\":[]},{\"extends\":null,\"module\":null,\"name\":\"FlexBox1\",\"overrides\":[],\"properties\":[{\"default\":\"flex-start\",\"kind\":null,\"name\":\"align_content\"},{\"default\":\"flex-start\",\"kind\":null,\"name\":\"align_items\"},{\"default\":\"row\",\"kind\":null,\"name\":\"flex_direction\"},{\"default\":\"wrap\",\"kind\":null,\"name\":\"flex_wrap\"},{\"default\":\"flex-start\",\"kind\":null,\"name\":\"justify_content\"}]},{\"extends\":null,\"module\":null,\"name\":\"GridStack1\",\"overrides\":[],\"properties\":[{\"default\":\"warn\",\"kind\":null,\"name\":\"mode\"},{\"default\":null,\"kind\":null,\"name\":\"ncols\"},{\"default\":null,\"kind\":null,\"name\":\"nrows\"},{\"default\":true,\"kind\":null,\"name\":\"allow_resize\"},{\"default\":true,\"kind\":null,\"name\":\"allow_drag\"},{\"default\":[],\"kind\":null,\"name\":\"state\"}]},{\"extends\":null,\"module\":null,\"name\":\"click1\",\"overrides\":[],\"properties\":[{\"default\":\"\",\"kind\":null,\"name\":\"terminal_output\"},{\"default\":\"\",\"kind\":null,\"name\":\"debug_name\"},{\"default\":0,\"kind\":null,\"name\":\"clears\"}]},{\"extends\":null,\"module\":null,\"name\":\"NotificationAreaBase1\",\"overrides\":[],\"properties\":[{\"default\":\"bottom-right\",\"kind\":null,\"name\":\"position\"},{\"default\":0,\"kind\":null,\"name\":\"_clear\"}]},{\"extends\":null,\"module\":null,\"name\":\"NotificationArea1\",\"overrides\":[],\"properties\":[{\"default\":[],\"kind\":null,\"name\":\"notifications\"},{\"default\":\"bottom-right\",\"kind\":null,\"name\":\"position\"},{\"default\":0,\"kind\":null,\"name\":\"_clear\"},{\"default\":[{\"background\":\"#ffc107\",\"icon\":{\"className\":\"fas fa-exclamation-triangle\",\"color\":\"white\",\"tagName\":\"i\"},\"type\":\"warning\"},{\"background\":\"#007bff\",\"icon\":{\"className\":\"fas fa-info-circle\",\"color\":\"white\",\"tagName\":\"i\"},\"type\":\"info\"}],\"kind\":null,\"name\":\"types\"}]},{\"extends\":null,\"module\":null,\"name\":\"Notification\",\"overrides\":[],\"properties\":[{\"default\":null,\"kind\":null,\"name\":\"background\"},{\"default\":3000,\"kind\":null,\"name\":\"duration\"},{\"default\":null,\"kind\":null,\"name\":\"icon\"},{\"default\":\"\",\"kind\":null,\"name\":\"message\"},{\"default\":null,\"kind\":null,\"name\":\"notification_type\"},{\"default\":false,\"kind\":null,\"name\":\"_destroyed\"}]},{\"extends\":null,\"module\":null,\"name\":\"TemplateActions1\",\"overrides\":[],\"properties\":[{\"default\":0,\"kind\":null,\"name\":\"open_modal\"},{\"default\":0,\"kind\":null,\"name\":\"close_modal\"}]},{\"extends\":null,\"module\":null,\"name\":\"MaterialTemplateActions1\",\"overrides\":[],\"properties\":[{\"default\":0,\"kind\":null,\"name\":\"open_modal\"},{\"default\":0,\"kind\":null,\"name\":\"close_modal\"}]}],\"roots\":{\"references\":[{\"attributes\":{\"client_comm_id\":\"426fffea113d4f1f9b7c96d42a087f8f\",\"comm_id\":\"666dc9cb8da1489c84dddec3584aa3b0\",\"plot_id\":\"11558\"},\"id\":\"11668\",\"type\":\"panel.models.comm_manager.CommManager\"},{\"attributes\":{\"active_drag\":{\"id\":\"11584\"},\"active_scroll\":{\"id\":\"11585\"},\"tools\":[{\"id\":\"11566\"},{\"id\":\"11583\"},{\"id\":\"11584\"},{\"id\":\"11585\"},{\"id\":\"11586\"},{\"id\":\"11587\"}]},\"id\":\"11589\",\"type\":\"Toolbar\"},{\"attributes\":{\"axis_label\":\"Sex\",\"coordinates\":null,\"formatter\":{\"id\":\"11610\"},\"group\":null,\"major_label_policy\":{\"id\":\"11611\"},\"ticker\":{\"id\":\"11577\"}},\"id\":\"11576\",\"type\":\"CategoricalAxis\"},{\"attributes\":{\"overlay\":{\"id\":\"11588\"}},\"id\":\"11586\",\"type\":\"BoxZoomTool\"},{\"attributes\":{\"callback\":null,\"renderers\":[{\"id\":\"11603\"}],\"tags\":[\"hv_created\"],\"tooltips\":[[\"Sex\",\"@{Sex}\"],[\"Risk\",\"@{Risk}\"],[\"percent\",\"@{percent}\"]]},\"id\":\"11566\",\"type\":\"HoverTool\"},{\"attributes\":{\"below\":[{\"id\":\"11576\"}],\"center\":[{\"id\":\"11578\"},{\"id\":\"11582\"},{\"id\":\"11615\"}],\"height\":500,\"left\":[{\"id\":\"11579\"}],\"margin\":[5,5,5,5],\"min_border_bottom\":10,\"min_border_left\":10,\"min_border_right\":10,\"min_border_top\":10,\"renderers\":[{\"id\":\"11603\"}],\"right\":[{\"id\":\"11615\"}],\"sizing_mode\":\"fixed\",\"title\":{\"id\":\"11568\"},\"toolbar\":{\"id\":\"11589\"},\"x_range\":{\"id\":\"11564\"},\"x_scale\":{\"id\":\"11572\"},\"y_range\":{\"id\":\"11565\"},\"y_scale\":{\"id\":\"11574\"}},\"id\":\"11567\",\"subtype\":\"Figure\",\"type\":\"Plot\"},{\"attributes\":{},\"id\":\"11611\",\"type\":\"AllLabels\"},{\"attributes\":{},\"id\":\"11577\",\"type\":\"CategoricalTicker\"},{\"attributes\":{\"axis\":{\"id\":\"11576\"},\"coordinates\":null,\"grid_line_color\":null,\"group\":null,\"ticker\":null},\"id\":\"11578\",\"type\":\"Grid\"},{\"attributes\":{\"children\":[{\"id\":\"11559\"}],\"margin\":[0,0,0,0],\"name\":\"Row21567\"},\"id\":\"11558\",\"type\":\"Row\"},{\"attributes\":{},\"id\":\"11598\",\"type\":\"Selection\"},{\"attributes\":{},\"id\":\"11583\",\"type\":\"SaveTool\"},{\"attributes\":{},\"id\":\"11607\",\"type\":\"BasicTickFormatter\"},{\"attributes\":{\"end\":100.0,\"reset_end\":100.0,\"reset_start\":0.0,\"tags\":[[[\"percent\",\"percent\",null]]]},\"id\":\"11565\",\"type\":\"Range1d\"},{\"attributes\":{},\"id\":\"11574\",\"type\":\"LinearScale\"},{\"attributes\":{\"axis\":{\"id\":\"11579\"},\"coordinates\":null,\"dimension\":1,\"grid_line_color\":null,\"group\":null,\"ticker\":null},\"id\":\"11582\",\"type\":\"Grid\"},{\"attributes\":{\"bottom\":{\"field\":\"bottom\"},\"fill_alpha\":{\"value\":1.0},\"fill_color\":{\"field\":\"Risk\",\"transform\":{\"id\":\"11596\"}},\"hatch_alpha\":{\"value\":1.0},\"hatch_color\":{\"field\":\"Risk\",\"transform\":{\"id\":\"11596\"}},\"hatch_scale\":{\"value\":12.0},\"hatch_weight\":{\"value\":1.0},\"line_alpha\":{\"value\":1.0},\"line_cap\":{\"value\":\"butt\"},\"line_color\":{\"value\":\"black\"},\"line_dash\":{\"value\":[]},\"line_dash_offset\":{\"value\":0},\"line_join\":{\"value\":\"bevel\"},\"line_width\":{\"value\":1},\"top\":{\"field\":\"top\"},\"width\":{\"value\":0.8},\"x\":{\"field\":\"Sex\"}},\"id\":\"11617\",\"type\":\"VBar\"},{\"attributes\":{\"margin\":[5,5,5,5],\"name\":\"HSpacer21559\",\"sizing_mode\":\"stretch_width\"},\"id\":\"11563\",\"type\":\"Spacer\"},{\"attributes\":{\"axis_label\":\"Prozentualer Anteil\",\"coordinates\":null,\"formatter\":{\"id\":\"11607\"},\"group\":null,\"major_label_policy\":{\"id\":\"11608\"},\"ticker\":{\"id\":\"11580\"}},\"id\":\"11579\",\"type\":\"LinearAxis\"},{\"attributes\":{\"source\":{\"id\":\"11597\"}},\"id\":\"11604\",\"type\":\"CDSView\"},{\"attributes\":{},\"id\":\"11585\",\"type\":\"WheelZoomTool\"},{\"attributes\":{\"children\":[{\"id\":\"11562\"}],\"margin\":[0,0,0,0],\"name\":\"Column21555\"},\"id\":\"11561\",\"type\":\"Column\"},{\"attributes\":{},\"id\":\"11610\",\"type\":\"CategoricalTickFormatter\"},{\"attributes\":{\"bottom\":{\"field\":\"bottom\"},\"fill_alpha\":{\"value\":0.2},\"fill_color\":{\"field\":\"Risk\",\"transform\":{\"id\":\"11596\"}},\"hatch_alpha\":{\"value\":0.2},\"hatch_color\":{\"field\":\"Risk\",\"transform\":{\"id\":\"11596\"}},\"line_alpha\":{\"value\":0.2},\"top\":{\"field\":\"top\"},\"width\":{\"value\":0.8},\"x\":{\"field\":\"Sex\"}},\"id\":\"11602\",\"type\":\"VBar\"},{\"attributes\":{\"label\":{\"field\":\"Risk\"},\"renderers\":[{\"id\":\"11603\"}]},\"id\":\"11616\",\"type\":\"LegendItem\"},{\"attributes\":{\"data\":{\"Risk\":[\"No Risk\",\"No Risk\",\"Risk\",\"Risk\"],\"Sex\":[\"female\",\"male\",\"female\",\"male\"],\"bottom\":{\"__ndarray__\":\"AAAAAAAAAAAAAAAAAAAAAKPQSImKOEtAYisZJLcrUEA=\",\"dtype\":\"float64\",\"order\":\"little\",\"shape\":[4]},\"percent\":{\"__ndarray__\":\"o9BIiYo4S0BiKxkktytQQFwvt3Z1x0ZAO6nNt5GoQUA=\",\"dtype\":\"float64\",\"order\":\"little\",\"shape\":[4]},\"top\":{\"__ndarray__\":\"o9BIiYo4S0BiKxkktytQQAAAAAAAAFlAAAAAAAAAWUA=\",\"dtype\":\"float64\",\"order\":\"little\",\"shape\":[4]}},\"selected\":{\"id\":\"11598\"},\"selection_policy\":{\"id\":\"11612\"}},\"id\":\"11597\",\"type\":\"ColumnDataSource\"},{\"attributes\":{\"children\":[{\"id\":\"11561\"},{\"id\":\"11563\"}],\"margin\":[0,0,0,0],\"name\":\"Row21560\"},\"id\":\"11560\",\"type\":\"Row\"},{\"attributes\":{},\"id\":\"11587\",\"type\":\"ResetTool\"},{\"attributes\":{},\"id\":\"11584\",\"type\":\"PanTool\"},{\"attributes\":{\"coordinates\":null,\"group\":null,\"text\":\"Verh\\u00e4ltnis von Risikof\\u00e4llen f\\u00fcr kategorische Spalten\",\"text_color\":\"black\",\"text_font_size\":\"12pt\"},\"id\":\"11568\",\"type\":\"Title\"},{\"attributes\":{},\"id\":\"11608\",\"type\":\"AllLabels\"},{\"attributes\":{\"bottom_units\":\"screen\",\"coordinates\":null,\"fill_alpha\":0.5,\"fill_color\":\"lightgrey\",\"group\":null,\"left_units\":\"screen\",\"level\":\"overlay\",\"line_alpha\":1.0,\"line_color\":\"black\",\"line_dash\":[4,4],\"line_width\":2,\"right_units\":\"screen\",\"syncable\":false,\"top_units\":\"screen\"},\"id\":\"11588\",\"type\":\"BoxAnnotation\"},{\"attributes\":{\"bottom\":{\"field\":\"bottom\"},\"fill_alpha\":{\"value\":0.1},\"fill_color\":{\"field\":\"Risk\",\"transform\":{\"id\":\"11596\"}},\"hatch_alpha\":{\"value\":0.1},\"hatch_color\":{\"field\":\"Risk\",\"transform\":{\"id\":\"11596\"}},\"line_alpha\":{\"value\":0.1},\"top\":{\"field\":\"top\"},\"width\":{\"value\":0.8},\"x\":{\"field\":\"Sex\"}},\"id\":\"11601\",\"type\":\"VBar\"},{\"attributes\":{\"children\":[{\"id\":\"11560\"},{\"id\":\"11567\"}],\"margin\":[0,0,0,0],\"name\":\"Column21566\"},\"id\":\"11559\",\"type\":\"Column\"},{\"attributes\":{},\"id\":\"11572\",\"type\":\"CategoricalScale\"},{\"attributes\":{\"margin\":[5,10,5,10],\"options\":[\"Sex\",\"ForeignWorker\",\"LoanPurpose\",\"CheckingStatus\",\"CreditHistory\",\"ExistingSavings\",\"EmploymentDuration\",\"OthersOnLoan\",\"OwnsProperty\",\"InstallmentPlans\",\"Housing\",\"Job\",\"Telephone\"],\"title\":\"Select\",\"value\":\"Sex\"},\"id\":\"11562\",\"type\":\"panel.models.widgets.CustomSelect\"},{\"attributes\":{\"bottom\":{\"field\":\"bottom\"},\"fill_color\":{\"field\":\"Risk\",\"transform\":{\"id\":\"11596\"}},\"hatch_color\":{\"field\":\"Risk\",\"transform\":{\"id\":\"11596\"}},\"top\":{\"field\":\"top\"},\"width\":{\"value\":0.8},\"x\":{\"field\":\"Sex\"}},\"id\":\"11600\",\"type\":\"VBar\"},{\"attributes\":{\"coordinates\":null,\"group\":null,\"items\":[{\"id\":\"11616\"}],\"location\":[0,0]},\"id\":\"11615\",\"type\":\"Legend\"},{\"attributes\":{\"factors\":[\"No Risk\",\"Risk\"],\"palette\":[\"#1a6b54\",\"#ba2649\"]},\"id\":\"11596\",\"type\":\"CategoricalColorMapper\"},{\"attributes\":{\"factors\":[\"female\",\"male\"],\"tags\":[[[\"Sex\",\"Sex\",null]]]},\"id\":\"11564\",\"type\":\"FactorRange\"},{\"attributes\":{\"coordinates\":null,\"data_source\":{\"id\":\"11597\"},\"glyph\":{\"id\":\"11600\"},\"group\":null,\"hover_glyph\":null,\"muted_glyph\":{\"id\":\"11602\"},\"nonselection_glyph\":{\"id\":\"11601\"},\"selection_glyph\":{\"id\":\"11617\"},\"view\":{\"id\":\"11604\"}},\"id\":\"11603\",\"type\":\"GlyphRenderer\"},{\"attributes\":{},\"id\":\"11612\",\"type\":\"UnionRenderers\"},{\"attributes\":{},\"id\":\"11580\",\"type\":\"BasicTicker\"}],\"root_ids\":[\"11558\",\"11668\"]},\"title\":\"Bokeh Application\",\"version\":\"2.4.3\"}};\n",
       "    var render_items = [{\"docid\":\"71f709aa-1507-4921-9a2e-433af7691a31\",\"root_ids\":[\"11558\"],\"roots\":{\"11558\":\"bd61887b-45b4-42fc-b528-a083c094b6ee\"}}];\n",
       "    root.Bokeh.embed.embed_items_notebook(docs_json, render_items);\n",
       "    for (const render_item of render_items) {\n",
       "      for (const root_id of render_item.root_ids) {\n",
       "\tconst id_el = document.getElementById(root_id)\n",
       "\tif (id_el.children.length && (id_el.children[0].className === 'bk-root')) {\n",
       "\t  const root_el = id_el.children[0]\n",
       "\t  root_el.id = root_el.id + '-rendered'\n",
       "\t}\n",
       "      }\n",
       "    }\n",
       "  }\n",
       "  if (root.Bokeh !== undefined && root.Bokeh.Panel !== undefined && ( root['Tabulator'] !== undefined) && ( root['Tabulator'] !== undefined) && ( root['Tabulator'] !== undefined) && ( root['Tabulator'] !== undefined) && ( root['Tabulator'] !== undefined)) {\n",
       "    embed_document(root);\n",
       "  } else {\n",
       "    var attempts = 0;\n",
       "    var timer = setInterval(function(root) {\n",
       "      if (root.Bokeh !== undefined && root.Bokeh.Panel !== undefined && (root['Tabulator'] !== undefined) && (root['Tabulator'] !== undefined) && (root['Tabulator'] !== undefined) && (root['Tabulator'] !== undefined) && (root['Tabulator'] !== undefined)) {\n",
       "        clearInterval(timer);\n",
       "        embed_document(root);\n",
       "      } else if (document.readyState == \"complete\") {\n",
       "        attempts++;\n",
       "        if (attempts > 200) {\n",
       "          clearInterval(timer);\n",
       "          console.log(\"Bokeh: ERROR: Unable to run BokehJS code because BokehJS library is missing\");\n",
       "        }\n",
       "      }\n",
       "    }, 25, root)\n",
       "  }\n",
       "})(window);</script>"
      ],
      "text/plain": [
       "<hvplot.interactive.Interactive at 0x7fe582304c10>"
      ]
     },
     "execution_count": 106,
     "metadata": {
      "application/vnd.holoviews_exec.v0+json": {
       "id": "11558"
      }
     },
     "output_type": "execute_result"
    }
   ],
   "source": [
    "cat_distribution_plot = cat_distribution_pipeline.hvplot.bar(\n",
    "    title=\"Verhältnis von Risikofällen für kategorische Spalten\",\n",
    "    ylabel=\"Prozentualer Anteil\",\n",
    "    stacked=True,\n",
    "    height=500,\n",
    "    width=600,\n",
    "    color=[\"#1a6b54\", \"#ba2649\"]\n",
    ")\n",
    "cat_distribution_plot"
   ]
  },
  {
   "cell_type": "code",
   "execution_count": 9,
   "id": "1b48c975-d565-4ab9-9990-49c2d0d27d86",
   "metadata": {
    "tags": []
   },
   "outputs": [],
   "source": [
    "# Maybe To-Do: add Radio button for relativ and absolute results. If not possible add two vizualisations\n",
    "#yaxis_co2 = pn.widgets.RadioButtonGroup(\n",
    "#    name='Y axis', \n",
    "#    options=['Relativ', 'Absolut',],\n",
    "#    button_type='success'\n",
    "#)\n",
    "#yaxis_co2"
   ]
  },
  {
   "cell_type": "markdown",
   "id": "354e0dab-f879-4ab3-b350-51aa644da25d",
   "metadata": {},
   "source": [
    "## (2) Verteilung von Risikofällen für numerische Spalten"
   ]
  },
  {
   "cell_type": "code",
   "execution_count": 107,
   "id": "13d6e808-8d6d-411c-af5f-687aaeeab53a",
   "metadata": {
    "tags": []
   },
   "outputs": [],
   "source": [
    "df['Risk'] = df['Risk'].replace({'Risk': 1, 'No Risk': 0})"
   ]
  },
  {
   "cell_type": "code",
   "execution_count": 108,
   "id": "12b991cd-985b-4730-8611-9447e1ddc617",
   "metadata": {
    "tags": []
   },
   "outputs": [
    {
     "data": {},
     "metadata": {},
     "output_type": "display_data"
    },
    {
     "data": {
      "application/vnd.holoviews_exec.v0+json": "",
      "text/html": [
       "<div id='11719'>\n",
       "  <div class=\"bk-root\" id=\"865a9d95-445e-47b4-a855-e4ea8a7061e1\" data-root-id=\"11719\"></div>\n",
       "</div>\n",
       "<script type=\"application/javascript\">(function(root) {\n",
       "  function embed_document(root) {\n",
       "    var docs_json = {\"12dea3f7-cc11-4007-932e-38ee9cf45b33\":{\"defs\":[{\"extends\":null,\"module\":null,\"name\":\"ReactiveHTML1\",\"overrides\":[],\"properties\":[]},{\"extends\":null,\"module\":null,\"name\":\"FlexBox1\",\"overrides\":[],\"properties\":[{\"default\":\"flex-start\",\"kind\":null,\"name\":\"align_content\"},{\"default\":\"flex-start\",\"kind\":null,\"name\":\"align_items\"},{\"default\":\"row\",\"kind\":null,\"name\":\"flex_direction\"},{\"default\":\"wrap\",\"kind\":null,\"name\":\"flex_wrap\"},{\"default\":\"flex-start\",\"kind\":null,\"name\":\"justify_content\"}]},{\"extends\":null,\"module\":null,\"name\":\"GridStack1\",\"overrides\":[],\"properties\":[{\"default\":\"warn\",\"kind\":null,\"name\":\"mode\"},{\"default\":null,\"kind\":null,\"name\":\"ncols\"},{\"default\":null,\"kind\":null,\"name\":\"nrows\"},{\"default\":true,\"kind\":null,\"name\":\"allow_resize\"},{\"default\":true,\"kind\":null,\"name\":\"allow_drag\"},{\"default\":[],\"kind\":null,\"name\":\"state\"}]},{\"extends\":null,\"module\":null,\"name\":\"click1\",\"overrides\":[],\"properties\":[{\"default\":\"\",\"kind\":null,\"name\":\"terminal_output\"},{\"default\":\"\",\"kind\":null,\"name\":\"debug_name\"},{\"default\":0,\"kind\":null,\"name\":\"clears\"}]},{\"extends\":null,\"module\":null,\"name\":\"NotificationAreaBase1\",\"overrides\":[],\"properties\":[{\"default\":\"bottom-right\",\"kind\":null,\"name\":\"position\"},{\"default\":0,\"kind\":null,\"name\":\"_clear\"}]},{\"extends\":null,\"module\":null,\"name\":\"NotificationArea1\",\"overrides\":[],\"properties\":[{\"default\":[],\"kind\":null,\"name\":\"notifications\"},{\"default\":\"bottom-right\",\"kind\":null,\"name\":\"position\"},{\"default\":0,\"kind\":null,\"name\":\"_clear\"},{\"default\":[{\"background\":\"#ffc107\",\"icon\":{\"className\":\"fas fa-exclamation-triangle\",\"color\":\"white\",\"tagName\":\"i\"},\"type\":\"warning\"},{\"background\":\"#007bff\",\"icon\":{\"className\":\"fas fa-info-circle\",\"color\":\"white\",\"tagName\":\"i\"},\"type\":\"info\"}],\"kind\":null,\"name\":\"types\"}]},{\"extends\":null,\"module\":null,\"name\":\"Notification\",\"overrides\":[],\"properties\":[{\"default\":null,\"kind\":null,\"name\":\"background\"},{\"default\":3000,\"kind\":null,\"name\":\"duration\"},{\"default\":null,\"kind\":null,\"name\":\"icon\"},{\"default\":\"\",\"kind\":null,\"name\":\"message\"},{\"default\":null,\"kind\":null,\"name\":\"notification_type\"},{\"default\":false,\"kind\":null,\"name\":\"_destroyed\"}]},{\"extends\":null,\"module\":null,\"name\":\"TemplateActions1\",\"overrides\":[],\"properties\":[{\"default\":0,\"kind\":null,\"name\":\"open_modal\"},{\"default\":0,\"kind\":null,\"name\":\"close_modal\"}]},{\"extends\":null,\"module\":null,\"name\":\"MaterialTemplateActions1\",\"overrides\":[],\"properties\":[{\"default\":0,\"kind\":null,\"name\":\"open_modal\"},{\"default\":0,\"kind\":null,\"name\":\"close_modal\"}]}],\"roots\":{\"references\":[{\"attributes\":{\"margin\":[5,10,5,10],\"options\":[\"LoanDuration\",\"Age\",\"LoanAmount\",\"InstallmentPercent\",\"CurrentResidenceDuration\",\"ExistingCreditsCount\",\"Dependents\"],\"title\":\"Select\",\"value\":\"LoanDuration\"},\"id\":\"11719\",\"type\":\"panel.models.widgets.CustomSelect\"},{\"attributes\":{\"client_comm_id\":\"1c7405108f9a471d8acec2f3db283c00\",\"comm_id\":\"3fbb3eae370e47378998c6f1fb303fee\",\"plot_id\":\"11719\"},\"id\":\"11720\",\"type\":\"panel.models.comm_manager.CommManager\"}],\"root_ids\":[\"11719\",\"11720\"]},\"title\":\"Bokeh Application\",\"version\":\"2.4.3\"}};\n",
       "    var render_items = [{\"docid\":\"12dea3f7-cc11-4007-932e-38ee9cf45b33\",\"root_ids\":[\"11719\"],\"roots\":{\"11719\":\"865a9d95-445e-47b4-a855-e4ea8a7061e1\"}}];\n",
       "    root.Bokeh.embed.embed_items_notebook(docs_json, render_items);\n",
       "    for (const render_item of render_items) {\n",
       "      for (const root_id of render_item.root_ids) {\n",
       "\tconst id_el = document.getElementById(root_id)\n",
       "\tif (id_el.children.length && (id_el.children[0].className === 'bk-root')) {\n",
       "\t  const root_el = id_el.children[0]\n",
       "\t  root_el.id = root_el.id + '-rendered'\n",
       "\t}\n",
       "      }\n",
       "    }\n",
       "  }\n",
       "  if (root.Bokeh !== undefined && root.Bokeh.Panel !== undefined && ( root['Tabulator'] !== undefined) && ( root['Tabulator'] !== undefined) && ( root['Tabulator'] !== undefined) && ( root['Tabulator'] !== undefined) && ( root['Tabulator'] !== undefined)) {\n",
       "    embed_document(root);\n",
       "  } else {\n",
       "    var attempts = 0;\n",
       "    var timer = setInterval(function(root) {\n",
       "      if (root.Bokeh !== undefined && root.Bokeh.Panel !== undefined && (root['Tabulator'] !== undefined) && (root['Tabulator'] !== undefined) && (root['Tabulator'] !== undefined) && (root['Tabulator'] !== undefined) && (root['Tabulator'] !== undefined)) {\n",
       "        clearInterval(timer);\n",
       "        embed_document(root);\n",
       "      } else if (document.readyState == \"complete\") {\n",
       "        attempts++;\n",
       "        if (attempts > 200) {\n",
       "          clearInterval(timer);\n",
       "          console.log(\"Bokeh: ERROR: Unable to run BokehJS code because BokehJS library is missing\");\n",
       "        }\n",
       "      }\n",
       "    }, 25, root)\n",
       "  }\n",
       "})(window);</script>"
      ],
      "text/plain": [
       "Select(options=['LoanDuration', ...], value='LoanDuration')"
      ]
     },
     "execution_count": 108,
     "metadata": {
      "application/vnd.holoviews_exec.v0+json": {
       "id": "11719"
      }
     },
     "output_type": "execute_result"
    }
   ],
   "source": [
    "select_num_distribution_pipeline = pn.widgets.Select(name='Select', options=num_columns)\n",
    "select_num_distribution_pipeline"
   ]
  },
  {
   "cell_type": "code",
   "execution_count": 109,
   "id": "96b7ed90-92db-41b2-a2ab-ea80aa34d2db",
   "metadata": {
    "tags": []
   },
   "outputs": [
    {
     "data": {},
     "metadata": {},
     "output_type": "display_data"
    },
    {
     "data": {
      "application/vnd.holoviews_exec.v0+json": "",
      "text/html": [
       "<div id='11721'>\n",
       "  <div class=\"bk-root\" id=\"2d902104-5176-4ab1-b55e-3e85d49dfb64\" data-root-id=\"11721\"></div>\n",
       "</div>\n",
       "<script type=\"application/javascript\">(function(root) {\n",
       "  function embed_document(root) {\n",
       "    var docs_json = {\"9d727e55-f1a9-420e-96b1-57460cd1baef\":{\"defs\":[{\"extends\":null,\"module\":null,\"name\":\"ReactiveHTML1\",\"overrides\":[],\"properties\":[]},{\"extends\":null,\"module\":null,\"name\":\"FlexBox1\",\"overrides\":[],\"properties\":[{\"default\":\"flex-start\",\"kind\":null,\"name\":\"align_content\"},{\"default\":\"flex-start\",\"kind\":null,\"name\":\"align_items\"},{\"default\":\"row\",\"kind\":null,\"name\":\"flex_direction\"},{\"default\":\"wrap\",\"kind\":null,\"name\":\"flex_wrap\"},{\"default\":\"flex-start\",\"kind\":null,\"name\":\"justify_content\"}]},{\"extends\":null,\"module\":null,\"name\":\"GridStack1\",\"overrides\":[],\"properties\":[{\"default\":\"warn\",\"kind\":null,\"name\":\"mode\"},{\"default\":null,\"kind\":null,\"name\":\"ncols\"},{\"default\":null,\"kind\":null,\"name\":\"nrows\"},{\"default\":true,\"kind\":null,\"name\":\"allow_resize\"},{\"default\":true,\"kind\":null,\"name\":\"allow_drag\"},{\"default\":[],\"kind\":null,\"name\":\"state\"}]},{\"extends\":null,\"module\":null,\"name\":\"click1\",\"overrides\":[],\"properties\":[{\"default\":\"\",\"kind\":null,\"name\":\"terminal_output\"},{\"default\":\"\",\"kind\":null,\"name\":\"debug_name\"},{\"default\":0,\"kind\":null,\"name\":\"clears\"}]},{\"extends\":null,\"module\":null,\"name\":\"NotificationAreaBase1\",\"overrides\":[],\"properties\":[{\"default\":\"bottom-right\",\"kind\":null,\"name\":\"position\"},{\"default\":0,\"kind\":null,\"name\":\"_clear\"}]},{\"extends\":null,\"module\":null,\"name\":\"NotificationArea1\",\"overrides\":[],\"properties\":[{\"default\":[],\"kind\":null,\"name\":\"notifications\"},{\"default\":\"bottom-right\",\"kind\":null,\"name\":\"position\"},{\"default\":0,\"kind\":null,\"name\":\"_clear\"},{\"default\":[{\"background\":\"#ffc107\",\"icon\":{\"className\":\"fas fa-exclamation-triangle\",\"color\":\"white\",\"tagName\":\"i\"},\"type\":\"warning\"},{\"background\":\"#007bff\",\"icon\":{\"className\":\"fas fa-info-circle\",\"color\":\"white\",\"tagName\":\"i\"},\"type\":\"info\"}],\"kind\":null,\"name\":\"types\"}]},{\"extends\":null,\"module\":null,\"name\":\"Notification\",\"overrides\":[],\"properties\":[{\"default\":null,\"kind\":null,\"name\":\"background\"},{\"default\":3000,\"kind\":null,\"name\":\"duration\"},{\"default\":null,\"kind\":null,\"name\":\"icon\"},{\"default\":\"\",\"kind\":null,\"name\":\"message\"},{\"default\":null,\"kind\":null,\"name\":\"notification_type\"},{\"default\":false,\"kind\":null,\"name\":\"_destroyed\"}]},{\"extends\":null,\"module\":null,\"name\":\"TemplateActions1\",\"overrides\":[],\"properties\":[{\"default\":0,\"kind\":null,\"name\":\"open_modal\"},{\"default\":0,\"kind\":null,\"name\":\"close_modal\"}]},{\"extends\":null,\"module\":null,\"name\":\"MaterialTemplateActions1\",\"overrides\":[],\"properties\":[{\"default\":0,\"kind\":null,\"name\":\"open_modal\"},{\"default\":0,\"kind\":null,\"name\":\"close_modal\"}]}],\"roots\":{\"references\":[{\"attributes\":{\"children\":[{\"id\":\"11722\"}],\"margin\":[0,0,0,0],\"name\":\"Row22177\"},\"id\":\"11721\",\"type\":\"Row\"},{\"attributes\":{\"children\":[{\"id\":\"11727\"},{\"id\":\"11728\"}],\"margin\":[0,0,0,0],\"name\":\"Column22169\"},\"id\":\"11726\",\"type\":\"Column\"},{\"attributes\":{\"children\":[{\"id\":\"11723\"},{\"id\":\"11726\"}],\"margin\":[0,0,0,0],\"name\":\"Column22176\"},\"id\":\"11722\",\"type\":\"Column\"},{\"attributes\":{\"children\":[{\"id\":\"11729\"}],\"margin\":[0,0,0,0],\"name\":\"Row22172\"},\"id\":\"11728\",\"type\":\"Row\"},{\"attributes\":{\"children\":[{\"id\":\"11724\"},{\"id\":\"11725\"}],\"margin\":[0,0,0,0],\"name\":\"Row22175\"},\"id\":\"11723\",\"type\":\"Row\"},{\"attributes\":{\"margin\":[5,5,5,5],\"name\":\"DataFrame22170\",\"text\":\"&lt;table class=&quot;dataframe panel-df&quot;&gt;\\n  &lt;thead&gt;\\n    &lt;tr style=&quot;text-align: right;&quot;&gt;\\n      &lt;th&gt;&lt;/th&gt;\\n      &lt;th&gt;Age&lt;/th&gt;\\n      &lt;th&gt;total&lt;/th&gt;\\n      &lt;th&gt;Risk&lt;/th&gt;\\n      &lt;th&gt;NoRisk&lt;/th&gt;\\n    &lt;/tr&gt;\\n  &lt;/thead&gt;\\n  &lt;tbody&gt;\\n    &lt;tr&gt;\\n      &lt;th&gt;3542&lt;/th&gt;\\n      &lt;td&gt;19&lt;/td&gt;\\n      &lt;td&gt;426&lt;/td&gt;\\n      &lt;td&gt;0.922535&lt;/td&gt;\\n      &lt;td&gt;0.077465&lt;/td&gt;\\n    &lt;/tr&gt;\\n    &lt;tr&gt;\\n      &lt;th&gt;2900&lt;/th&gt;\\n      &lt;td&gt;20&lt;/td&gt;\\n      &lt;td&gt;79&lt;/td&gt;\\n      &lt;td&gt;0.936709&lt;/td&gt;\\n      &lt;td&gt;0.063291&lt;/td&gt;\\n    &lt;/tr&gt;\\n    &lt;tr&gt;\\n      &lt;th&gt;3853&lt;/th&gt;\\n      &lt;td&gt;21&lt;/td&gt;\\n      &lt;td&gt;78&lt;/td&gt;\\n      &lt;td&gt;0.910256&lt;/td&gt;\\n      &lt;td&gt;0.089744&lt;/td&gt;\\n    &lt;/tr&gt;\\n    &lt;tr&gt;\\n      &lt;th&gt;3631&lt;/th&gt;\\n      &lt;td&gt;22&lt;/td&gt;\\n      &lt;td&gt;104&lt;/td&gt;\\n      &lt;td&gt;0.875000&lt;/td&gt;\\n      &lt;td&gt;0.125000&lt;/td&gt;\\n    &lt;/tr&gt;\\n    &lt;tr&gt;\\n      &lt;th&gt;3749&lt;/th&gt;\\n      &lt;td&gt;23&lt;/td&gt;\\n      &lt;td&gt;87&lt;/td&gt;\\n      &lt;td&gt;0.908046&lt;/td&gt;\\n      &lt;td&gt;0.091954&lt;/td&gt;\\n    &lt;/tr&gt;\\n    &lt;tr&gt;\\n      &lt;th&gt;4699&lt;/th&gt;\\n      &lt;td&gt;24&lt;/td&gt;\\n      &lt;td&gt;108&lt;/td&gt;\\n      &lt;td&gt;0.907407&lt;/td&gt;\\n      &lt;td&gt;0.092593&lt;/td&gt;\\n    &lt;/tr&gt;\\n    &lt;tr&gt;\\n      &lt;th&gt;5297&lt;/th&gt;\\n      &lt;td&gt;25&lt;/td&gt;\\n      &lt;td&gt;108&lt;/td&gt;\\n      &lt;td&gt;0.861111&lt;/td&gt;\\n      &lt;td&gt;0.138889&lt;/td&gt;\\n    &lt;/tr&gt;\\n    &lt;tr&gt;\\n      &lt;th&gt;4470&lt;/th&gt;\\n      &lt;td&gt;26&lt;/td&gt;\\n      &lt;td&gt;116&lt;/td&gt;\\n      &lt;td&gt;0.870690&lt;/td&gt;\\n      &lt;td&gt;0.129310&lt;/td&gt;\\n    &lt;/tr&gt;\\n    &lt;tr&gt;\\n      &lt;th&gt;2465&lt;/th&gt;\\n      &lt;td&gt;27&lt;/td&gt;\\n      &lt;td&gt;128&lt;/td&gt;\\n      &lt;td&gt;0.789062&lt;/td&gt;\\n      &lt;td&gt;0.210938&lt;/td&gt;\\n    &lt;/tr&gt;\\n    &lt;tr&gt;\\n      &lt;th&gt;1915&lt;/th&gt;\\n      &lt;td&gt;28&lt;/td&gt;\\n      &lt;td&gt;157&lt;/td&gt;\\n      &lt;td&gt;0.834395&lt;/td&gt;\\n      &lt;td&gt;0.165605&lt;/td&gt;\\n    &lt;/tr&gt;\\n    &lt;tr&gt;\\n      &lt;th&gt;4741&lt;/th&gt;\\n      &lt;td&gt;29&lt;/td&gt;\\n      &lt;td&gt;155&lt;/td&gt;\\n      &lt;td&gt;0.832258&lt;/td&gt;\\n      &lt;td&gt;0.167742&lt;/td&gt;\\n    &lt;/tr&gt;\\n    &lt;tr&gt;\\n      &lt;th&gt;4838&lt;/th&gt;\\n      &lt;td&gt;30&lt;/td&gt;\\n      &lt;td&gt;150&lt;/td&gt;\\n      &lt;td&gt;0.726667&lt;/td&gt;\\n      &lt;td&gt;0.273333&lt;/td&gt;\\n    &lt;/tr&gt;\\n    &lt;tr&gt;\\n      &lt;th&gt;3033&lt;/th&gt;\\n      &lt;td&gt;31&lt;/td&gt;\\n      &lt;td&gt;179&lt;/td&gt;\\n      &lt;td&gt;0.754190&lt;/td&gt;\\n      &lt;td&gt;0.245810&lt;/td&gt;\\n    &lt;/tr&gt;\\n    &lt;tr&gt;\\n      &lt;th&gt;4616&lt;/th&gt;\\n      &lt;td&gt;32&lt;/td&gt;\\n      &lt;td&gt;168&lt;/td&gt;\\n      &lt;td&gt;0.750000&lt;/td&gt;\\n      &lt;td&gt;0.250000&lt;/td&gt;\\n    &lt;/tr&gt;\\n    &lt;tr&gt;\\n      &lt;th&gt;3774&lt;/th&gt;\\n      &lt;td&gt;33&lt;/td&gt;\\n      &lt;td&gt;180&lt;/td&gt;\\n      &lt;td&gt;0.694444&lt;/td&gt;\\n      &lt;td&gt;0.305556&lt;/td&gt;\\n    &lt;/tr&gt;\\n    &lt;tr&gt;\\n      &lt;th&gt;3200&lt;/th&gt;\\n      &lt;td&gt;34&lt;/td&gt;\\n      &lt;td&gt;192&lt;/td&gt;\\n      &lt;td&gt;0.651042&lt;/td&gt;\\n      &lt;td&gt;0.348958&lt;/td&gt;\\n    &lt;/tr&gt;\\n    &lt;tr&gt;\\n      &lt;th&gt;2778&lt;/th&gt;\\n      &lt;td&gt;35&lt;/td&gt;\\n      &lt;td&gt;150&lt;/td&gt;\\n      &lt;td&gt;0.613333&lt;/td&gt;\\n      &lt;td&gt;0.386667&lt;/td&gt;\\n    &lt;/tr&gt;\\n    &lt;tr&gt;\\n      &lt;th&gt;3511&lt;/th&gt;\\n      &lt;td&gt;36&lt;/td&gt;\\n      &lt;td&gt;207&lt;/td&gt;\\n      &lt;td&gt;0.618357&lt;/td&gt;\\n      &lt;td&gt;0.381643&lt;/td&gt;\\n    &lt;/tr&gt;\\n    &lt;tr&gt;\\n      &lt;th&gt;5307&lt;/th&gt;\\n      &lt;td&gt;37&lt;/td&gt;\\n      &lt;td&gt;186&lt;/td&gt;\\n      &lt;td&gt;0.618280&lt;/td&gt;\\n      &lt;td&gt;0.381720&lt;/td&gt;\\n    &lt;/tr&gt;\\n    &lt;tr&gt;\\n      &lt;th&gt;2196&lt;/th&gt;\\n      &lt;td&gt;38&lt;/td&gt;\\n      &lt;td&gt;173&lt;/td&gt;\\n      &lt;td&gt;0.578035&lt;/td&gt;\\n      &lt;td&gt;0.421965&lt;/td&gt;\\n    &lt;/tr&gt;\\n    &lt;tr&gt;\\n      &lt;th&gt;1632&lt;/th&gt;\\n      &lt;td&gt;39&lt;/td&gt;\\n      &lt;td&gt;185&lt;/td&gt;\\n      &lt;td&gt;0.486486&lt;/td&gt;\\n      &lt;td&gt;0.513514&lt;/td&gt;\\n    &lt;/tr&gt;\\n    &lt;tr&gt;\\n      &lt;th&gt;4325&lt;/th&gt;\\n      &lt;td&gt;40&lt;/td&gt;\\n      &lt;td&gt;191&lt;/td&gt;\\n      &lt;td&gt;0.523560&lt;/td&gt;\\n      &lt;td&gt;0.476440&lt;/td&gt;\\n    &lt;/tr&gt;\\n    &lt;tr&gt;\\n      &lt;th&gt;1564&lt;/th&gt;\\n      &lt;td&gt;41&lt;/td&gt;\\n      &lt;td&gt;188&lt;/td&gt;\\n      &lt;td&gt;0.585106&lt;/td&gt;\\n      &lt;td&gt;0.414894&lt;/td&gt;\\n    &lt;/tr&gt;\\n    &lt;tr&gt;\\n      &lt;th&gt;1348&lt;/th&gt;\\n      &lt;td&gt;42&lt;/td&gt;\\n      &lt;td&gt;168&lt;/td&gt;\\n      &lt;td&gt;0.553571&lt;/td&gt;\\n      &lt;td&gt;0.446429&lt;/td&gt;\\n    &lt;/tr&gt;\\n    &lt;tr&gt;\\n      &lt;th&gt;4359&lt;/th&gt;\\n      &lt;td&gt;43&lt;/td&gt;\\n      &lt;td&gt;171&lt;/td&gt;\\n      &lt;td&gt;0.432749&lt;/td&gt;\\n      &lt;td&gt;0.567251&lt;/td&gt;\\n    &lt;/tr&gt;\\n    &lt;tr&gt;\\n      &lt;th&gt;13&lt;/th&gt;\\n      &lt;td&gt;44&lt;/td&gt;\\n      &lt;td&gt;157&lt;/td&gt;\\n      &lt;td&gt;0.490446&lt;/td&gt;\\n      &lt;td&gt;0.509554&lt;/td&gt;\\n    &lt;/tr&gt;\\n    &lt;tr&gt;\\n      &lt;th&gt;138&lt;/th&gt;\\n      &lt;td&gt;45&lt;/td&gt;\\n      &lt;td&gt;171&lt;/td&gt;\\n      &lt;td&gt;0.274854&lt;/td&gt;\\n      &lt;td&gt;0.725146&lt;/td&gt;\\n    &lt;/tr&gt;\\n    &lt;tr&gt;\\n      &lt;th&gt;5033&lt;/th&gt;\\n      &lt;td&gt;46&lt;/td&gt;\\n      &lt;td&gt;167&lt;/td&gt;\\n      &lt;td&gt;0.383234&lt;/td&gt;\\n      &lt;td&gt;0.616766&lt;/td&gt;\\n    &lt;/tr&gt;\\n    &lt;tr&gt;\\n      &lt;th&gt;987&lt;/th&gt;\\n      &lt;td&gt;47&lt;/td&gt;\\n      &lt;td&gt;130&lt;/td&gt;\\n      &lt;td&gt;0.369231&lt;/td&gt;\\n      &lt;td&gt;0.630769&lt;/td&gt;\\n    &lt;/tr&gt;\\n    &lt;tr&gt;\\n      &lt;th&gt;4051&lt;/th&gt;\\n      &lt;td&gt;48&lt;/td&gt;\\n      &lt;td&gt;118&lt;/td&gt;\\n      &lt;td&gt;0.330508&lt;/td&gt;\\n      &lt;td&gt;0.669492&lt;/td&gt;\\n    &lt;/tr&gt;\\n    &lt;tr&gt;\\n      &lt;th&gt;4994&lt;/th&gt;\\n      &lt;td&gt;49&lt;/td&gt;\\n      &lt;td&gt;116&lt;/td&gt;\\n      &lt;td&gt;0.310345&lt;/td&gt;\\n      &lt;td&gt;0.689655&lt;/td&gt;\\n    &lt;/tr&gt;\\n    &lt;tr&gt;\\n      &lt;th&gt;3954&lt;/th&gt;\\n      &lt;td&gt;50&lt;/td&gt;\\n      &lt;td&gt;99&lt;/td&gt;\\n      &lt;td&gt;0.333333&lt;/td&gt;\\n      &lt;td&gt;0.666667&lt;/td&gt;\\n    &lt;/tr&gt;\\n    &lt;tr&gt;\\n      &lt;th&gt;5306&lt;/th&gt;\\n      &lt;td&gt;51&lt;/td&gt;\\n      &lt;td&gt;92&lt;/td&gt;\\n      &lt;td&gt;0.239130&lt;/td&gt;\\n      &lt;td&gt;0.760870&lt;/td&gt;\\n    &lt;/tr&gt;\\n    &lt;tr&gt;\\n      &lt;th&gt;1935&lt;/th&gt;\\n      &lt;td&gt;52&lt;/td&gt;\\n      &lt;td&gt;87&lt;/td&gt;\\n      &lt;td&gt;0.229885&lt;/td&gt;\\n      &lt;td&gt;0.770115&lt;/td&gt;\\n    &lt;/tr&gt;\\n    &lt;tr&gt;\\n      &lt;th&gt;1548&lt;/th&gt;\\n      &lt;td&gt;53&lt;/td&gt;\\n      &lt;td&gt;67&lt;/td&gt;\\n      &lt;td&gt;0.253731&lt;/td&gt;\\n      &lt;td&gt;0.746269&lt;/td&gt;\\n    &lt;/tr&gt;\\n    &lt;tr&gt;\\n      &lt;th&gt;2520&lt;/th&gt;\\n      &lt;td&gt;54&lt;/td&gt;\\n      &lt;td&gt;62&lt;/td&gt;\\n      &lt;td&gt;0.274194&lt;/td&gt;\\n      &lt;td&gt;0.725806&lt;/td&gt;\\n    &lt;/tr&gt;\\n    &lt;tr&gt;\\n      &lt;th&gt;5450&lt;/th&gt;\\n      &lt;td&gt;55&lt;/td&gt;\\n      &lt;td&gt;55&lt;/td&gt;\\n      &lt;td&gt;0.145455&lt;/td&gt;\\n      &lt;td&gt;0.854545&lt;/td&gt;\\n    &lt;/tr&gt;\\n    &lt;tr&gt;\\n      &lt;th&gt;5242&lt;/th&gt;\\n      &lt;td&gt;56&lt;/td&gt;\\n      &lt;td&gt;36&lt;/td&gt;\\n      &lt;td&gt;0.138889&lt;/td&gt;\\n      &lt;td&gt;0.861111&lt;/td&gt;\\n    &lt;/tr&gt;\\n    &lt;tr&gt;\\n      &lt;th&gt;5466&lt;/th&gt;\\n      &lt;td&gt;57&lt;/td&gt;\\n      &lt;td&gt;36&lt;/td&gt;\\n      &lt;td&gt;0.138889&lt;/td&gt;\\n      &lt;td&gt;0.861111&lt;/td&gt;\\n    &lt;/tr&gt;\\n    &lt;tr&gt;\\n      &lt;th&gt;4536&lt;/th&gt;\\n      &lt;td&gt;58&lt;/td&gt;\\n      &lt;td&gt;29&lt;/td&gt;\\n      &lt;td&gt;0.137931&lt;/td&gt;\\n      &lt;td&gt;0.862069&lt;/td&gt;\\n    &lt;/tr&gt;\\n    &lt;tr&gt;\\n      &lt;th&gt;4042&lt;/th&gt;\\n      &lt;td&gt;59&lt;/td&gt;\\n      &lt;td&gt;21&lt;/td&gt;\\n      &lt;td&gt;0.095238&lt;/td&gt;\\n      &lt;td&gt;0.904762&lt;/td&gt;\\n    &lt;/tr&gt;\\n    &lt;tr&gt;\\n      &lt;th&gt;4396&lt;/th&gt;\\n      &lt;td&gt;60&lt;/td&gt;\\n      &lt;td&gt;23&lt;/td&gt;\\n      &lt;td&gt;0.043478&lt;/td&gt;\\n      &lt;td&gt;0.956522&lt;/td&gt;\\n    &lt;/tr&gt;\\n    &lt;tr&gt;\\n      &lt;th&gt;1908&lt;/th&gt;\\n      &lt;td&gt;61&lt;/td&gt;\\n      &lt;td&gt;16&lt;/td&gt;\\n      &lt;td&gt;0.125000&lt;/td&gt;\\n      &lt;td&gt;0.875000&lt;/td&gt;\\n    &lt;/tr&gt;\\n    &lt;tr&gt;\\n      &lt;th&gt;717&lt;/th&gt;\\n      &lt;td&gt;62&lt;/td&gt;\\n      &lt;td&gt;6&lt;/td&gt;\\n      &lt;td&gt;0.166667&lt;/td&gt;\\n      &lt;td&gt;0.833333&lt;/td&gt;\\n    &lt;/tr&gt;\\n    &lt;tr&gt;\\n      &lt;th&gt;2357&lt;/th&gt;\\n      &lt;td&gt;63&lt;/td&gt;\\n      &lt;td&gt;5&lt;/td&gt;\\n      &lt;td&gt;0.200000&lt;/td&gt;\\n      &lt;td&gt;0.800000&lt;/td&gt;\\n    &lt;/tr&gt;\\n    &lt;tr&gt;\\n      &lt;th&gt;4755&lt;/th&gt;\\n      &lt;td&gt;64&lt;/td&gt;\\n      &lt;td&gt;6&lt;/td&gt;\\n      &lt;td&gt;0.166667&lt;/td&gt;\\n      &lt;td&gt;0.833333&lt;/td&gt;\\n    &lt;/tr&gt;\\n    &lt;tr&gt;\\n      &lt;th&gt;5543&lt;/th&gt;\\n      &lt;td&gt;65&lt;/td&gt;\\n      &lt;td&gt;6&lt;/td&gt;\\n      &lt;td&gt;0.166667&lt;/td&gt;\\n      &lt;td&gt;0.833333&lt;/td&gt;\\n    &lt;/tr&gt;\\n    &lt;tr&gt;\\n      &lt;th&gt;5544&lt;/th&gt;\\n      &lt;td&gt;66&lt;/td&gt;\\n      &lt;td&gt;5&lt;/td&gt;\\n      &lt;td&gt;0.200000&lt;/td&gt;\\n      &lt;td&gt;0.800000&lt;/td&gt;\\n    &lt;/tr&gt;\\n    &lt;tr&gt;\\n      &lt;th&gt;1611&lt;/th&gt;\\n      &lt;td&gt;67&lt;/td&gt;\\n      &lt;td&gt;2&lt;/td&gt;\\n      &lt;td&gt;0.500000&lt;/td&gt;\\n      &lt;td&gt;0.500000&lt;/td&gt;\\n    &lt;/tr&gt;\\n  &lt;/tbody&gt;\\n&lt;/table&gt;\"},\"id\":\"11729\",\"type\":\"panel.models.markup.HTML\"},{\"attributes\":{\"client_comm_id\":\"310c3e2ad0114fafb4afc570aa882bf0\",\"comm_id\":\"0324dc9cf8944c529aa62f60ead50262\",\"plot_id\":\"11721\"},\"id\":\"11730\",\"type\":\"panel.models.comm_manager.CommManager\"},{\"attributes\":{\"margin\":[0,0,0,0],\"name\":\"Column22167\"},\"id\":\"11724\",\"type\":\"Column\"},{\"attributes\":{\"margin\":[0,0,0,0],\"name\":\"Column22173\"},\"id\":\"11727\",\"type\":\"Column\"},{\"attributes\":{\"margin\":[5,5,5,5],\"name\":\"HSpacer22174\",\"sizing_mode\":\"stretch_width\"},\"id\":\"11725\",\"type\":\"Spacer\"}],\"root_ids\":[\"11721\",\"11730\"]},\"title\":\"Bokeh Application\",\"version\":\"2.4.3\"}};\n",
       "    var render_items = [{\"docid\":\"9d727e55-f1a9-420e-96b1-57460cd1baef\",\"root_ids\":[\"11721\"],\"roots\":{\"11721\":\"2d902104-5176-4ab1-b55e-3e85d49dfb64\"}}];\n",
       "    root.Bokeh.embed.embed_items_notebook(docs_json, render_items);\n",
       "    for (const render_item of render_items) {\n",
       "      for (const root_id of render_item.root_ids) {\n",
       "\tconst id_el = document.getElementById(root_id)\n",
       "\tif (id_el.children.length && (id_el.children[0].className === 'bk-root')) {\n",
       "\t  const root_el = id_el.children[0]\n",
       "\t  root_el.id = root_el.id + '-rendered'\n",
       "\t}\n",
       "      }\n",
       "    }\n",
       "  }\n",
       "  if (root.Bokeh !== undefined && root.Bokeh.Panel !== undefined && ( root['Tabulator'] !== undefined) && ( root['Tabulator'] !== undefined) && ( root['Tabulator'] !== undefined) && ( root['Tabulator'] !== undefined) && ( root['Tabulator'] !== undefined)) {\n",
       "    embed_document(root);\n",
       "  } else {\n",
       "    var attempts = 0;\n",
       "    var timer = setInterval(function(root) {\n",
       "      if (root.Bokeh !== undefined && root.Bokeh.Panel !== undefined && (root['Tabulator'] !== undefined) && (root['Tabulator'] !== undefined) && (root['Tabulator'] !== undefined) && (root['Tabulator'] !== undefined) && (root['Tabulator'] !== undefined)) {\n",
       "        clearInterval(timer);\n",
       "        embed_document(root);\n",
       "      } else if (document.readyState == \"complete\") {\n",
       "        attempts++;\n",
       "        if (attempts > 200) {\n",
       "          clearInterval(timer);\n",
       "          console.log(\"Bokeh: ERROR: Unable to run BokehJS code because BokehJS library is missing\");\n",
       "        }\n",
       "      }\n",
       "    }, 25, root)\n",
       "  }\n",
       "})(window);</script>"
      ],
      "text/plain": [
       "<hvplot.interactive.Interactive at 0x7fe591020a00>"
      ]
     },
     "execution_count": 109,
     "metadata": {
      "application/vnd.holoviews_exec.v0+json": {
       "id": "11721"
      }
     },
     "output_type": "execute_result"
    }
   ],
   "source": [
    "num_distribution_pipeline = (\n",
    "    idf\n",
    "    .assign(total=lambda x: x.groupby('Age')['Risk'].transform('count'))\n",
    "    .assign(NoRisk=lambda x: x['Risk'].eq(1).groupby(x['Age']).transform('sum') / x['total'] )\n",
    "    .assign(Risk=lambda x: x['Risk'].eq(0).groupby(x['Age']).transform('sum') / x['total'] )\n",
    "    .loc[:, ['Age', 'total', 'Risk', 'NoRisk']]\n",
    "    .sort_values('Age')\n",
    "    .drop_duplicates()\n",
    ")\n",
    "num_distribution_pipeline"
   ]
  },
  {
   "cell_type": "code",
   "execution_count": 110,
   "id": "9a58e747-3781-4c50-90b5-f4907d723c08",
   "metadata": {
    "tags": []
   },
   "outputs": [
    {
     "data": {},
     "metadata": {},
     "output_type": "display_data"
    },
    {
     "data": {},
     "metadata": {},
     "output_type": "display_data"
    },
    {
     "data": {
      "application/vnd.holoviews_exec.v0+json": "",
      "text/html": [
       "<div id='11731'>\n",
       "  <div class=\"bk-root\" id=\"d113264c-e38c-41b0-ad25-0ebc290d3b45\" data-root-id=\"11731\"></div>\n",
       "</div>\n",
       "<script type=\"application/javascript\">(function(root) {\n",
       "  function embed_document(root) {\n",
       "    var docs_json = {\"26c7dc04-e0c7-4a29-91d9-7808d42fd1a0\":{\"defs\":[{\"extends\":null,\"module\":null,\"name\":\"ReactiveHTML1\",\"overrides\":[],\"properties\":[]},{\"extends\":null,\"module\":null,\"name\":\"FlexBox1\",\"overrides\":[],\"properties\":[{\"default\":\"flex-start\",\"kind\":null,\"name\":\"align_content\"},{\"default\":\"flex-start\",\"kind\":null,\"name\":\"align_items\"},{\"default\":\"row\",\"kind\":null,\"name\":\"flex_direction\"},{\"default\":\"wrap\",\"kind\":null,\"name\":\"flex_wrap\"},{\"default\":\"flex-start\",\"kind\":null,\"name\":\"justify_content\"}]},{\"extends\":null,\"module\":null,\"name\":\"GridStack1\",\"overrides\":[],\"properties\":[{\"default\":\"warn\",\"kind\":null,\"name\":\"mode\"},{\"default\":null,\"kind\":null,\"name\":\"ncols\"},{\"default\":null,\"kind\":null,\"name\":\"nrows\"},{\"default\":true,\"kind\":null,\"name\":\"allow_resize\"},{\"default\":true,\"kind\":null,\"name\":\"allow_drag\"},{\"default\":[],\"kind\":null,\"name\":\"state\"}]},{\"extends\":null,\"module\":null,\"name\":\"click1\",\"overrides\":[],\"properties\":[{\"default\":\"\",\"kind\":null,\"name\":\"terminal_output\"},{\"default\":\"\",\"kind\":null,\"name\":\"debug_name\"},{\"default\":0,\"kind\":null,\"name\":\"clears\"}]},{\"extends\":null,\"module\":null,\"name\":\"NotificationAreaBase1\",\"overrides\":[],\"properties\":[{\"default\":\"bottom-right\",\"kind\":null,\"name\":\"position\"},{\"default\":0,\"kind\":null,\"name\":\"_clear\"}]},{\"extends\":null,\"module\":null,\"name\":\"NotificationArea1\",\"overrides\":[],\"properties\":[{\"default\":[],\"kind\":null,\"name\":\"notifications\"},{\"default\":\"bottom-right\",\"kind\":null,\"name\":\"position\"},{\"default\":0,\"kind\":null,\"name\":\"_clear\"},{\"default\":[{\"background\":\"#ffc107\",\"icon\":{\"className\":\"fas fa-exclamation-triangle\",\"color\":\"white\",\"tagName\":\"i\"},\"type\":\"warning\"},{\"background\":\"#007bff\",\"icon\":{\"className\":\"fas fa-info-circle\",\"color\":\"white\",\"tagName\":\"i\"},\"type\":\"info\"}],\"kind\":null,\"name\":\"types\"}]},{\"extends\":null,\"module\":null,\"name\":\"Notification\",\"overrides\":[],\"properties\":[{\"default\":null,\"kind\":null,\"name\":\"background\"},{\"default\":3000,\"kind\":null,\"name\":\"duration\"},{\"default\":null,\"kind\":null,\"name\":\"icon\"},{\"default\":\"\",\"kind\":null,\"name\":\"message\"},{\"default\":null,\"kind\":null,\"name\":\"notification_type\"},{\"default\":false,\"kind\":null,\"name\":\"_destroyed\"}]},{\"extends\":null,\"module\":null,\"name\":\"TemplateActions1\",\"overrides\":[],\"properties\":[{\"default\":0,\"kind\":null,\"name\":\"open_modal\"},{\"default\":0,\"kind\":null,\"name\":\"close_modal\"}]},{\"extends\":null,\"module\":null,\"name\":\"MaterialTemplateActions1\",\"overrides\":[],\"properties\":[{\"default\":0,\"kind\":null,\"name\":\"open_modal\"},{\"default\":0,\"kind\":null,\"name\":\"close_modal\"}]}],\"roots\":{\"references\":[{\"attributes\":{},\"id\":\"11757\",\"type\":\"SaveTool\"},{\"attributes\":{\"end\":1.0478260869565217,\"reset_end\":1.0478260869565217,\"reset_start\":-0.047826086956521754,\"start\":-0.047826086956521754,\"tags\":[[[\"value\",\"value\",null]]]},\"id\":\"11737\",\"type\":\"Range1d\"},{\"attributes\":{},\"id\":\"11774\",\"type\":\"BasicTickFormatter\"},{\"attributes\":{\"overlay\":{\"id\":\"11762\"}},\"id\":\"11760\",\"type\":\"BoxZoomTool\"},{\"attributes\":{},\"id\":\"11775\",\"type\":\"AllLabels\"},{\"attributes\":{},\"id\":\"11761\",\"type\":\"ResetTool\"},{\"attributes\":{\"bottom_units\":\"screen\",\"coordinates\":null,\"fill_alpha\":0.5,\"fill_color\":\"lightgrey\",\"group\":null,\"left_units\":\"screen\",\"level\":\"overlay\",\"line_alpha\":1.0,\"line_color\":\"black\",\"line_dash\":[4,4],\"line_width\":2,\"right_units\":\"screen\",\"syncable\":false,\"top_units\":\"screen\"},\"id\":\"11762\",\"type\":\"BoxAnnotation\"},{\"attributes\":{\"children\":[{\"id\":\"11732\"}],\"margin\":[0,0,0,0],\"name\":\"Row22359\"},\"id\":\"11731\",\"type\":\"Row\"},{\"attributes\":{\"line_alpha\":0.1,\"line_color\":\"#1a6b54\",\"line_width\":3,\"x\":{\"field\":\"Age\"},\"y\":{\"field\":\"value\"}},\"id\":\"11780\",\"type\":\"Line\"},{\"attributes\":{\"active_drag\":{\"id\":\"11758\"},\"active_scroll\":{\"id\":\"11759\"},\"tools\":[{\"id\":\"11738\"},{\"id\":\"11757\"},{\"id\":\"11758\"},{\"id\":\"11759\"},{\"id\":\"11760\"},{\"id\":\"11761\"}]},\"id\":\"11763\",\"type\":\"Toolbar\"},{\"attributes\":{\"coordinates\":null,\"data_source\":{\"id\":\"11776\"},\"glyph\":{\"id\":\"11779\"},\"group\":null,\"hover_glyph\":null,\"muted_glyph\":{\"id\":\"11781\"},\"nonselection_glyph\":{\"id\":\"11780\"},\"selection_glyph\":{\"id\":\"11796\"},\"view\":{\"id\":\"11783\"}},\"id\":\"11782\",\"type\":\"GlyphRenderer\"},{\"attributes\":{},\"id\":\"11791\",\"type\":\"UnionRenderers\"},{\"attributes\":{\"line_color\":\"#1a6b54\",\"line_width\":3,\"x\":{\"field\":\"Age\"},\"y\":{\"field\":\"value\"}},\"id\":\"11779\",\"type\":\"Line\"},{\"attributes\":{\"end\":67.0,\"reset_end\":67.0,\"reset_start\":19.0,\"start\":19.0,\"tags\":[[[\"Age\",\"Age\",null]]]},\"id\":\"11736\",\"type\":\"Range1d\"},{\"attributes\":{\"label\":{\"value\":\"Risk\"},\"renderers\":[{\"id\":\"11782\"}]},\"id\":\"11795\",\"type\":\"LegendItem\"},{\"attributes\":{\"line_alpha\":0.2,\"line_color\":\"#1a6b54\",\"line_width\":3,\"x\":{\"field\":\"Age\"},\"y\":{\"field\":\"value\"}},\"id\":\"11781\",\"type\":\"Line\"},{\"attributes\":{},\"id\":\"11777\",\"type\":\"Selection\"},{\"attributes\":{\"children\":[{\"id\":\"11733\"},{\"id\":\"11740\"}],\"margin\":[0,0,0,0],\"name\":\"Column22358\"},\"id\":\"11732\",\"type\":\"Column\"},{\"attributes\":{\"data\":{\"Age\":[19,20,21,22,23,24,25,26,27,28,29,30,31,32,33,34,35,36,37,38,39,40,41,42,43,44,45,46,47,48,49,50,51,52,53,54,55,56,57,58,59,60,61,62,63,64,65,66,67],\"Variable\":[\"NoRisk\",\"NoRisk\",\"NoRisk\",\"NoRisk\",\"NoRisk\",\"NoRisk\",\"NoRisk\",\"NoRisk\",\"NoRisk\",\"NoRisk\",\"NoRisk\",\"NoRisk\",\"NoRisk\",\"NoRisk\",\"NoRisk\",\"NoRisk\",\"NoRisk\",\"NoRisk\",\"NoRisk\",\"NoRisk\",\"NoRisk\",\"NoRisk\",\"NoRisk\",\"NoRisk\",\"NoRisk\",\"NoRisk\",\"NoRisk\",\"NoRisk\",\"NoRisk\",\"NoRisk\",\"NoRisk\",\"NoRisk\",\"NoRisk\",\"NoRisk\",\"NoRisk\",\"NoRisk\",\"NoRisk\",\"NoRisk\",\"NoRisk\",\"NoRisk\",\"NoRisk\",\"NoRisk\",\"NoRisk\",\"NoRisk\",\"NoRisk\",\"NoRisk\",\"NoRisk\",\"NoRisk\",\"NoRisk\"],\"value\":{\"__ndarray__\":\"l3oyfrvUsz9oICod2TOwP5dv+ZZv+bY/AAAAAAAAwD/IpHiBTIq3P0J7Ce0ltLc/chzHcRzHwT/d0wjLPY3APwAAAAAAAMs/8VyzOowyxT95FYlXkXjFP36x5BdLftE/sWx8M7R2zz8AAAAAAADQP+Q4juM4jtM/VVVVVVVV1j+/WPKLJb/YPzGoCLfUbNg/brjhhhtu2D8PjiDSegHbP+sGU+SzbuA/dljCUf193j/qOxv1nY3aPyVJkiRJktw/byK7iewm4j/hbux7RE7gP0ZzGc1lNOc/2yeqB4284z/0Qi/0Qi/kPzSc1H15bOU/fBphuacR5j9VVVVVVVXlP4YsZCELWeg/gUyKF8ik6D9JD1TObuHnPzrnnHPOOec/WPuGtW9Y6z/kOI7jOI7rP+Q4juM4jus/GmG5pxGW6z89z/M8z/PsP+pNb3rTm+4/AAAAAAAA7D+rqqqqqqrqP5qZmZmZmek/q6qqqqqq6j+rqqqqqqrqP5qZmZmZmek/AAAAAAAA4D8=\",\"dtype\":\"float64\",\"order\":\"little\",\"shape\":[49]}},\"selected\":{\"id\":\"11798\"},\"selection_policy\":{\"id\":\"11814\"}},\"id\":\"11797\",\"type\":\"ColumnDataSource\"},{\"attributes\":{\"callback\":null,\"renderers\":[{\"id\":\"11782\"},{\"id\":\"11803\"}],\"tags\":[\"hv_created\"],\"tooltips\":[[\"Variable\",\"@{Variable}\"],[\"Age\",\"@{Age}\"],[\"value\",\"@{value}\"]]},\"id\":\"11738\",\"type\":\"HoverTool\"},{\"attributes\":{\"children\":[{\"id\":\"11734\"},{\"id\":\"11735\"}],\"margin\":[0,0,0,0],\"name\":\"Row22352\"},\"id\":\"11733\",\"type\":\"Row\"},{\"attributes\":{\"data\":{\"Age\":[19,20,21,22,23,24,25,26,27,28,29,30,31,32,33,34,35,36,37,38,39,40,41,42,43,44,45,46,47,48,49,50,51,52,53,54,55,56,57,58,59,60,61,62,63,64,65,66,67],\"Variable\":[\"Risk\",\"Risk\",\"Risk\",\"Risk\",\"Risk\",\"Risk\",\"Risk\",\"Risk\",\"Risk\",\"Risk\",\"Risk\",\"Risk\",\"Risk\",\"Risk\",\"Risk\",\"Risk\",\"Risk\",\"Risk\",\"Risk\",\"Risk\",\"Risk\",\"Risk\",\"Risk\",\"Risk\",\"Risk\",\"Risk\",\"Risk\",\"Risk\",\"Risk\",\"Risk\",\"Risk\",\"Risk\",\"Risk\",\"Risk\",\"Risk\",\"Risk\",\"Risk\",\"Risk\",\"Risk\",\"Risk\",\"Risk\",\"Risk\",\"Risk\",\"Risk\",\"Risk\",\"Risk\",\"Risk\",\"Risk\",\"Risk\"],\"value\":{\"__ndarray__\":\"rbA5kGiF7T/zu1rchPntPw3SIA3SIO0/AAAAAAAA7D9n69Bvtg7tP5jQXkJ7Ce0/5DiO4ziO6z8Jyz2NsNzrPwAAAAAAQOk/xChT8Vyz6j+iuh2q26HqP0GnDXTaQOc/1OQg81Ii6D8AAAAAAADoP47jOI7jOOY/VVVVVVXV5D+g0wY6baDjP+ere6SVyeM/ySOPPPLI4z/5uO+WQn/iPyryWTeYIt8/xdMeVwHB4D8LYnIFMbniP27btm3btuE/IruJ7Cay2z8+IicId2PfP3MZzWU0l9E/SrCr8OWG2D8YeqEXeqHXP5jHVgQNJ9U/Ccs9jbDc0z9VVVVVVVXVP+pNb3rTm84/+s3Wod9szT9v4VdjIj3QP4wxxhhjjNE/nhLkKUGewj9yHMdxHMfBP3Icx3Ecx8E/lnsaYbmnwT8YhmEYhmG4P2QhC1nIQqY/AAAAAAAAwD9VVVVVVVXFP5qZmZmZmck/VVVVVVVVxT9VVVVVVVXFP5qZmZmZmck/AAAAAAAA4D8=\",\"dtype\":\"float64\",\"order\":\"little\",\"shape\":[49]}},\"selected\":{\"id\":\"11777\"},\"selection_policy\":{\"id\":\"11791\"}},\"id\":\"11776\",\"type\":\"ColumnDataSource\"},{\"attributes\":{\"source\":{\"id\":\"11776\"}},\"id\":\"11783\",\"type\":\"CDSView\"},{\"attributes\":{\"line_alpha\":0.1,\"line_color\":\"#ba2649\",\"line_width\":3,\"x\":{\"field\":\"Age\"},\"y\":{\"field\":\"value\"}},\"id\":\"11801\",\"type\":\"Line\"},{\"attributes\":{\"coordinates\":null,\"data_source\":{\"id\":\"11797\"},\"glyph\":{\"id\":\"11800\"},\"group\":null,\"hover_glyph\":null,\"muted_glyph\":{\"id\":\"11802\"},\"nonselection_glyph\":{\"id\":\"11801\"},\"selection_glyph\":{\"id\":\"11818\"},\"view\":{\"id\":\"11804\"}},\"id\":\"11803\",\"type\":\"GlyphRenderer\"},{\"attributes\":{},\"id\":\"11745\",\"type\":\"LinearScale\"},{\"attributes\":{\"line_alpha\":0.2,\"line_color\":\"#ba2649\",\"line_width\":3,\"x\":{\"field\":\"Age\"},\"y\":{\"field\":\"value\"}},\"id\":\"11802\",\"type\":\"Line\"},{\"attributes\":{\"click_policy\":\"mute\",\"coordinates\":null,\"group\":null,\"items\":[{\"id\":\"11795\"},{\"id\":\"11817\"}],\"location\":[0,0],\"orientation\":\"horizontal\",\"title\":\"Variable\"},\"id\":\"11794\",\"type\":\"Legend\"},{\"attributes\":{\"line_color\":\"#1a6b54\",\"line_width\":3,\"x\":{\"field\":\"Age\"},\"y\":{\"field\":\"value\"}},\"id\":\"11796\",\"type\":\"Line\"},{\"attributes\":{\"above\":[{\"id\":\"11794\"}],\"below\":[{\"id\":\"11749\"}],\"center\":[{\"id\":\"11752\"},{\"id\":\"11756\"}],\"height\":500,\"left\":[{\"id\":\"11753\"}],\"margin\":[5,5,5,5],\"min_border_bottom\":10,\"min_border_left\":10,\"min_border_right\":10,\"min_border_top\":10,\"renderers\":[{\"id\":\"11782\"},{\"id\":\"11803\"}],\"sizing_mode\":\"fixed\",\"title\":{\"id\":\"11741\"},\"toolbar\":{\"id\":\"11763\"},\"x_range\":{\"id\":\"11736\"},\"x_scale\":{\"id\":\"11745\"},\"y_range\":{\"id\":\"11737\"},\"y_scale\":{\"id\":\"11747\"}},\"id\":\"11740\",\"subtype\":\"Figure\",\"type\":\"Plot\"},{\"attributes\":{\"line_color\":\"#ba2649\",\"line_width\":3,\"x\":{\"field\":\"Age\"},\"y\":{\"field\":\"value\"}},\"id\":\"11800\",\"type\":\"Line\"},{\"attributes\":{\"line_color\":\"#ba2649\",\"line_width\":3,\"x\":{\"field\":\"Age\"},\"y\":{\"field\":\"value\"}},\"id\":\"11818\",\"type\":\"Line\"},{\"attributes\":{\"client_comm_id\":\"17af16be01d14f13bd4ed68a0526d528\",\"comm_id\":\"89706653f7684f10bf7b1a292e6fed35\",\"plot_id\":\"11731\"},\"id\":\"11871\",\"type\":\"panel.models.comm_manager.CommManager\"},{\"attributes\":{\"coordinates\":null,\"group\":null,\"text\":\"Verh\\u00e4ltnis von Risikof\\u00e4llen f\\u00fcr numerische Spalten\",\"text_color\":\"black\",\"text_font_size\":\"12pt\"},\"id\":\"11741\",\"type\":\"Title\"},{\"attributes\":{},\"id\":\"11758\",\"type\":\"PanTool\"},{\"attributes\":{},\"id\":\"11798\",\"type\":\"Selection\"},{\"attributes\":{\"margin\":[5,5,5,5],\"name\":\"HSpacer22351\",\"sizing_mode\":\"stretch_width\"},\"id\":\"11735\",\"type\":\"Spacer\"},{\"attributes\":{\"axis_label\":\"Age\",\"coordinates\":null,\"formatter\":{\"id\":\"11771\"},\"group\":null,\"major_label_policy\":{\"id\":\"11772\"},\"ticker\":{\"id\":\"11750\"}},\"id\":\"11749\",\"type\":\"LinearAxis\"},{\"attributes\":{},\"id\":\"11771\",\"type\":\"BasicTickFormatter\"},{\"attributes\":{\"axis\":{\"id\":\"11749\"},\"coordinates\":null,\"grid_line_color\":null,\"group\":null,\"ticker\":null},\"id\":\"11752\",\"type\":\"Grid\"},{\"attributes\":{\"source\":{\"id\":\"11797\"}},\"id\":\"11804\",\"type\":\"CDSView\"},{\"attributes\":{},\"id\":\"11772\",\"type\":\"AllLabels\"},{\"attributes\":{\"label\":{\"value\":\"NoRisk\"},\"renderers\":[{\"id\":\"11803\"}]},\"id\":\"11817\",\"type\":\"LegendItem\"},{\"attributes\":{},\"id\":\"11750\",\"type\":\"BasicTicker\"},{\"attributes\":{\"margin\":[0,0,0,0],\"name\":\"Column22348\"},\"id\":\"11734\",\"type\":\"Column\"},{\"attributes\":{},\"id\":\"11747\",\"type\":\"LinearScale\"},{\"attributes\":{\"axis_label\":\"Prozentualer Anteil\",\"coordinates\":null,\"formatter\":{\"id\":\"11774\"},\"group\":null,\"major_label_policy\":{\"id\":\"11775\"},\"ticker\":{\"id\":\"11754\"}},\"id\":\"11753\",\"type\":\"LinearAxis\"},{\"attributes\":{\"axis\":{\"id\":\"11753\"},\"coordinates\":null,\"dimension\":1,\"grid_line_color\":null,\"group\":null,\"ticker\":null},\"id\":\"11756\",\"type\":\"Grid\"},{\"attributes\":{},\"id\":\"11754\",\"type\":\"BasicTicker\"},{\"attributes\":{},\"id\":\"11814\",\"type\":\"UnionRenderers\"},{\"attributes\":{},\"id\":\"11759\",\"type\":\"WheelZoomTool\"}],\"root_ids\":[\"11731\",\"11871\"]},\"title\":\"Bokeh Application\",\"version\":\"2.4.3\"}};\n",
       "    var render_items = [{\"docid\":\"26c7dc04-e0c7-4a29-91d9-7808d42fd1a0\",\"root_ids\":[\"11731\"],\"roots\":{\"11731\":\"d113264c-e38c-41b0-ad25-0ebc290d3b45\"}}];\n",
       "    root.Bokeh.embed.embed_items_notebook(docs_json, render_items);\n",
       "    for (const render_item of render_items) {\n",
       "      for (const root_id of render_item.root_ids) {\n",
       "\tconst id_el = document.getElementById(root_id)\n",
       "\tif (id_el.children.length && (id_el.children[0].className === 'bk-root')) {\n",
       "\t  const root_el = id_el.children[0]\n",
       "\t  root_el.id = root_el.id + '-rendered'\n",
       "\t}\n",
       "      }\n",
       "    }\n",
       "  }\n",
       "  if (root.Bokeh !== undefined && root.Bokeh.Panel !== undefined && ( root['Tabulator'] !== undefined) && ( root['Tabulator'] !== undefined) && ( root['Tabulator'] !== undefined) && ( root['Tabulator'] !== undefined) && ( root['Tabulator'] !== undefined)) {\n",
       "    embed_document(root);\n",
       "  } else {\n",
       "    var attempts = 0;\n",
       "    var timer = setInterval(function(root) {\n",
       "      if (root.Bokeh !== undefined && root.Bokeh.Panel !== undefined && (root['Tabulator'] !== undefined) && (root['Tabulator'] !== undefined) && (root['Tabulator'] !== undefined) && (root['Tabulator'] !== undefined) && (root['Tabulator'] !== undefined)) {\n",
       "        clearInterval(timer);\n",
       "        embed_document(root);\n",
       "      } else if (document.readyState == \"complete\") {\n",
       "        attempts++;\n",
       "        if (attempts > 200) {\n",
       "          clearInterval(timer);\n",
       "          console.log(\"Bokeh: ERROR: Unable to run BokehJS code because BokehJS library is missing\");\n",
       "        }\n",
       "      }\n",
       "    }, 25, root)\n",
       "  }\n",
       "})(window);</script>"
      ],
      "text/plain": [
       "<hvplot.interactive.Interactive at 0x7fe582344370>"
      ]
     },
     "execution_count": 110,
     "metadata": {
      "application/vnd.holoviews_exec.v0+json": {
       "id": "11731"
      }
     },
     "output_type": "execute_result"
    }
   ],
   "source": [
    "num_distribution_plot = num_distribution_pipeline.hvplot.line(\n",
    "    x='Age',\n",
    "    y=['Risk', 'NoRisk'],\n",
    "    title=\"Verhältnis von Risikofällen für numerische Spalten\",\n",
    "    ylabel=\"Prozentualer Anteil\",\n",
    "    height=500,\n",
    "    width=600,\n",
    "    color=[\"#1a6b54\", \"#ba2649\"],\n",
    "    line_width=3,\n",
    "    legend='top'\n",
    ")\n",
    "num_distribution_plot"
   ]
  },
  {
   "cell_type": "code",
   "execution_count": 113,
   "id": "7ccf63b0-d2b7-4701-abf2-24e69727331c",
   "metadata": {
    "tags": []
   },
   "outputs": [
    {
     "data": {},
     "metadata": {},
     "output_type": "display_data"
    },
    {
     "data": {
      "application/vnd.holoviews_exec.v0+json": "",
      "text/html": [
       "<div id='12269'>\n",
       "  <div class=\"bk-root\" id=\"cfabd3c7-d160-4997-89e2-8ee1f384bd4c\" data-root-id=\"12269\"></div>\n",
       "</div>\n",
       "<script type=\"application/javascript\">(function(root) {\n",
       "  function embed_document(root) {\n",
       "    var docs_json = {\"a08877ea-9654-4b82-9c75-cdd93c8fa45c\":{\"defs\":[{\"extends\":null,\"module\":null,\"name\":\"ReactiveHTML1\",\"overrides\":[],\"properties\":[]},{\"extends\":null,\"module\":null,\"name\":\"FlexBox1\",\"overrides\":[],\"properties\":[{\"default\":\"flex-start\",\"kind\":null,\"name\":\"align_content\"},{\"default\":\"flex-start\",\"kind\":null,\"name\":\"align_items\"},{\"default\":\"row\",\"kind\":null,\"name\":\"flex_direction\"},{\"default\":\"wrap\",\"kind\":null,\"name\":\"flex_wrap\"},{\"default\":\"flex-start\",\"kind\":null,\"name\":\"justify_content\"}]},{\"extends\":null,\"module\":null,\"name\":\"GridStack1\",\"overrides\":[],\"properties\":[{\"default\":\"warn\",\"kind\":null,\"name\":\"mode\"},{\"default\":null,\"kind\":null,\"name\":\"ncols\"},{\"default\":null,\"kind\":null,\"name\":\"nrows\"},{\"default\":true,\"kind\":null,\"name\":\"allow_resize\"},{\"default\":true,\"kind\":null,\"name\":\"allow_drag\"},{\"default\":[],\"kind\":null,\"name\":\"state\"}]},{\"extends\":null,\"module\":null,\"name\":\"click1\",\"overrides\":[],\"properties\":[{\"default\":\"\",\"kind\":null,\"name\":\"terminal_output\"},{\"default\":\"\",\"kind\":null,\"name\":\"debug_name\"},{\"default\":0,\"kind\":null,\"name\":\"clears\"}]},{\"extends\":null,\"module\":null,\"name\":\"NotificationAreaBase1\",\"overrides\":[],\"properties\":[{\"default\":\"bottom-right\",\"kind\":null,\"name\":\"position\"},{\"default\":0,\"kind\":null,\"name\":\"_clear\"}]},{\"extends\":null,\"module\":null,\"name\":\"NotificationArea1\",\"overrides\":[],\"properties\":[{\"default\":[],\"kind\":null,\"name\":\"notifications\"},{\"default\":\"bottom-right\",\"kind\":null,\"name\":\"position\"},{\"default\":0,\"kind\":null,\"name\":\"_clear\"},{\"default\":[{\"background\":\"#ffc107\",\"icon\":{\"className\":\"fas fa-exclamation-triangle\",\"color\":\"white\",\"tagName\":\"i\"},\"type\":\"warning\"},{\"background\":\"#007bff\",\"icon\":{\"className\":\"fas fa-info-circle\",\"color\":\"white\",\"tagName\":\"i\"},\"type\":\"info\"}],\"kind\":null,\"name\":\"types\"}]},{\"extends\":null,\"module\":null,\"name\":\"Notification\",\"overrides\":[],\"properties\":[{\"default\":null,\"kind\":null,\"name\":\"background\"},{\"default\":3000,\"kind\":null,\"name\":\"duration\"},{\"default\":null,\"kind\":null,\"name\":\"icon\"},{\"default\":\"\",\"kind\":null,\"name\":\"message\"},{\"default\":null,\"kind\":null,\"name\":\"notification_type\"},{\"default\":false,\"kind\":null,\"name\":\"_destroyed\"}]},{\"extends\":null,\"module\":null,\"name\":\"TemplateActions1\",\"overrides\":[],\"properties\":[{\"default\":0,\"kind\":null,\"name\":\"open_modal\"},{\"default\":0,\"kind\":null,\"name\":\"close_modal\"}]},{\"extends\":null,\"module\":null,\"name\":\"MaterialTemplateActions1\",\"overrides\":[],\"properties\":[{\"default\":0,\"kind\":null,\"name\":\"open_modal\"},{\"default\":0,\"kind\":null,\"name\":\"close_modal\"}]}],\"roots\":{\"references\":[{\"attributes\":{\"margin\":[5,10,5,10],\"options\":[\"LoanDuration\",\"Age\",\"LoanAmount\",\"InstallmentPercent\",\"CurrentResidenceDuration\",\"ExistingCreditsCount\",\"Dependents\"],\"title\":\"Select\",\"value\":\"LoanDuration\"},\"id\":\"12273\",\"type\":\"panel.models.widgets.CustomSelect\"},{\"attributes\":{\"children\":[{\"id\":\"12273\"}],\"margin\":[0,0,0,0],\"name\":\"Column24064\"},\"id\":\"12272\",\"type\":\"Column\"},{\"attributes\":{\"children\":[{\"id\":\"12271\"},{\"id\":\"12275\"}],\"margin\":[0,0,0,0],\"name\":\"Column24074\"},\"id\":\"12270\",\"type\":\"Column\"},{\"attributes\":{\"client_comm_id\":\"b8eee3fb560645789d012fea1663210e\",\"comm_id\":\"e63bf51b73604058af6a8ec67ad86f05\",\"plot_id\":\"12269\"},\"id\":\"12277\",\"type\":\"panel.models.comm_manager.CommManager\"},{\"attributes\":{\"children\":[{\"id\":\"12276\"}],\"margin\":[0,0,0,0],\"name\":\"Row24069\"},\"id\":\"12275\",\"type\":\"Row\"},{\"attributes\":{\"margin\":[5,5,5,5],\"name\":\"HSpacer24072\",\"sizing_mode\":\"stretch_width\"},\"id\":\"12274\",\"type\":\"Spacer\"},{\"attributes\":{\"children\":[{\"id\":\"12270\"}],\"margin\":[0,0,0,0],\"name\":\"Row24075\"},\"id\":\"12269\",\"type\":\"Row\"},{\"attributes\":{\"children\":[{\"id\":\"12272\"},{\"id\":\"12274\"}],\"margin\":[0,0,0,0],\"name\":\"Row24073\"},\"id\":\"12271\",\"type\":\"Row\"},{\"attributes\":{\"margin\":[5,5,5,5],\"name\":\"DataFrame24070\",\"text\":\"&lt;table class=&quot;dataframe panel-df&quot;&gt;\\n  &lt;thead&gt;\\n    &lt;tr style=&quot;text-align: right;&quot;&gt;\\n      &lt;th&gt;&lt;/th&gt;\\n      &lt;th&gt;LoanDuration&lt;/th&gt;\\n      &lt;th&gt;total&lt;/th&gt;\\n      &lt;th&gt;Risk&lt;/th&gt;\\n      &lt;th&gt;NoRisk&lt;/th&gt;\\n    &lt;/tr&gt;\\n  &lt;/thead&gt;\\n  &lt;tbody&gt;\\n    &lt;tr&gt;\\n      &lt;th&gt;1694&lt;/th&gt;\\n      &lt;td&gt;4&lt;/td&gt;\\n      &lt;td&gt;452&lt;/td&gt;\\n      &lt;td&gt;0.949115&lt;/td&gt;\\n      &lt;td&gt;0.050885&lt;/td&gt;\\n    &lt;/tr&gt;\\n    &lt;tr&gt;\\n      &lt;th&gt;3937&lt;/th&gt;\\n      &lt;td&gt;5&lt;/td&gt;\\n      &lt;td&gt;51&lt;/td&gt;\\n      &lt;td&gt;0.921569&lt;/td&gt;\\n      &lt;td&gt;0.078431&lt;/td&gt;\\n    &lt;/tr&gt;\\n    &lt;tr&gt;\\n      &lt;th&gt;39&lt;/th&gt;\\n      &lt;td&gt;6&lt;/td&gt;\\n      &lt;td&gt;45&lt;/td&gt;\\n      &lt;td&gt;0.777778&lt;/td&gt;\\n      &lt;td&gt;0.222222&lt;/td&gt;\\n    &lt;/tr&gt;\\n    &lt;tr&gt;\\n      &lt;th&gt;4209&lt;/th&gt;\\n      &lt;td&gt;7&lt;/td&gt;\\n      &lt;td&gt;52&lt;/td&gt;\\n      &lt;td&gt;0.923077&lt;/td&gt;\\n      &lt;td&gt;0.076923&lt;/td&gt;\\n    &lt;/tr&gt;\\n    &lt;tr&gt;\\n      &lt;th&gt;686&lt;/th&gt;\\n      &lt;td&gt;8&lt;/td&gt;\\n      &lt;td&gt;177&lt;/td&gt;\\n      &lt;td&gt;0.796610&lt;/td&gt;\\n      &lt;td&gt;0.203390&lt;/td&gt;\\n    &lt;/tr&gt;\\n    &lt;tr&gt;\\n      &lt;th&gt;5087&lt;/th&gt;\\n      &lt;td&gt;9&lt;/td&gt;\\n      &lt;td&gt;131&lt;/td&gt;\\n      &lt;td&gt;0.870229&lt;/td&gt;\\n      &lt;td&gt;0.129771&lt;/td&gt;\\n    &lt;/tr&gt;\\n    &lt;tr&gt;\\n      &lt;th&gt;3989&lt;/th&gt;\\n      &lt;td&gt;10&lt;/td&gt;\\n      &lt;td&gt;121&lt;/td&gt;\\n      &lt;td&gt;0.892562&lt;/td&gt;\\n      &lt;td&gt;0.107438&lt;/td&gt;\\n    &lt;/tr&gt;\\n    &lt;tr&gt;\\n      &lt;th&gt;2025&lt;/th&gt;\\n      &lt;td&gt;11&lt;/td&gt;\\n      &lt;td&gt;115&lt;/td&gt;\\n      &lt;td&gt;0.843478&lt;/td&gt;\\n      &lt;td&gt;0.156522&lt;/td&gt;\\n    &lt;/tr&gt;\\n    &lt;tr&gt;\\n      &lt;th&gt;4663&lt;/th&gt;\\n      &lt;td&gt;12&lt;/td&gt;\\n      &lt;td&gt;139&lt;/td&gt;\\n      &lt;td&gt;0.848921&lt;/td&gt;\\n      &lt;td&gt;0.151079&lt;/td&gt;\\n    &lt;/tr&gt;\\n    &lt;tr&gt;\\n      &lt;th&gt;3323&lt;/th&gt;\\n      &lt;td&gt;13&lt;/td&gt;\\n      &lt;td&gt;144&lt;/td&gt;\\n      &lt;td&gt;0.777778&lt;/td&gt;\\n      &lt;td&gt;0.222222&lt;/td&gt;\\n    &lt;/tr&gt;\\n    &lt;tr&gt;\\n      &lt;th&gt;3745&lt;/th&gt;\\n      &lt;td&gt;14&lt;/td&gt;\\n      &lt;td&gt;176&lt;/td&gt;\\n      &lt;td&gt;0.772727&lt;/td&gt;\\n      &lt;td&gt;0.227273&lt;/td&gt;\\n    &lt;/tr&gt;\\n    &lt;tr&gt;\\n      &lt;th&gt;2606&lt;/th&gt;\\n      &lt;td&gt;15&lt;/td&gt;\\n      &lt;td&gt;165&lt;/td&gt;\\n      &lt;td&gt;0.769697&lt;/td&gt;\\n      &lt;td&gt;0.230303&lt;/td&gt;\\n    &lt;/tr&gt;\\n    &lt;tr&gt;\\n      &lt;th&gt;1020&lt;/th&gt;\\n      &lt;td&gt;16&lt;/td&gt;\\n      &lt;td&gt;175&lt;/td&gt;\\n      &lt;td&gt;0.720000&lt;/td&gt;\\n      &lt;td&gt;0.280000&lt;/td&gt;\\n    &lt;/tr&gt;\\n    &lt;tr&gt;\\n      &lt;th&gt;5153&lt;/th&gt;\\n      &lt;td&gt;17&lt;/td&gt;\\n      &lt;td&gt;158&lt;/td&gt;\\n      &lt;td&gt;0.753165&lt;/td&gt;\\n      &lt;td&gt;0.246835&lt;/td&gt;\\n    &lt;/tr&gt;\\n    &lt;tr&gt;\\n      &lt;th&gt;1960&lt;/th&gt;\\n      &lt;td&gt;18&lt;/td&gt;\\n      &lt;td&gt;115&lt;/td&gt;\\n      &lt;td&gt;0.756522&lt;/td&gt;\\n      &lt;td&gt;0.243478&lt;/td&gt;\\n    &lt;/tr&gt;\\n    &lt;tr&gt;\\n      &lt;th&gt;1983&lt;/th&gt;\\n      &lt;td&gt;19&lt;/td&gt;\\n      &lt;td&gt;161&lt;/td&gt;\\n      &lt;td&gt;0.627329&lt;/td&gt;\\n      &lt;td&gt;0.372671&lt;/td&gt;\\n    &lt;/tr&gt;\\n    &lt;tr&gt;\\n      &lt;th&gt;2472&lt;/th&gt;\\n      &lt;td&gt;20&lt;/td&gt;\\n      &lt;td&gt;175&lt;/td&gt;\\n      &lt;td&gt;0.674286&lt;/td&gt;\\n      &lt;td&gt;0.325714&lt;/td&gt;\\n    &lt;/tr&gt;\\n    &lt;tr&gt;\\n      &lt;th&gt;1792&lt;/th&gt;\\n      &lt;td&gt;21&lt;/td&gt;\\n      &lt;td&gt;138&lt;/td&gt;\\n      &lt;td&gt;0.586957&lt;/td&gt;\\n      &lt;td&gt;0.413043&lt;/td&gt;\\n    &lt;/tr&gt;\\n    &lt;tr&gt;\\n      &lt;th&gt;723&lt;/th&gt;\\n      &lt;td&gt;22&lt;/td&gt;\\n      &lt;td&gt;145&lt;/td&gt;\\n      &lt;td&gt;0.613793&lt;/td&gt;\\n      &lt;td&gt;0.386207&lt;/td&gt;\\n    &lt;/tr&gt;\\n    &lt;tr&gt;\\n      &lt;th&gt;2605&lt;/th&gt;\\n      &lt;td&gt;23&lt;/td&gt;\\n      &lt;td&gt;140&lt;/td&gt;\\n      &lt;td&gt;0.550000&lt;/td&gt;\\n      &lt;td&gt;0.450000&lt;/td&gt;\\n    &lt;/tr&gt;\\n    &lt;tr&gt;\\n      &lt;th&gt;4813&lt;/th&gt;\\n      &lt;td&gt;24&lt;/td&gt;\\n      &lt;td&gt;180&lt;/td&gt;\\n      &lt;td&gt;0.588889&lt;/td&gt;\\n      &lt;td&gt;0.411111&lt;/td&gt;\\n    &lt;/tr&gt;\\n    &lt;tr&gt;\\n      &lt;th&gt;3391&lt;/th&gt;\\n      &lt;td&gt;25&lt;/td&gt;\\n      &lt;td&gt;211&lt;/td&gt;\\n      &lt;td&gt;0.526066&lt;/td&gt;\\n      &lt;td&gt;0.473934&lt;/td&gt;\\n    &lt;/tr&gt;\\n    &lt;tr&gt;\\n      &lt;th&gt;247&lt;/th&gt;\\n      &lt;td&gt;26&lt;/td&gt;\\n      &lt;td&gt;179&lt;/td&gt;\\n      &lt;td&gt;0.463687&lt;/td&gt;\\n      &lt;td&gt;0.536313&lt;/td&gt;\\n    &lt;/tr&gt;\\n    &lt;tr&gt;\\n      &lt;th&gt;5434&lt;/th&gt;\\n      &lt;td&gt;27&lt;/td&gt;\\n      &lt;td&gt;184&lt;/td&gt;\\n      &lt;td&gt;0.505435&lt;/td&gt;\\n      &lt;td&gt;0.494565&lt;/td&gt;\\n    &lt;/tr&gt;\\n    &lt;tr&gt;\\n      &lt;th&gt;4295&lt;/th&gt;\\n      &lt;td&gt;28&lt;/td&gt;\\n      &lt;td&gt;193&lt;/td&gt;\\n      &lt;td&gt;0.440415&lt;/td&gt;\\n      &lt;td&gt;0.559585&lt;/td&gt;\\n    &lt;/tr&gt;\\n    &lt;tr&gt;\\n      &lt;th&gt;4198&lt;/th&gt;\\n      &lt;td&gt;29&lt;/td&gt;\\n      &lt;td&gt;168&lt;/td&gt;\\n      &lt;td&gt;0.416667&lt;/td&gt;\\n      &lt;td&gt;0.583333&lt;/td&gt;\\n    &lt;/tr&gt;\\n    &lt;tr&gt;\\n      &lt;th&gt;1365&lt;/th&gt;\\n      &lt;td&gt;30&lt;/td&gt;\\n      &lt;td&gt;157&lt;/td&gt;\\n      &lt;td&gt;0.369427&lt;/td&gt;\\n      &lt;td&gt;0.630573&lt;/td&gt;\\n    &lt;/tr&gt;\\n    &lt;tr&gt;\\n      &lt;th&gt;5449&lt;/th&gt;\\n      &lt;td&gt;31&lt;/td&gt;\\n      &lt;td&gt;166&lt;/td&gt;\\n      &lt;td&gt;0.421687&lt;/td&gt;\\n      &lt;td&gt;0.578313&lt;/td&gt;\\n    &lt;/tr&gt;\\n    &lt;tr&gt;\\n      &lt;th&gt;1073&lt;/th&gt;\\n      &lt;td&gt;32&lt;/td&gt;\\n      &lt;td&gt;164&lt;/td&gt;\\n      &lt;td&gt;0.384146&lt;/td&gt;\\n      &lt;td&gt;0.615854&lt;/td&gt;\\n    &lt;/tr&gt;\\n    &lt;tr&gt;\\n      &lt;th&gt;4764&lt;/th&gt;\\n      &lt;td&gt;33&lt;/td&gt;\\n      &lt;td&gt;137&lt;/td&gt;\\n      &lt;td&gt;0.350365&lt;/td&gt;\\n      &lt;td&gt;0.649635&lt;/td&gt;\\n    &lt;/tr&gt;\\n    &lt;tr&gt;\\n      &lt;th&gt;5515&lt;/th&gt;\\n      &lt;td&gt;34&lt;/td&gt;\\n      &lt;td&gt;101&lt;/td&gt;\\n      &lt;td&gt;0.297030&lt;/td&gt;\\n      &lt;td&gt;0.702970&lt;/td&gt;\\n    &lt;/tr&gt;\\n    &lt;tr&gt;\\n      &lt;th&gt;3067&lt;/th&gt;\\n      &lt;td&gt;35&lt;/td&gt;\\n      &lt;td&gt;119&lt;/td&gt;\\n      &lt;td&gt;0.386555&lt;/td&gt;\\n      &lt;td&gt;0.613445&lt;/td&gt;\\n    &lt;/tr&gt;\\n    &lt;tr&gt;\\n      &lt;th&gt;1285&lt;/th&gt;\\n      &lt;td&gt;36&lt;/td&gt;\\n      &lt;td&gt;103&lt;/td&gt;\\n      &lt;td&gt;0.330097&lt;/td&gt;\\n      &lt;td&gt;0.669903&lt;/td&gt;\\n    &lt;/tr&gt;\\n    &lt;tr&gt;\\n      &lt;th&gt;3412&lt;/th&gt;\\n      &lt;td&gt;37&lt;/td&gt;\\n      &lt;td&gt;93&lt;/td&gt;\\n      &lt;td&gt;0.311828&lt;/td&gt;\\n      &lt;td&gt;0.688172&lt;/td&gt;\\n    &lt;/tr&gt;\\n    &lt;tr&gt;\\n      &lt;th&gt;3459&lt;/th&gt;\\n      &lt;td&gt;38&lt;/td&gt;\\n      &lt;td&gt;55&lt;/td&gt;\\n      &lt;td&gt;0.309091&lt;/td&gt;\\n      &lt;td&gt;0.690909&lt;/td&gt;\\n    &lt;/tr&gt;\\n    &lt;tr&gt;\\n      &lt;th&gt;3471&lt;/th&gt;\\n      &lt;td&gt;39&lt;/td&gt;\\n      &lt;td&gt;64&lt;/td&gt;\\n      &lt;td&gt;0.234375&lt;/td&gt;\\n      &lt;td&gt;0.765625&lt;/td&gt;\\n    &lt;/tr&gt;\\n    &lt;tr&gt;\\n      &lt;th&gt;2286&lt;/th&gt;\\n      &lt;td&gt;40&lt;/td&gt;\\n      &lt;td&gt;54&lt;/td&gt;\\n      &lt;td&gt;0.203704&lt;/td&gt;\\n      &lt;td&gt;0.796296&lt;/td&gt;\\n    &lt;/tr&gt;\\n    &lt;tr&gt;\\n      &lt;th&gt;3950&lt;/th&gt;\\n      &lt;td&gt;41&lt;/td&gt;\\n      &lt;td&gt;50&lt;/td&gt;\\n      &lt;td&gt;0.340000&lt;/td&gt;\\n      &lt;td&gt;0.660000&lt;/td&gt;\\n    &lt;/tr&gt;\\n    &lt;tr&gt;\\n      &lt;th&gt;2394&lt;/th&gt;\\n      &lt;td&gt;42&lt;/td&gt;\\n      &lt;td&gt;41&lt;/td&gt;\\n      &lt;td&gt;0.268293&lt;/td&gt;\\n      &lt;td&gt;0.731707&lt;/td&gt;\\n    &lt;/tr&gt;\\n    &lt;tr&gt;\\n      &lt;th&gt;3748&lt;/th&gt;\\n      &lt;td&gt;43&lt;/td&gt;\\n      &lt;td&gt;24&lt;/td&gt;\\n      &lt;td&gt;0.166667&lt;/td&gt;\\n      &lt;td&gt;0.833333&lt;/td&gt;\\n    &lt;/tr&gt;\\n    &lt;tr&gt;\\n      &lt;th&gt;750&lt;/th&gt;\\n      &lt;td&gt;44&lt;/td&gt;\\n      &lt;td&gt;27&lt;/td&gt;\\n      &lt;td&gt;0.259259&lt;/td&gt;\\n      &lt;td&gt;0.740741&lt;/td&gt;\\n    &lt;/tr&gt;\\n    &lt;tr&gt;\\n      &lt;th&gt;1899&lt;/th&gt;\\n      &lt;td&gt;45&lt;/td&gt;\\n      &lt;td&gt;24&lt;/td&gt;\\n      &lt;td&gt;0.125000&lt;/td&gt;\\n      &lt;td&gt;0.875000&lt;/td&gt;\\n    &lt;/tr&gt;\\n    &lt;tr&gt;\\n      &lt;th&gt;182&lt;/th&gt;\\n      &lt;td&gt;46&lt;/td&gt;\\n      &lt;td&gt;21&lt;/td&gt;\\n      &lt;td&gt;0.142857&lt;/td&gt;\\n      &lt;td&gt;0.857143&lt;/td&gt;\\n    &lt;/tr&gt;\\n    &lt;tr&gt;\\n      &lt;th&gt;1166&lt;/th&gt;\\n      &lt;td&gt;47&lt;/td&gt;\\n      &lt;td&gt;9&lt;/td&gt;\\n      &lt;td&gt;0.222222&lt;/td&gt;\\n      &lt;td&gt;0.777778&lt;/td&gt;\\n    &lt;/tr&gt;\\n    &lt;tr&gt;\\n      &lt;th&gt;283&lt;/th&gt;\\n      &lt;td&gt;48&lt;/td&gt;\\n      &lt;td&gt;11&lt;/td&gt;\\n      &lt;td&gt;0.181818&lt;/td&gt;\\n      &lt;td&gt;0.818182&lt;/td&gt;\\n    &lt;/tr&gt;\\n    &lt;tr&gt;\\n      &lt;th&gt;2718&lt;/th&gt;\\n      &lt;td&gt;49&lt;/td&gt;\\n      &lt;td&gt;8&lt;/td&gt;\\n      &lt;td&gt;0.250000&lt;/td&gt;\\n      &lt;td&gt;0.750000&lt;/td&gt;\\n    &lt;/tr&gt;\\n    &lt;tr&gt;\\n      &lt;th&gt;1986&lt;/th&gt;\\n      &lt;td&gt;50&lt;/td&gt;\\n      &lt;td&gt;13&lt;/td&gt;\\n      &lt;td&gt;0.153846&lt;/td&gt;\\n      &lt;td&gt;0.846154&lt;/td&gt;\\n    &lt;/tr&gt;\\n    &lt;tr&gt;\\n      &lt;th&gt;2524&lt;/th&gt;\\n      &lt;td&gt;51&lt;/td&gt;\\n      &lt;td&gt;5&lt;/td&gt;\\n      &lt;td&gt;0.200000&lt;/td&gt;\\n      &lt;td&gt;0.800000&lt;/td&gt;\\n    &lt;/tr&gt;\\n    &lt;tr&gt;\\n      &lt;th&gt;4156&lt;/th&gt;\\n      &lt;td&gt;52&lt;/td&gt;\\n      &lt;td&gt;3&lt;/td&gt;\\n      &lt;td&gt;0.333333&lt;/td&gt;\\n      &lt;td&gt;0.666667&lt;/td&gt;\\n    &lt;/tr&gt;\\n    &lt;tr&gt;\\n      &lt;th&gt;1657&lt;/th&gt;\\n      &lt;td&gt;53&lt;/td&gt;\\n      &lt;td&gt;3&lt;/td&gt;\\n      &lt;td&gt;0.333333&lt;/td&gt;\\n      &lt;td&gt;0.666667&lt;/td&gt;\\n    &lt;/tr&gt;\\n    &lt;tr&gt;\\n      &lt;th&gt;2075&lt;/th&gt;\\n      &lt;td&gt;54&lt;/td&gt;\\n      &lt;td&gt;4&lt;/td&gt;\\n      &lt;td&gt;0.250000&lt;/td&gt;\\n      &lt;td&gt;0.750000&lt;/td&gt;\\n    &lt;/tr&gt;\\n  &lt;/tbody&gt;\\n&lt;/table&gt;\"},\"id\":\"12276\",\"type\":\"panel.models.markup.HTML\"}],\"root_ids\":[\"12269\",\"12277\"]},\"title\":\"Bokeh Application\",\"version\":\"2.4.3\"}};\n",
       "    var render_items = [{\"docid\":\"a08877ea-9654-4b82-9c75-cdd93c8fa45c\",\"root_ids\":[\"12269\"],\"roots\":{\"12269\":\"cfabd3c7-d160-4997-89e2-8ee1f384bd4c\"}}];\n",
       "    root.Bokeh.embed.embed_items_notebook(docs_json, render_items);\n",
       "    for (const render_item of render_items) {\n",
       "      for (const root_id of render_item.root_ids) {\n",
       "\tconst id_el = document.getElementById(root_id)\n",
       "\tif (id_el.children.length && (id_el.children[0].className === 'bk-root')) {\n",
       "\t  const root_el = id_el.children[0]\n",
       "\t  root_el.id = root_el.id + '-rendered'\n",
       "\t}\n",
       "      }\n",
       "    }\n",
       "  }\n",
       "  if (root.Bokeh !== undefined && root.Bokeh.Panel !== undefined && ( root['Tabulator'] !== undefined) && ( root['Tabulator'] !== undefined) && ( root['Tabulator'] !== undefined) && ( root['Tabulator'] !== undefined) && ( root['Tabulator'] !== undefined)) {\n",
       "    embed_document(root);\n",
       "  } else {\n",
       "    var attempts = 0;\n",
       "    var timer = setInterval(function(root) {\n",
       "      if (root.Bokeh !== undefined && root.Bokeh.Panel !== undefined && (root['Tabulator'] !== undefined) && (root['Tabulator'] !== undefined) && (root['Tabulator'] !== undefined) && (root['Tabulator'] !== undefined) && (root['Tabulator'] !== undefined)) {\n",
       "        clearInterval(timer);\n",
       "        embed_document(root);\n",
       "      } else if (document.readyState == \"complete\") {\n",
       "        attempts++;\n",
       "        if (attempts > 200) {\n",
       "          clearInterval(timer);\n",
       "          console.log(\"Bokeh: ERROR: Unable to run BokehJS code because BokehJS library is missing\");\n",
       "        }\n",
       "      }\n",
       "    }, 25, root)\n",
       "  }\n",
       "})(window);</script>"
      ],
      "text/plain": [
       "<hvplot.interactive.Interactive at 0x7fe582569ca0>"
      ]
     },
     "execution_count": 113,
     "metadata": {
      "application/vnd.holoviews_exec.v0+json": {
       "id": "12269"
      }
     },
     "output_type": "execute_result"
    }
   ],
   "source": [
    "select_num_distribution_pipeline = pn.widgets.Select(name='Select', options=num_columns)\n",
    "\n",
    "num_distribution_pipeline = (\n",
    "    idf\n",
    "    .assign(total=lambda x: x.groupby(select_num_distribution_pipeline.value)['Risk'].transform('count'))\n",
    "    .assign(NoRisk=lambda x: x['Risk'].eq(1).groupby(x[select_num_distribution_pipeline.value]).transform('sum') / x['total'] )\n",
    "    .assign(Risk=lambda x: x['Risk'].eq(0).groupby(x[select_num_distribution_pipeline.value]).transform('sum') / x['total'] )\n",
    "    .loc[:, [select_num_distribution_pipeline, 'total', 'Risk', 'NoRisk']]\n",
    "    .sort_values(select_num_distribution_pipeline)\n",
    "    .drop_duplicates()\n",
    ")\n",
    "num_distribution_pipeline"
   ]
  },
  {
   "cell_type": "code",
   "execution_count": 112,
   "id": "259ce807-a01b-4973-94b7-c999ac8b500b",
   "metadata": {
    "tags": []
   },
   "outputs": [
    {
     "data": {},
     "metadata": {},
     "output_type": "display_data"
    },
    {
     "data": {},
     "metadata": {},
     "output_type": "display_data"
    },
    {
     "data": {
      "application/vnd.holoviews_exec.v0+json": "",
      "text/html": [
       "<div id='11932'>\n",
       "  <div class=\"bk-root\" id=\"39d55d1d-5959-438a-a31c-1c616dbbb1c5\" data-root-id=\"11932\"></div>\n",
       "</div>\n",
       "<script type=\"application/javascript\">(function(root) {\n",
       "  function embed_document(root) {\n",
       "    var docs_json = {\"7cfbbae3-d805-4cba-8bc3-ea8655e69c92\":{\"defs\":[{\"extends\":null,\"module\":null,\"name\":\"ReactiveHTML1\",\"overrides\":[],\"properties\":[]},{\"extends\":null,\"module\":null,\"name\":\"FlexBox1\",\"overrides\":[],\"properties\":[{\"default\":\"flex-start\",\"kind\":null,\"name\":\"align_content\"},{\"default\":\"flex-start\",\"kind\":null,\"name\":\"align_items\"},{\"default\":\"row\",\"kind\":null,\"name\":\"flex_direction\"},{\"default\":\"wrap\",\"kind\":null,\"name\":\"flex_wrap\"},{\"default\":\"flex-start\",\"kind\":null,\"name\":\"justify_content\"}]},{\"extends\":null,\"module\":null,\"name\":\"GridStack1\",\"overrides\":[],\"properties\":[{\"default\":\"warn\",\"kind\":null,\"name\":\"mode\"},{\"default\":null,\"kind\":null,\"name\":\"ncols\"},{\"default\":null,\"kind\":null,\"name\":\"nrows\"},{\"default\":true,\"kind\":null,\"name\":\"allow_resize\"},{\"default\":true,\"kind\":null,\"name\":\"allow_drag\"},{\"default\":[],\"kind\":null,\"name\":\"state\"}]},{\"extends\":null,\"module\":null,\"name\":\"click1\",\"overrides\":[],\"properties\":[{\"default\":\"\",\"kind\":null,\"name\":\"terminal_output\"},{\"default\":\"\",\"kind\":null,\"name\":\"debug_name\"},{\"default\":0,\"kind\":null,\"name\":\"clears\"}]},{\"extends\":null,\"module\":null,\"name\":\"NotificationAreaBase1\",\"overrides\":[],\"properties\":[{\"default\":\"bottom-right\",\"kind\":null,\"name\":\"position\"},{\"default\":0,\"kind\":null,\"name\":\"_clear\"}]},{\"extends\":null,\"module\":null,\"name\":\"NotificationArea1\",\"overrides\":[],\"properties\":[{\"default\":[],\"kind\":null,\"name\":\"notifications\"},{\"default\":\"bottom-right\",\"kind\":null,\"name\":\"position\"},{\"default\":0,\"kind\":null,\"name\":\"_clear\"},{\"default\":[{\"background\":\"#ffc107\",\"icon\":{\"className\":\"fas fa-exclamation-triangle\",\"color\":\"white\",\"tagName\":\"i\"},\"type\":\"warning\"},{\"background\":\"#007bff\",\"icon\":{\"className\":\"fas fa-info-circle\",\"color\":\"white\",\"tagName\":\"i\"},\"type\":\"info\"}],\"kind\":null,\"name\":\"types\"}]},{\"extends\":null,\"module\":null,\"name\":\"Notification\",\"overrides\":[],\"properties\":[{\"default\":null,\"kind\":null,\"name\":\"background\"},{\"default\":3000,\"kind\":null,\"name\":\"duration\"},{\"default\":null,\"kind\":null,\"name\":\"icon\"},{\"default\":\"\",\"kind\":null,\"name\":\"message\"},{\"default\":null,\"kind\":null,\"name\":\"notification_type\"},{\"default\":false,\"kind\":null,\"name\":\"_destroyed\"}]},{\"extends\":null,\"module\":null,\"name\":\"TemplateActions1\",\"overrides\":[],\"properties\":[{\"default\":0,\"kind\":null,\"name\":\"open_modal\"},{\"default\":0,\"kind\":null,\"name\":\"close_modal\"}]},{\"extends\":null,\"module\":null,\"name\":\"MaterialTemplateActions1\",\"overrides\":[],\"properties\":[{\"default\":0,\"kind\":null,\"name\":\"open_modal\"},{\"default\":0,\"kind\":null,\"name\":\"close_modal\"}]}],\"roots\":{\"references\":[{\"attributes\":{\"line_color\":\"#1a6b54\",\"line_width\":3,\"x\":{\"field\":\"LoanDuration\"},\"y\":{\"field\":\"value\"}},\"id\":\"11981\",\"type\":\"Line\"},{\"attributes\":{},\"id\":\"11947\",\"type\":\"LinearScale\"},{\"attributes\":{\"label\":{\"value\":\"Risk\"},\"renderers\":[{\"id\":\"11984\"}]},\"id\":\"11997\",\"type\":\"LegendItem\"},{\"attributes\":{\"end\":1.038938053097345,\"reset_end\":1.038938053097345,\"reset_start\":-0.038938053097345125,\"start\":-0.038938053097345125,\"tags\":[[[\"value\",\"value\",null]]]},\"id\":\"11939\",\"type\":\"Range1d\"},{\"attributes\":{\"client_comm_id\":\"9caf8ac455af43d1b7a0b561c256d654\",\"comm_id\":\"7c47d70cb8ad4beaabae701608c5c9de\",\"plot_id\":\"11932\"},\"id\":\"12073\",\"type\":\"panel.models.comm_manager.CommManager\"},{\"attributes\":{\"above\":[{\"id\":\"11996\"}],\"below\":[{\"id\":\"11951\"}],\"center\":[{\"id\":\"11954\"},{\"id\":\"11958\"}],\"height\":500,\"left\":[{\"id\":\"11955\"}],\"margin\":[5,5,5,5],\"min_border_bottom\":10,\"min_border_left\":10,\"min_border_right\":10,\"min_border_top\":10,\"renderers\":[{\"id\":\"11984\"},{\"id\":\"12005\"}],\"sizing_mode\":\"fixed\",\"title\":{\"id\":\"11943\"},\"toolbar\":{\"id\":\"11965\"},\"x_range\":{\"id\":\"11938\"},\"x_scale\":{\"id\":\"11947\"},\"y_range\":{\"id\":\"11939\"},\"y_scale\":{\"id\":\"11949\"}},\"id\":\"11942\",\"subtype\":\"Figure\",\"type\":\"Plot\"},{\"attributes\":{\"line_alpha\":0.2,\"line_color\":\"#1a6b54\",\"line_width\":3,\"x\":{\"field\":\"LoanDuration\"},\"y\":{\"field\":\"value\"}},\"id\":\"11983\",\"type\":\"Line\"},{\"attributes\":{\"coordinates\":null,\"data_source\":{\"id\":\"11999\"},\"glyph\":{\"id\":\"12002\"},\"group\":null,\"hover_glyph\":null,\"muted_glyph\":{\"id\":\"12004\"},\"nonselection_glyph\":{\"id\":\"12003\"},\"selection_glyph\":{\"id\":\"12020\"},\"view\":{\"id\":\"12006\"}},\"id\":\"12005\",\"type\":\"GlyphRenderer\"},{\"attributes\":{},\"id\":\"11974\",\"type\":\"AllLabels\"},{\"attributes\":{},\"id\":\"11979\",\"type\":\"Selection\"},{\"attributes\":{\"coordinates\":null,\"group\":null,\"text\":\"Anteil an Risikof\\u00e4llen\",\"text_color\":\"black\",\"text_font_size\":\"12pt\"},\"id\":\"11943\",\"type\":\"Title\"},{\"attributes\":{\"line_color\":\"#ba2649\",\"line_width\":3,\"x\":{\"field\":\"LoanDuration\"},\"y\":{\"field\":\"value\"}},\"id\":\"12020\",\"type\":\"Line\"},{\"attributes\":{},\"id\":\"11960\",\"type\":\"PanTool\"},{\"attributes\":{\"bottom_units\":\"screen\",\"coordinates\":null,\"fill_alpha\":0.5,\"fill_color\":\"lightgrey\",\"group\":null,\"left_units\":\"screen\",\"level\":\"overlay\",\"line_alpha\":1.0,\"line_color\":\"black\",\"line_dash\":[4,4],\"line_width\":2,\"right_units\":\"screen\",\"syncable\":false,\"top_units\":\"screen\"},\"id\":\"11964\",\"type\":\"BoxAnnotation\"},{\"attributes\":{},\"id\":\"12000\",\"type\":\"Selection\"},{\"attributes\":{\"axis_label\":\"LoanDuration\",\"coordinates\":null,\"formatter\":{\"id\":\"11973\"},\"group\":null,\"major_label_policy\":{\"id\":\"11974\"},\"ticker\":{\"id\":\"11952\"}},\"id\":\"11951\",\"type\":\"LinearAxis\"},{\"attributes\":{\"line_color\":\"#ba2649\",\"line_width\":3,\"x\":{\"field\":\"LoanDuration\"},\"y\":{\"field\":\"value\"}},\"id\":\"12002\",\"type\":\"Line\"},{\"attributes\":{\"children\":[{\"id\":\"11933\"}],\"margin\":[0,0,0,0],\"name\":\"Row23060\"},\"id\":\"11932\",\"type\":\"Row\"},{\"attributes\":{\"axis\":{\"id\":\"11951\"},\"coordinates\":null,\"grid_line_color\":null,\"group\":null,\"ticker\":null},\"id\":\"11954\",\"type\":\"Grid\"},{\"attributes\":{\"source\":{\"id\":\"11999\"}},\"id\":\"12006\",\"type\":\"CDSView\"},{\"attributes\":{\"label\":{\"value\":\"NoRisk\"},\"renderers\":[{\"id\":\"12005\"}]},\"id\":\"12019\",\"type\":\"LegendItem\"},{\"attributes\":{\"active_drag\":{\"id\":\"11960\"},\"active_scroll\":{\"id\":\"11961\"},\"tools\":[{\"id\":\"11940\"},{\"id\":\"11959\"},{\"id\":\"11960\"},{\"id\":\"11961\"},{\"id\":\"11962\"},{\"id\":\"11963\"}]},\"id\":\"11965\",\"type\":\"Toolbar\"},{\"attributes\":{},\"id\":\"11952\",\"type\":\"BasicTicker\"},{\"attributes\":{},\"id\":\"11949\",\"type\":\"LinearScale\"},{\"attributes\":{\"axis_label\":\"Verteilung an Risikof\\u00e4llen\",\"coordinates\":null,\"formatter\":{\"id\":\"11976\"},\"group\":null,\"major_label_policy\":{\"id\":\"11977\"},\"ticker\":{\"id\":\"11956\"}},\"id\":\"11955\",\"type\":\"LinearAxis\"},{\"attributes\":{\"axis\":{\"id\":\"11955\"},\"coordinates\":null,\"dimension\":1,\"grid_line_color\":null,\"group\":null,\"ticker\":null},\"id\":\"11958\",\"type\":\"Grid\"},{\"attributes\":{},\"id\":\"11956\",\"type\":\"BasicTicker\"},{\"attributes\":{},\"id\":\"12016\",\"type\":\"UnionRenderers\"},{\"attributes\":{},\"id\":\"11973\",\"type\":\"BasicTickFormatter\"},{\"attributes\":{\"data\":{\"LoanDuration\":[4,5,6,7,8,9,10,11,12,13,14,15,16,17,18,19,20,21,22,23,24,25,26,27,28,29,30,31,32,33,34,35,36,37,38,39,40,41,42,43,44,45,46,47,48,49,50,51,52,53,54],\"Variable\":[\"Risk\",\"Risk\",\"Risk\",\"Risk\",\"Risk\",\"Risk\",\"Risk\",\"Risk\",\"Risk\",\"Risk\",\"Risk\",\"Risk\",\"Risk\",\"Risk\",\"Risk\",\"Risk\",\"Risk\",\"Risk\",\"Risk\",\"Risk\",\"Risk\",\"Risk\",\"Risk\",\"Risk\",\"Risk\",\"Risk\",\"Risk\",\"Risk\",\"Risk\",\"Risk\",\"Risk\",\"Risk\",\"Risk\",\"Risk\",\"Risk\",\"Risk\",\"Risk\",\"Risk\",\"Risk\",\"Risk\",\"Risk\",\"Risk\",\"Risk\",\"Risk\",\"Risk\",\"Risk\",\"Risk\",\"Risk\",\"Risk\",\"Risk\",\"Risk\"],\"value\":{\"__ndarray__\":\"aPJlgyZf7j99fX19fX3tPzmO4ziO4+g/ntiJndiJ7T9bETSc1H3pPy0j+oDq2Os/MygVJt6P7D+wSyofxv3qP8DIGRZcKus/OY7jOI7j6D+66KKLLrroP6G4FYpboeg/CtejcD0K5z80EJWO7BnoP4PnCBRtNeg/igm6qxQT5D9vjGCiv5PlPy1kIQtZyOI/F0M6bzGk4z+amZmZmZnhP4Mt2IIt2OI/UIp6GYnV4D9WLBvfDK3dP0MWspCFLOA/JCXkVMAv3D+rqqqqqqraP/nTFhqwpNc/ghLeaOr82j+WqF2J2pXYP+hk+iphbNY/W6wM34gC0z+ZT72YT73YP5PzsohPINU/9dNPP/300z/IU4I8JcjTPwAAAAAAAM4/L6G9hPYSyj/D9Shcj8LVPyxRuxK1K9E/VVVVVVVVxT97Ce0ltJfQPwAAAAAAAMA/kiRJkiRJwj8cx3Ecx3HMP0YXXXTRRcc/AAAAAAAA0D8UO7ETO7HDP5qZmZmZmck/VVVVVVVV1T9VVVVVVVXVPwAAAAAAANA/\",\"dtype\":\"float64\",\"order\":\"little\",\"shape\":[51]}},\"selected\":{\"id\":\"11979\"},\"selection_policy\":{\"id\":\"11993\"}},\"id\":\"11978\",\"type\":\"ColumnDataSource\"},{\"attributes\":{},\"id\":\"11961\",\"type\":\"WheelZoomTool\"},{\"attributes\":{},\"id\":\"11976\",\"type\":\"BasicTickFormatter\"},{\"attributes\":{},\"id\":\"11977\",\"type\":\"AllLabels\"},{\"attributes\":{},\"id\":\"11959\",\"type\":\"SaveTool\"},{\"attributes\":{\"overlay\":{\"id\":\"11964\"}},\"id\":\"11962\",\"type\":\"BoxZoomTool\"},{\"attributes\":{},\"id\":\"11963\",\"type\":\"ResetTool\"},{\"attributes\":{\"margin\":[5,10,5,10],\"options\":[\"LoanDuration\",\"Age\",\"LoanAmount\",\"InstallmentPercent\",\"CurrentResidenceDuration\",\"ExistingCreditsCount\",\"Dependents\"],\"title\":\"Select\",\"value\":\"LoanDuration\"},\"id\":\"11936\",\"type\":\"panel.models.widgets.CustomSelect\"},{\"attributes\":{\"click_policy\":\"mute\",\"coordinates\":null,\"group\":null,\"items\":[{\"id\":\"11997\"},{\"id\":\"12019\"}],\"location\":[0,0],\"orientation\":\"horizontal\",\"title\":\"Variable\"},\"id\":\"11996\",\"type\":\"Legend\"},{\"attributes\":{\"data\":{\"LoanDuration\":[4,5,6,7,8,9,10,11,12,13,14,15,16,17,18,19,20,21,22,23,24,25,26,27,28,29,30,31,32,33,34,35,36,37,38,39,40,41,42,43,44,45,46,47,48,49,50,51,52,53,54],\"Variable\":[\"NoRisk\",\"NoRisk\",\"NoRisk\",\"NoRisk\",\"NoRisk\",\"NoRisk\",\"NoRisk\",\"NoRisk\",\"NoRisk\",\"NoRisk\",\"NoRisk\",\"NoRisk\",\"NoRisk\",\"NoRisk\",\"NoRisk\",\"NoRisk\",\"NoRisk\",\"NoRisk\",\"NoRisk\",\"NoRisk\",\"NoRisk\",\"NoRisk\",\"NoRisk\",\"NoRisk\",\"NoRisk\",\"NoRisk\",\"NoRisk\",\"NoRisk\",\"NoRisk\",\"NoRisk\",\"NoRisk\",\"NoRisk\",\"NoRisk\",\"NoRisk\",\"NoRisk\",\"NoRisk\",\"NoRisk\",\"NoRisk\",\"NoRisk\",\"NoRisk\",\"NoRisk\",\"NoRisk\",\"NoRisk\",\"NoRisk\",\"NoRisk\",\"NoRisk\",\"NoRisk\",\"NoRisk\",\"NoRisk\",\"NoRisk\",\"NoRisk\"],\"value\":{\"__ndarray__\":\"fdmgyZcNqj8UFBQUFBS0PxzHcRzHccw/FDuxEzuxsz+Uui+PrQjKP0xzF/xVnMA/ar5Wzw6Buz9B0VaD5wjEPwLdmKePVsM/HMdxHMdxzD8XXXTRRRfNP3sdqdeRes0/7FG4HoXr0T8xv6vFTZjPP/Nh3K9LKs8/6+yLqNbZ1z8i5z67gNjUP6c3velNb9o/0nmLIZ232D/NzMzMzMzcP/qkT/qkT9o/YOsKze1U3j/VaXKQeSnhP3rTm970pt8/bu2N1R/o4T+rqqqqqqriPwOW9PKnLeQ/v/aQy4qB4j+1K1G7ErXjP4zNgmrPyeQ/0ql5kLt+5j80WKEzWKHjPzeGpjvYb+U/BhZYYIEF5j8c1r5h7RvmPwAAAAAAgOg/tJfQXkJ76T8fhetRuB7lP2pXonYlauc/q6qqqqqq6j9CewntJbTnPwAAAAAAAOw/27Zt27Zt6z85juM4juPoPy+66KKLLuo/AAAAAAAA6D87sRM7sRPrP5qZmZmZmek/VVVVVVVV5T9VVVVVVVXlPwAAAAAAAOg/\",\"dtype\":\"float64\",\"order\":\"little\",\"shape\":[51]}},\"selected\":{\"id\":\"12000\"},\"selection_policy\":{\"id\":\"12016\"}},\"id\":\"11999\",\"type\":\"ColumnDataSource\"},{\"attributes\":{\"children\":[{\"id\":\"11936\"}],\"margin\":[0,0,0,0],\"name\":\"Column23048\"},\"id\":\"11935\",\"type\":\"Column\"},{\"attributes\":{\"source\":{\"id\":\"11978\"}},\"id\":\"11985\",\"type\":\"CDSView\"},{\"attributes\":{\"line_alpha\":0.2,\"line_color\":\"#ba2649\",\"line_width\":3,\"x\":{\"field\":\"LoanDuration\"},\"y\":{\"field\":\"value\"}},\"id\":\"12004\",\"type\":\"Line\"},{\"attributes\":{\"children\":[{\"id\":\"11934\"},{\"id\":\"11942\"}],\"margin\":[0,0,0,0],\"name\":\"Column23059\"},\"id\":\"11933\",\"type\":\"Column\"},{\"attributes\":{\"end\":54.0,\"reset_end\":54.0,\"reset_start\":4.0,\"start\":4.0,\"tags\":[[[\"LoanDuration\",\"LoanDuration\",null]]]},\"id\":\"11938\",\"type\":\"Range1d\"},{\"attributes\":{\"children\":[{\"id\":\"11935\"},{\"id\":\"11937\"}],\"margin\":[0,0,0,0],\"name\":\"Row23053\"},\"id\":\"11934\",\"type\":\"Row\"},{\"attributes\":{\"line_alpha\":0.1,\"line_color\":\"#ba2649\",\"line_width\":3,\"x\":{\"field\":\"LoanDuration\"},\"y\":{\"field\":\"value\"}},\"id\":\"12003\",\"type\":\"Line\"},{\"attributes\":{\"line_color\":\"#1a6b54\",\"line_width\":3,\"x\":{\"field\":\"LoanDuration\"},\"y\":{\"field\":\"value\"}},\"id\":\"11998\",\"type\":\"Line\"},{\"attributes\":{\"margin\":[5,5,5,5],\"name\":\"HSpacer23052\",\"sizing_mode\":\"stretch_width\"},\"id\":\"11937\",\"type\":\"Spacer\"},{\"attributes\":{\"line_alpha\":0.1,\"line_color\":\"#1a6b54\",\"line_width\":3,\"x\":{\"field\":\"LoanDuration\"},\"y\":{\"field\":\"value\"}},\"id\":\"11982\",\"type\":\"Line\"},{\"attributes\":{},\"id\":\"11993\",\"type\":\"UnionRenderers\"},{\"attributes\":{\"coordinates\":null,\"data_source\":{\"id\":\"11978\"},\"glyph\":{\"id\":\"11981\"},\"group\":null,\"hover_glyph\":null,\"muted_glyph\":{\"id\":\"11983\"},\"nonselection_glyph\":{\"id\":\"11982\"},\"selection_glyph\":{\"id\":\"11998\"},\"view\":{\"id\":\"11985\"}},\"id\":\"11984\",\"type\":\"GlyphRenderer\"},{\"attributes\":{\"callback\":null,\"renderers\":[{\"id\":\"11984\"},{\"id\":\"12005\"}],\"tags\":[\"hv_created\"],\"tooltips\":[[\"Variable\",\"@{Variable}\"],[\"LoanDuration\",\"@{LoanDuration}\"],[\"value\",\"@{value}\"]]},\"id\":\"11940\",\"type\":\"HoverTool\"}],\"root_ids\":[\"11932\",\"12073\"]},\"title\":\"Bokeh Application\",\"version\":\"2.4.3\"}};\n",
       "    var render_items = [{\"docid\":\"7cfbbae3-d805-4cba-8bc3-ea8655e69c92\",\"root_ids\":[\"11932\"],\"roots\":{\"11932\":\"39d55d1d-5959-438a-a31c-1c616dbbb1c5\"}}];\n",
       "    root.Bokeh.embed.embed_items_notebook(docs_json, render_items);\n",
       "    for (const render_item of render_items) {\n",
       "      for (const root_id of render_item.root_ids) {\n",
       "\tconst id_el = document.getElementById(root_id)\n",
       "\tif (id_el.children.length && (id_el.children[0].className === 'bk-root')) {\n",
       "\t  const root_el = id_el.children[0]\n",
       "\t  root_el.id = root_el.id + '-rendered'\n",
       "\t}\n",
       "      }\n",
       "    }\n",
       "  }\n",
       "  if (root.Bokeh !== undefined && root.Bokeh.Panel !== undefined && ( root['Tabulator'] !== undefined) && ( root['Tabulator'] !== undefined) && ( root['Tabulator'] !== undefined) && ( root['Tabulator'] !== undefined) && ( root['Tabulator'] !== undefined)) {\n",
       "    embed_document(root);\n",
       "  } else {\n",
       "    var attempts = 0;\n",
       "    var timer = setInterval(function(root) {\n",
       "      if (root.Bokeh !== undefined && root.Bokeh.Panel !== undefined && (root['Tabulator'] !== undefined) && (root['Tabulator'] !== undefined) && (root['Tabulator'] !== undefined) && (root['Tabulator'] !== undefined) && (root['Tabulator'] !== undefined)) {\n",
       "        clearInterval(timer);\n",
       "        embed_document(root);\n",
       "      } else if (document.readyState == \"complete\") {\n",
       "        attempts++;\n",
       "        if (attempts > 200) {\n",
       "          clearInterval(timer);\n",
       "          console.log(\"Bokeh: ERROR: Unable to run BokehJS code because BokehJS library is missing\");\n",
       "        }\n",
       "      }\n",
       "    }, 25, root)\n",
       "  }\n",
       "})(window);</script>"
      ],
      "text/plain": [
       "<hvplot.interactive.Interactive at 0x7fe591020d60>"
      ]
     },
     "execution_count": 112,
     "metadata": {
      "application/vnd.holoviews_exec.v0+json": {
       "id": "11932"
      }
     },
     "output_type": "execute_result"
    }
   ],
   "source": [
    "num_distribution_plot = num_distribution_pipeline.hvplot.line(\n",
    "    x=select_num_distribution_pipeline,\n",
    "    y=['Risk', 'NoRisk'],\n",
    "    title=\"Anteil an Risikofällen\",\n",
    "    ylabel=\"Verteilung an Risikofällen\",\n",
    "    height=500,\n",
    "    width=600,\n",
    "    color=[\"#1a6b54\", \"#ba2649\"],\n",
    "    line_width=3,\n",
    "    legend='top'\n",
    ")\n",
    "num_distribution_plot"
   ]
  },
  {
   "cell_type": "markdown",
   "id": "b2e3cb1b-093c-47ae-b6df-60a0487d0023",
   "metadata": {
    "tags": []
   },
   "source": [
    "## (3) Anzahl an unterschiedlichen Werten und deren Verteilung für Kategorische Werte"
   ]
  },
  {
   "cell_type": "code",
   "execution_count": 16,
   "id": "f9496235-820f-49c8-a375-fbef06be6c1e",
   "metadata": {
    "tags": []
   },
   "outputs": [
    {
     "data": {},
     "metadata": {},
     "output_type": "display_data"
    },
    {
     "data": {
      "application/vnd.holoviews_exec.v0+json": "",
      "text/html": [
       "<div id='1588'>\n",
       "  <div class=\"bk-root\" id=\"4632eced-853d-4a45-b884-b89470526eec\" data-root-id=\"1588\"></div>\n",
       "</div>\n",
       "<script type=\"application/javascript\">(function(root) {\n",
       "  function embed_document(root) {\n",
       "    var docs_json = {\"19d62039-0173-4f80-86be-bfe62c5b523e\":{\"defs\":[{\"extends\":null,\"module\":null,\"name\":\"ReactiveHTML1\",\"overrides\":[],\"properties\":[]},{\"extends\":null,\"module\":null,\"name\":\"FlexBox1\",\"overrides\":[],\"properties\":[{\"default\":\"flex-start\",\"kind\":null,\"name\":\"align_content\"},{\"default\":\"flex-start\",\"kind\":null,\"name\":\"align_items\"},{\"default\":\"row\",\"kind\":null,\"name\":\"flex_direction\"},{\"default\":\"wrap\",\"kind\":null,\"name\":\"flex_wrap\"},{\"default\":\"flex-start\",\"kind\":null,\"name\":\"justify_content\"}]},{\"extends\":null,\"module\":null,\"name\":\"GridStack1\",\"overrides\":[],\"properties\":[{\"default\":\"warn\",\"kind\":null,\"name\":\"mode\"},{\"default\":null,\"kind\":null,\"name\":\"ncols\"},{\"default\":null,\"kind\":null,\"name\":\"nrows\"},{\"default\":true,\"kind\":null,\"name\":\"allow_resize\"},{\"default\":true,\"kind\":null,\"name\":\"allow_drag\"},{\"default\":[],\"kind\":null,\"name\":\"state\"}]},{\"extends\":null,\"module\":null,\"name\":\"click1\",\"overrides\":[],\"properties\":[{\"default\":\"\",\"kind\":null,\"name\":\"terminal_output\"},{\"default\":\"\",\"kind\":null,\"name\":\"debug_name\"},{\"default\":0,\"kind\":null,\"name\":\"clears\"}]},{\"extends\":null,\"module\":null,\"name\":\"NotificationAreaBase1\",\"overrides\":[],\"properties\":[{\"default\":\"bottom-right\",\"kind\":null,\"name\":\"position\"},{\"default\":0,\"kind\":null,\"name\":\"_clear\"}]},{\"extends\":null,\"module\":null,\"name\":\"NotificationArea1\",\"overrides\":[],\"properties\":[{\"default\":[],\"kind\":null,\"name\":\"notifications\"},{\"default\":\"bottom-right\",\"kind\":null,\"name\":\"position\"},{\"default\":0,\"kind\":null,\"name\":\"_clear\"},{\"default\":[{\"background\":\"#ffc107\",\"icon\":{\"className\":\"fas fa-exclamation-triangle\",\"color\":\"white\",\"tagName\":\"i\"},\"type\":\"warning\"},{\"background\":\"#007bff\",\"icon\":{\"className\":\"fas fa-info-circle\",\"color\":\"white\",\"tagName\":\"i\"},\"type\":\"info\"}],\"kind\":null,\"name\":\"types\"}]},{\"extends\":null,\"module\":null,\"name\":\"Notification\",\"overrides\":[],\"properties\":[{\"default\":null,\"kind\":null,\"name\":\"background\"},{\"default\":3000,\"kind\":null,\"name\":\"duration\"},{\"default\":null,\"kind\":null,\"name\":\"icon\"},{\"default\":\"\",\"kind\":null,\"name\":\"message\"},{\"default\":null,\"kind\":null,\"name\":\"notification_type\"},{\"default\":false,\"kind\":null,\"name\":\"_destroyed\"}]},{\"extends\":null,\"module\":null,\"name\":\"TemplateActions1\",\"overrides\":[],\"properties\":[{\"default\":0,\"kind\":null,\"name\":\"open_modal\"},{\"default\":0,\"kind\":null,\"name\":\"close_modal\"}]},{\"extends\":null,\"module\":null,\"name\":\"MaterialTemplateActions1\",\"overrides\":[],\"properties\":[{\"default\":0,\"kind\":null,\"name\":\"open_modal\"},{\"default\":0,\"kind\":null,\"name\":\"close_modal\"}]}],\"roots\":{\"references\":[{\"attributes\":{\"children\":[{\"id\":\"1590\"},{\"id\":\"1594\"}],\"margin\":[0,0,0,0],\"name\":\"Column03411\"},\"id\":\"1589\",\"type\":\"Column\"},{\"attributes\":{\"children\":[{\"id\":\"1589\"}],\"margin\":[0,0,0,0],\"name\":\"Row03412\"},\"id\":\"1588\",\"type\":\"Row\"},{\"attributes\":{\"margin\":[5,10,5,10],\"options\":[\"Age\",\"Sex\",\"ForeignWorker\"],\"title\":\"Select\",\"value\":\"Age\"},\"id\":\"1592\",\"type\":\"panel.models.widgets.CustomSelect\"},{\"attributes\":{\"margin\":[5,5,5,5],\"name\":\"HSpacer03409\",\"sizing_mode\":\"stretch_width\"},\"id\":\"1593\",\"type\":\"Spacer\"},{\"attributes\":{\"children\":[{\"id\":\"1595\"}],\"margin\":[0,0,0,0],\"name\":\"Row03406\"},\"id\":\"1594\",\"type\":\"Row\"},{\"attributes\":{\"children\":[{\"id\":\"1592\"}],\"margin\":[0,0,0,0],\"name\":\"Column03401\"},\"id\":\"1591\",\"type\":\"Column\"},{\"attributes\":{\"children\":[{\"id\":\"1591\"},{\"id\":\"1593\"}],\"margin\":[0,0,0,0],\"name\":\"Row03410\"},\"id\":\"1590\",\"type\":\"Row\"},{\"attributes\":{\"client_comm_id\":\"db7cf3bb89dc4b2bafb2d8fdb995986d\",\"comm_id\":\"51d68a8e5f0e44e1aad0c1605900302c\",\"plot_id\":\"1588\"},\"id\":\"1596\",\"type\":\"panel.models.comm_manager.CommManager\"},{\"attributes\":{\"margin\":[5,5,5,5],\"name\":\"DataFrame03407\",\"text\":\"&lt;table class=&quot;dataframe panel-df&quot;&gt;\\n  &lt;thead&gt;\\n    &lt;tr style=&quot;text-align: right;&quot;&gt;\\n      &lt;th&gt;&lt;/th&gt;\\n      &lt;th&gt;Age&lt;/th&gt;\\n      &lt;th&gt;total&lt;/th&gt;\\n    &lt;/tr&gt;\\n  &lt;/thead&gt;\\n  &lt;tbody&gt;\\n    &lt;tr&gt;\\n      &lt;th&gt;3542&lt;/th&gt;\\n      &lt;td&gt;19&lt;/td&gt;\\n      &lt;td&gt;426&lt;/td&gt;\\n    &lt;/tr&gt;\\n    &lt;tr&gt;\\n      &lt;th&gt;2900&lt;/th&gt;\\n      &lt;td&gt;20&lt;/td&gt;\\n      &lt;td&gt;79&lt;/td&gt;\\n    &lt;/tr&gt;\\n    &lt;tr&gt;\\n      &lt;th&gt;3853&lt;/th&gt;\\n      &lt;td&gt;21&lt;/td&gt;\\n      &lt;td&gt;78&lt;/td&gt;\\n    &lt;/tr&gt;\\n    &lt;tr&gt;\\n      &lt;th&gt;3631&lt;/th&gt;\\n      &lt;td&gt;22&lt;/td&gt;\\n      &lt;td&gt;104&lt;/td&gt;\\n    &lt;/tr&gt;\\n    &lt;tr&gt;\\n      &lt;th&gt;3749&lt;/th&gt;\\n      &lt;td&gt;23&lt;/td&gt;\\n      &lt;td&gt;87&lt;/td&gt;\\n    &lt;/tr&gt;\\n    &lt;tr&gt;\\n      &lt;th&gt;4699&lt;/th&gt;\\n      &lt;td&gt;24&lt;/td&gt;\\n      &lt;td&gt;108&lt;/td&gt;\\n    &lt;/tr&gt;\\n    &lt;tr&gt;\\n      &lt;th&gt;5297&lt;/th&gt;\\n      &lt;td&gt;25&lt;/td&gt;\\n      &lt;td&gt;108&lt;/td&gt;\\n    &lt;/tr&gt;\\n    &lt;tr&gt;\\n      &lt;th&gt;4470&lt;/th&gt;\\n      &lt;td&gt;26&lt;/td&gt;\\n      &lt;td&gt;116&lt;/td&gt;\\n    &lt;/tr&gt;\\n    &lt;tr&gt;\\n      &lt;th&gt;2465&lt;/th&gt;\\n      &lt;td&gt;27&lt;/td&gt;\\n      &lt;td&gt;128&lt;/td&gt;\\n    &lt;/tr&gt;\\n    &lt;tr&gt;\\n      &lt;th&gt;1915&lt;/th&gt;\\n      &lt;td&gt;28&lt;/td&gt;\\n      &lt;td&gt;157&lt;/td&gt;\\n    &lt;/tr&gt;\\n    &lt;tr&gt;\\n      &lt;th&gt;4741&lt;/th&gt;\\n      &lt;td&gt;29&lt;/td&gt;\\n      &lt;td&gt;155&lt;/td&gt;\\n    &lt;/tr&gt;\\n    &lt;tr&gt;\\n      &lt;th&gt;4838&lt;/th&gt;\\n      &lt;td&gt;30&lt;/td&gt;\\n      &lt;td&gt;150&lt;/td&gt;\\n    &lt;/tr&gt;\\n    &lt;tr&gt;\\n      &lt;th&gt;3033&lt;/th&gt;\\n      &lt;td&gt;31&lt;/td&gt;\\n      &lt;td&gt;179&lt;/td&gt;\\n    &lt;/tr&gt;\\n    &lt;tr&gt;\\n      &lt;th&gt;4616&lt;/th&gt;\\n      &lt;td&gt;32&lt;/td&gt;\\n      &lt;td&gt;168&lt;/td&gt;\\n    &lt;/tr&gt;\\n    &lt;tr&gt;\\n      &lt;th&gt;3774&lt;/th&gt;\\n      &lt;td&gt;33&lt;/td&gt;\\n      &lt;td&gt;180&lt;/td&gt;\\n    &lt;/tr&gt;\\n    &lt;tr&gt;\\n      &lt;th&gt;3200&lt;/th&gt;\\n      &lt;td&gt;34&lt;/td&gt;\\n      &lt;td&gt;192&lt;/td&gt;\\n    &lt;/tr&gt;\\n    &lt;tr&gt;\\n      &lt;th&gt;2778&lt;/th&gt;\\n      &lt;td&gt;35&lt;/td&gt;\\n      &lt;td&gt;150&lt;/td&gt;\\n    &lt;/tr&gt;\\n    &lt;tr&gt;\\n      &lt;th&gt;3511&lt;/th&gt;\\n      &lt;td&gt;36&lt;/td&gt;\\n      &lt;td&gt;207&lt;/td&gt;\\n    &lt;/tr&gt;\\n    &lt;tr&gt;\\n      &lt;th&gt;5307&lt;/th&gt;\\n      &lt;td&gt;37&lt;/td&gt;\\n      &lt;td&gt;186&lt;/td&gt;\\n    &lt;/tr&gt;\\n    &lt;tr&gt;\\n      &lt;th&gt;2196&lt;/th&gt;\\n      &lt;td&gt;38&lt;/td&gt;\\n      &lt;td&gt;173&lt;/td&gt;\\n    &lt;/tr&gt;\\n    &lt;tr&gt;\\n      &lt;th&gt;1632&lt;/th&gt;\\n      &lt;td&gt;39&lt;/td&gt;\\n      &lt;td&gt;185&lt;/td&gt;\\n    &lt;/tr&gt;\\n    &lt;tr&gt;\\n      &lt;th&gt;4325&lt;/th&gt;\\n      &lt;td&gt;40&lt;/td&gt;\\n      &lt;td&gt;191&lt;/td&gt;\\n    &lt;/tr&gt;\\n    &lt;tr&gt;\\n      &lt;th&gt;1564&lt;/th&gt;\\n      &lt;td&gt;41&lt;/td&gt;\\n      &lt;td&gt;188&lt;/td&gt;\\n    &lt;/tr&gt;\\n    &lt;tr&gt;\\n      &lt;th&gt;1348&lt;/th&gt;\\n      &lt;td&gt;42&lt;/td&gt;\\n      &lt;td&gt;168&lt;/td&gt;\\n    &lt;/tr&gt;\\n    &lt;tr&gt;\\n      &lt;th&gt;4359&lt;/th&gt;\\n      &lt;td&gt;43&lt;/td&gt;\\n      &lt;td&gt;171&lt;/td&gt;\\n    &lt;/tr&gt;\\n    &lt;tr&gt;\\n      &lt;th&gt;13&lt;/th&gt;\\n      &lt;td&gt;44&lt;/td&gt;\\n      &lt;td&gt;157&lt;/td&gt;\\n    &lt;/tr&gt;\\n    &lt;tr&gt;\\n      &lt;th&gt;138&lt;/th&gt;\\n      &lt;td&gt;45&lt;/td&gt;\\n      &lt;td&gt;171&lt;/td&gt;\\n    &lt;/tr&gt;\\n    &lt;tr&gt;\\n      &lt;th&gt;5033&lt;/th&gt;\\n      &lt;td&gt;46&lt;/td&gt;\\n      &lt;td&gt;167&lt;/td&gt;\\n    &lt;/tr&gt;\\n    &lt;tr&gt;\\n      &lt;th&gt;987&lt;/th&gt;\\n      &lt;td&gt;47&lt;/td&gt;\\n      &lt;td&gt;130&lt;/td&gt;\\n    &lt;/tr&gt;\\n    &lt;tr&gt;\\n      &lt;th&gt;4051&lt;/th&gt;\\n      &lt;td&gt;48&lt;/td&gt;\\n      &lt;td&gt;118&lt;/td&gt;\\n    &lt;/tr&gt;\\n    &lt;tr&gt;\\n      &lt;th&gt;4994&lt;/th&gt;\\n      &lt;td&gt;49&lt;/td&gt;\\n      &lt;td&gt;116&lt;/td&gt;\\n    &lt;/tr&gt;\\n    &lt;tr&gt;\\n      &lt;th&gt;3954&lt;/th&gt;\\n      &lt;td&gt;50&lt;/td&gt;\\n      &lt;td&gt;99&lt;/td&gt;\\n    &lt;/tr&gt;\\n    &lt;tr&gt;\\n      &lt;th&gt;5306&lt;/th&gt;\\n      &lt;td&gt;51&lt;/td&gt;\\n      &lt;td&gt;92&lt;/td&gt;\\n    &lt;/tr&gt;\\n    &lt;tr&gt;\\n      &lt;th&gt;1935&lt;/th&gt;\\n      &lt;td&gt;52&lt;/td&gt;\\n      &lt;td&gt;87&lt;/td&gt;\\n    &lt;/tr&gt;\\n    &lt;tr&gt;\\n      &lt;th&gt;1548&lt;/th&gt;\\n      &lt;td&gt;53&lt;/td&gt;\\n      &lt;td&gt;67&lt;/td&gt;\\n    &lt;/tr&gt;\\n    &lt;tr&gt;\\n      &lt;th&gt;2520&lt;/th&gt;\\n      &lt;td&gt;54&lt;/td&gt;\\n      &lt;td&gt;62&lt;/td&gt;\\n    &lt;/tr&gt;\\n    &lt;tr&gt;\\n      &lt;th&gt;5450&lt;/th&gt;\\n      &lt;td&gt;55&lt;/td&gt;\\n      &lt;td&gt;55&lt;/td&gt;\\n    &lt;/tr&gt;\\n    &lt;tr&gt;\\n      &lt;th&gt;5242&lt;/th&gt;\\n      &lt;td&gt;56&lt;/td&gt;\\n      &lt;td&gt;36&lt;/td&gt;\\n    &lt;/tr&gt;\\n    &lt;tr&gt;\\n      &lt;th&gt;5466&lt;/th&gt;\\n      &lt;td&gt;57&lt;/td&gt;\\n      &lt;td&gt;36&lt;/td&gt;\\n    &lt;/tr&gt;\\n    &lt;tr&gt;\\n      &lt;th&gt;4536&lt;/th&gt;\\n      &lt;td&gt;58&lt;/td&gt;\\n      &lt;td&gt;29&lt;/td&gt;\\n    &lt;/tr&gt;\\n    &lt;tr&gt;\\n      &lt;th&gt;4042&lt;/th&gt;\\n      &lt;td&gt;59&lt;/td&gt;\\n      &lt;td&gt;21&lt;/td&gt;\\n    &lt;/tr&gt;\\n    &lt;tr&gt;\\n      &lt;th&gt;4396&lt;/th&gt;\\n      &lt;td&gt;60&lt;/td&gt;\\n      &lt;td&gt;23&lt;/td&gt;\\n    &lt;/tr&gt;\\n    &lt;tr&gt;\\n      &lt;th&gt;1908&lt;/th&gt;\\n      &lt;td&gt;61&lt;/td&gt;\\n      &lt;td&gt;16&lt;/td&gt;\\n    &lt;/tr&gt;\\n    &lt;tr&gt;\\n      &lt;th&gt;717&lt;/th&gt;\\n      &lt;td&gt;62&lt;/td&gt;\\n      &lt;td&gt;6&lt;/td&gt;\\n    &lt;/tr&gt;\\n    &lt;tr&gt;\\n      &lt;th&gt;2357&lt;/th&gt;\\n      &lt;td&gt;63&lt;/td&gt;\\n      &lt;td&gt;5&lt;/td&gt;\\n    &lt;/tr&gt;\\n    &lt;tr&gt;\\n      &lt;th&gt;4755&lt;/th&gt;\\n      &lt;td&gt;64&lt;/td&gt;\\n      &lt;td&gt;6&lt;/td&gt;\\n    &lt;/tr&gt;\\n    &lt;tr&gt;\\n      &lt;th&gt;5543&lt;/th&gt;\\n      &lt;td&gt;65&lt;/td&gt;\\n      &lt;td&gt;6&lt;/td&gt;\\n    &lt;/tr&gt;\\n    &lt;tr&gt;\\n      &lt;th&gt;5544&lt;/th&gt;\\n      &lt;td&gt;66&lt;/td&gt;\\n      &lt;td&gt;5&lt;/td&gt;\\n    &lt;/tr&gt;\\n    &lt;tr&gt;\\n      &lt;th&gt;1611&lt;/th&gt;\\n      &lt;td&gt;67&lt;/td&gt;\\n      &lt;td&gt;2&lt;/td&gt;\\n    &lt;/tr&gt;\\n  &lt;/tbody&gt;\\n&lt;/table&gt;\"},\"id\":\"1595\",\"type\":\"panel.models.markup.HTML\"}],\"root_ids\":[\"1588\",\"1596\"]},\"title\":\"Bokeh Application\",\"version\":\"2.4.3\"}};\n",
       "    var render_items = [{\"docid\":\"19d62039-0173-4f80-86be-bfe62c5b523e\",\"root_ids\":[\"1588\"],\"roots\":{\"1588\":\"4632eced-853d-4a45-b884-b89470526eec\"}}];\n",
       "    root.Bokeh.embed.embed_items_notebook(docs_json, render_items);\n",
       "    for (const render_item of render_items) {\n",
       "      for (const root_id of render_item.root_ids) {\n",
       "\tconst id_el = document.getElementById(root_id)\n",
       "\tif (id_el.children.length && (id_el.children[0].className === 'bk-root')) {\n",
       "\t  const root_el = id_el.children[0]\n",
       "\t  root_el.id = root_el.id + '-rendered'\n",
       "\t}\n",
       "      }\n",
       "    }\n",
       "  }\n",
       "  if (root.Bokeh !== undefined && root.Bokeh.Panel !== undefined && ( root['Tabulator'] !== undefined)) {\n",
       "    embed_document(root);\n",
       "  } else {\n",
       "    var attempts = 0;\n",
       "    var timer = setInterval(function(root) {\n",
       "      if (root.Bokeh !== undefined && root.Bokeh.Panel !== undefined && (root['Tabulator'] !== undefined)) {\n",
       "        clearInterval(timer);\n",
       "        embed_document(root);\n",
       "      } else if (document.readyState == \"complete\") {\n",
       "        attempts++;\n",
       "        if (attempts > 200) {\n",
       "          clearInterval(timer);\n",
       "          console.log(\"Bokeh: ERROR: Unable to run BokehJS code because BokehJS library is missing\");\n",
       "        }\n",
       "      }\n",
       "    }, 25, root)\n",
       "  }\n",
       "})(window);</script>"
      ],
      "text/plain": [
       "<hvplot.interactive.Interactive at 0x7fe5a0dd97f0>"
      ]
     },
     "execution_count": 16,
     "metadata": {
      "application/vnd.holoviews_exec.v0+json": {
       "id": "1588"
      }
     },
     "output_type": "execute_result"
    }
   ],
   "source": [
    "cat_distribution_pipeline2 = (\n",
    "    idf\n",
    "    .assign(total=lambda x: x.groupby(select_cat_distribution_pipeline.value)['Risk'].transform('count'))\n",
    "    .assign(NoRisk=lambda x: x['Risk'].eq(1).groupby(x[select_cat_distribution_pipeline.value]).transform('sum') / x['total'] )\n",
    "    .assign(Risk=lambda x: x['Risk'].eq(0).groupby(x[select_cat_distribution_pipeline.value]).transform('sum') / x['total'] )\n",
    "    .loc[:, [select_cat_distribution_pipeline, 'total']]\n",
    "    .sort_values(select_cat_distribution_pipeline)\n",
    "    .drop_duplicates()\n",
    ")\n",
    "cat_distribution_pipeline2"
   ]
  },
  {
   "cell_type": "code",
   "execution_count": 88,
   "id": "c9ef862a-12ba-4f08-b23a-44dcfb7d6f7a",
   "metadata": {
    "tags": []
   },
   "outputs": [
    {
     "data": {},
     "metadata": {},
     "output_type": "display_data"
    },
    {
     "data": {},
     "metadata": {},
     "output_type": "display_data"
    },
    {
     "data": {
      "application/vnd.holoviews_exec.v0+json": "",
      "text/html": [
       "<div id='10318'>\n",
       "  <div class=\"bk-root\" id=\"a380e748-8b04-4fc3-b6f7-f024f989cb63\" data-root-id=\"10318\"></div>\n",
       "</div>\n",
       "<script type=\"application/javascript\">(function(root) {\n",
       "  function embed_document(root) {\n",
       "    var docs_json = {\"90ab5431-102a-4644-b7a3-10efa9faed12\":{\"defs\":[{\"extends\":null,\"module\":null,\"name\":\"ReactiveHTML1\",\"overrides\":[],\"properties\":[]},{\"extends\":null,\"module\":null,\"name\":\"FlexBox1\",\"overrides\":[],\"properties\":[{\"default\":\"flex-start\",\"kind\":null,\"name\":\"align_content\"},{\"default\":\"flex-start\",\"kind\":null,\"name\":\"align_items\"},{\"default\":\"row\",\"kind\":null,\"name\":\"flex_direction\"},{\"default\":\"wrap\",\"kind\":null,\"name\":\"flex_wrap\"},{\"default\":\"flex-start\",\"kind\":null,\"name\":\"justify_content\"}]},{\"extends\":null,\"module\":null,\"name\":\"GridStack1\",\"overrides\":[],\"properties\":[{\"default\":\"warn\",\"kind\":null,\"name\":\"mode\"},{\"default\":null,\"kind\":null,\"name\":\"ncols\"},{\"default\":null,\"kind\":null,\"name\":\"nrows\"},{\"default\":true,\"kind\":null,\"name\":\"allow_resize\"},{\"default\":true,\"kind\":null,\"name\":\"allow_drag\"},{\"default\":[],\"kind\":null,\"name\":\"state\"}]},{\"extends\":null,\"module\":null,\"name\":\"click1\",\"overrides\":[],\"properties\":[{\"default\":\"\",\"kind\":null,\"name\":\"terminal_output\"},{\"default\":\"\",\"kind\":null,\"name\":\"debug_name\"},{\"default\":0,\"kind\":null,\"name\":\"clears\"}]},{\"extends\":null,\"module\":null,\"name\":\"NotificationAreaBase1\",\"overrides\":[],\"properties\":[{\"default\":\"bottom-right\",\"kind\":null,\"name\":\"position\"},{\"default\":0,\"kind\":null,\"name\":\"_clear\"}]},{\"extends\":null,\"module\":null,\"name\":\"NotificationArea1\",\"overrides\":[],\"properties\":[{\"default\":[],\"kind\":null,\"name\":\"notifications\"},{\"default\":\"bottom-right\",\"kind\":null,\"name\":\"position\"},{\"default\":0,\"kind\":null,\"name\":\"_clear\"},{\"default\":[{\"background\":\"#ffc107\",\"icon\":{\"className\":\"fas fa-exclamation-triangle\",\"color\":\"white\",\"tagName\":\"i\"},\"type\":\"warning\"},{\"background\":\"#007bff\",\"icon\":{\"className\":\"fas fa-info-circle\",\"color\":\"white\",\"tagName\":\"i\"},\"type\":\"info\"}],\"kind\":null,\"name\":\"types\"}]},{\"extends\":null,\"module\":null,\"name\":\"Notification\",\"overrides\":[],\"properties\":[{\"default\":null,\"kind\":null,\"name\":\"background\"},{\"default\":3000,\"kind\":null,\"name\":\"duration\"},{\"default\":null,\"kind\":null,\"name\":\"icon\"},{\"default\":\"\",\"kind\":null,\"name\":\"message\"},{\"default\":null,\"kind\":null,\"name\":\"notification_type\"},{\"default\":false,\"kind\":null,\"name\":\"_destroyed\"}]},{\"extends\":null,\"module\":null,\"name\":\"TemplateActions1\",\"overrides\":[],\"properties\":[{\"default\":0,\"kind\":null,\"name\":\"open_modal\"},{\"default\":0,\"kind\":null,\"name\":\"close_modal\"}]},{\"extends\":null,\"module\":null,\"name\":\"MaterialTemplateActions1\",\"overrides\":[],\"properties\":[{\"default\":0,\"kind\":null,\"name\":\"open_modal\"},{\"default\":0,\"kind\":null,\"name\":\"close_modal\"}]}],\"roots\":{\"references\":[{\"attributes\":{\"bottom\":{\"value\":0},\"fill_alpha\":{\"value\":1.0},\"fill_color\":{\"value\":\"#30a2da\"},\"hatch_alpha\":{\"value\":1.0},\"hatch_color\":{\"value\":\"#30a2da\"},\"hatch_scale\":{\"value\":12.0},\"hatch_weight\":{\"value\":1.0},\"line_alpha\":{\"value\":1.0},\"line_cap\":{\"value\":\"butt\"},\"line_color\":{\"value\":\"black\"},\"line_dash\":{\"value\":[]},\"line_dash_offset\":{\"value\":0},\"line_join\":{\"value\":\"bevel\"},\"line_width\":{\"value\":1},\"top\":{\"field\":\"total\"},\"width\":{\"value\":0.8},\"x\":{\"field\":\"Age\"}},\"id\":\"10364\",\"type\":\"VBar\"},{\"attributes\":{\"fill_color\":{\"value\":\"#30a2da\"},\"hatch_color\":{\"value\":\"#30a2da\"},\"top\":{\"field\":\"total\"},\"width\":{\"value\":0.8},\"x\":{\"field\":\"Age\"}},\"id\":\"10359\",\"type\":\"VBar\"},{\"attributes\":{},\"id\":\"10332\",\"type\":\"CategoricalScale\"},{\"attributes\":{\"children\":[{\"id\":\"10319\"}],\"margin\":[0,0,0,0],\"name\":\"Row19878\"},\"id\":\"10318\",\"type\":\"Row\"},{\"attributes\":{\"factors\":[\"19\",\"20\",\"21\",\"22\",\"23\",\"24\",\"25\",\"26\",\"27\",\"28\",\"29\",\"30\",\"31\",\"32\",\"33\",\"34\",\"35\",\"36\",\"37\",\"38\",\"39\",\"40\",\"41\",\"42\",\"43\",\"44\",\"45\",\"46\",\"47\",\"48\",\"49\",\"50\",\"51\",\"52\",\"53\",\"54\",\"55\",\"56\",\"57\",\"58\",\"59\",\"60\",\"61\",\"62\",\"63\",\"64\",\"65\",\"66\",\"67\"],\"tags\":[[[\"Age\",\"Age\",null]]]},\"id\":\"10324\",\"type\":\"FactorRange\"},{\"attributes\":{\"end\":468.4,\"reset_end\":468.4,\"reset_start\":0.0,\"tags\":[[[\"total\",\"total\",null]]]},\"id\":\"10325\",\"type\":\"Range1d\"},{\"attributes\":{\"source\":{\"id\":\"10356\"}},\"id\":\"10363\",\"type\":\"CDSView\"},{\"attributes\":{\"coordinates\":null,\"data_source\":{\"id\":\"10356\"},\"glyph\":{\"id\":\"10359\"},\"group\":null,\"hover_glyph\":null,\"muted_glyph\":{\"id\":\"10361\"},\"nonselection_glyph\":{\"id\":\"10360\"},\"selection_glyph\":{\"id\":\"10364\"},\"view\":{\"id\":\"10363\"}},\"id\":\"10362\",\"type\":\"GlyphRenderer\"},{\"attributes\":{\"callback\":null,\"renderers\":[{\"id\":\"10362\"}],\"tags\":[\"hv_created\"],\"tooltips\":[[\"Age\",\"@{Age}\"],[\"total\",\"@{total}\"]]},\"id\":\"10326\",\"type\":\"HoverTool\"},{\"attributes\":{},\"id\":\"10369\",\"type\":\"BasicTickFormatter\"},{\"attributes\":{},\"id\":\"10357\",\"type\":\"Selection\"},{\"attributes\":{\"coordinates\":null,\"group\":null,\"text\":\"Anzahl vorkommender Werte in kategorischen Spalten\",\"text_color\":\"black\",\"text_font_size\":\"12pt\"},\"id\":\"10328\",\"type\":\"Title\"},{\"attributes\":{\"data\":{\"Age\":[\"19\",\"20\",\"21\",\"22\",\"23\",\"24\",\"25\",\"26\",\"27\",\"28\",\"29\",\"30\",\"31\",\"32\",\"33\",\"34\",\"35\",\"36\",\"37\",\"38\",\"39\",\"40\",\"41\",\"42\",\"43\",\"44\",\"45\",\"46\",\"47\",\"48\",\"49\",\"50\",\"51\",\"52\",\"53\",\"54\",\"55\",\"56\",\"57\",\"58\",\"59\",\"60\",\"61\",\"62\",\"63\",\"64\",\"65\",\"66\",\"67\"],\"total\":[426,79,78,104,87,108,108,116,128,157,155,150,179,168,180,192,150,207,186,173,185,191,188,168,171,157,171,167,130,118,116,99,92,87,67,62,55,36,36,29,21,23,16,6,5,6,6,5,2]},\"selected\":{\"id\":\"10357\"},\"selection_policy\":{\"id\":\"10382\"}},\"id\":\"10356\",\"type\":\"ColumnDataSource\"},{\"attributes\":{\"below\":[{\"id\":\"10336\"}],\"center\":[{\"id\":\"10338\"},{\"id\":\"10342\"}],\"height\":500,\"left\":[{\"id\":\"10339\"}],\"margin\":[5,5,5,5],\"min_border_bottom\":10,\"min_border_left\":10,\"min_border_right\":10,\"min_border_top\":10,\"renderers\":[{\"id\":\"10362\"}],\"sizing_mode\":\"fixed\",\"title\":{\"id\":\"10328\"},\"toolbar\":{\"id\":\"10349\"},\"x_range\":{\"id\":\"10324\"},\"x_scale\":{\"id\":\"10332\"},\"y_range\":{\"id\":\"10325\"},\"y_scale\":{\"id\":\"10334\"}},\"id\":\"10327\",\"subtype\":\"Figure\",\"type\":\"Plot\"},{\"attributes\":{\"axis\":{\"id\":\"10336\"},\"coordinates\":null,\"grid_line_color\":null,\"group\":null,\"ticker\":null},\"id\":\"10338\",\"type\":\"Grid\"},{\"attributes\":{},\"id\":\"10370\",\"type\":\"AllLabels\"},{\"attributes\":{\"axis_label\":\"Age\",\"coordinates\":null,\"formatter\":{\"id\":\"10366\"},\"group\":null,\"major_label_policy\":{\"id\":\"10367\"},\"ticker\":{\"id\":\"10337\"}},\"id\":\"10336\",\"type\":\"CategoricalAxis\"},{\"attributes\":{},\"id\":\"10344\",\"type\":\"PanTool\"},{\"attributes\":{},\"id\":\"10337\",\"type\":\"CategoricalTicker\"},{\"attributes\":{},\"id\":\"10334\",\"type\":\"LinearScale\"},{\"attributes\":{\"children\":[{\"id\":\"10322\"}],\"margin\":[0,0,0,0],\"name\":\"Column19866\"},\"id\":\"10321\",\"type\":\"Column\"},{\"attributes\":{},\"id\":\"10382\",\"type\":\"UnionRenderers\"},{\"attributes\":{\"axis_label\":\"Anzahl\",\"coordinates\":null,\"formatter\":{\"id\":\"10369\"},\"group\":null,\"major_label_policy\":{\"id\":\"10370\"},\"ticker\":{\"id\":\"10340\"}},\"id\":\"10339\",\"type\":\"LinearAxis\"},{\"attributes\":{\"active_drag\":{\"id\":\"10344\"},\"active_scroll\":{\"id\":\"10345\"},\"tools\":[{\"id\":\"10326\"},{\"id\":\"10343\"},{\"id\":\"10344\"},{\"id\":\"10345\"},{\"id\":\"10346\"},{\"id\":\"10347\"}]},\"id\":\"10349\",\"type\":\"Toolbar\"},{\"attributes\":{\"axis\":{\"id\":\"10339\"},\"coordinates\":null,\"dimension\":1,\"grid_line_color\":null,\"group\":null,\"ticker\":null},\"id\":\"10342\",\"type\":\"Grid\"},{\"attributes\":{},\"id\":\"10366\",\"type\":\"CategoricalTickFormatter\"},{\"attributes\":{},\"id\":\"10340\",\"type\":\"BasicTicker\"},{\"attributes\":{},\"id\":\"10345\",\"type\":\"WheelZoomTool\"},{\"attributes\":{},\"id\":\"10343\",\"type\":\"SaveTool\"},{\"attributes\":{\"children\":[{\"id\":\"10320\"},{\"id\":\"10327\"}],\"margin\":[0,0,0,0],\"name\":\"Column19877\"},\"id\":\"10319\",\"type\":\"Column\"},{\"attributes\":{\"margin\":[5,10,5,10],\"options\":[\"Age\",\"Sex\",\"ForeignWorker\"],\"title\":\"Select\",\"value\":\"Age\"},\"id\":\"10322\",\"type\":\"panel.models.widgets.CustomSelect\"},{\"attributes\":{\"overlay\":{\"id\":\"10348\"}},\"id\":\"10346\",\"type\":\"BoxZoomTool\"},{\"attributes\":{},\"id\":\"10347\",\"type\":\"ResetTool\"},{\"attributes\":{\"margin\":[5,5,5,5],\"name\":\"HSpacer19870\",\"sizing_mode\":\"stretch_width\"},\"id\":\"10323\",\"type\":\"Spacer\"},{\"attributes\":{\"fill_alpha\":{\"value\":0.1},\"fill_color\":{\"value\":\"#30a2da\"},\"hatch_alpha\":{\"value\":0.1},\"hatch_color\":{\"value\":\"#30a2da\"},\"line_alpha\":{\"value\":0.1},\"top\":{\"field\":\"total\"},\"width\":{\"value\":0.8},\"x\":{\"field\":\"Age\"}},\"id\":\"10360\",\"type\":\"VBar\"},{\"attributes\":{\"bottom_units\":\"screen\",\"coordinates\":null,\"fill_alpha\":0.5,\"fill_color\":\"lightgrey\",\"group\":null,\"left_units\":\"screen\",\"level\":\"overlay\",\"line_alpha\":1.0,\"line_color\":\"black\",\"line_dash\":[4,4],\"line_width\":2,\"right_units\":\"screen\",\"syncable\":false,\"top_units\":\"screen\"},\"id\":\"10348\",\"type\":\"BoxAnnotation\"},{\"attributes\":{\"children\":[{\"id\":\"10321\"},{\"id\":\"10323\"}],\"margin\":[0,0,0,0],\"name\":\"Row19871\"},\"id\":\"10320\",\"type\":\"Row\"},{\"attributes\":{},\"id\":\"10367\",\"type\":\"AllLabels\"},{\"attributes\":{\"fill_alpha\":{\"value\":0.2},\"fill_color\":{\"value\":\"#30a2da\"},\"hatch_alpha\":{\"value\":0.2},\"hatch_color\":{\"value\":\"#30a2da\"},\"line_alpha\":{\"value\":0.2},\"top\":{\"field\":\"total\"},\"width\":{\"value\":0.8},\"x\":{\"field\":\"Age\"}},\"id\":\"10361\",\"type\":\"VBar\"},{\"attributes\":{\"client_comm_id\":\"c6ffb4bdcd8740d9a6ab143ad593999a\",\"comm_id\":\"308e707301ed4cfc99eca047b66a7791\",\"plot_id\":\"10318\"},\"id\":\"10415\",\"type\":\"panel.models.comm_manager.CommManager\"}],\"root_ids\":[\"10318\",\"10415\"]},\"title\":\"Bokeh Application\",\"version\":\"2.4.3\"}};\n",
       "    var render_items = [{\"docid\":\"90ab5431-102a-4644-b7a3-10efa9faed12\",\"root_ids\":[\"10318\"],\"roots\":{\"10318\":\"a380e748-8b04-4fc3-b6f7-f024f989cb63\"}}];\n",
       "    root.Bokeh.embed.embed_items_notebook(docs_json, render_items);\n",
       "    for (const render_item of render_items) {\n",
       "      for (const root_id of render_item.root_ids) {\n",
       "\tconst id_el = document.getElementById(root_id)\n",
       "\tif (id_el.children.length && (id_el.children[0].className === 'bk-root')) {\n",
       "\t  const root_el = id_el.children[0]\n",
       "\t  root_el.id = root_el.id + '-rendered'\n",
       "\t}\n",
       "      }\n",
       "    }\n",
       "  }\n",
       "  if (root.Bokeh !== undefined && root.Bokeh.Panel !== undefined && ( root['Tabulator'] !== undefined) && ( root['Tabulator'] !== undefined) && ( root['Tabulator'] !== undefined) && ( root['Tabulator'] !== undefined) && ( root['Tabulator'] !== undefined)) {\n",
       "    embed_document(root);\n",
       "  } else {\n",
       "    var attempts = 0;\n",
       "    var timer = setInterval(function(root) {\n",
       "      if (root.Bokeh !== undefined && root.Bokeh.Panel !== undefined && (root['Tabulator'] !== undefined) && (root['Tabulator'] !== undefined) && (root['Tabulator'] !== undefined) && (root['Tabulator'] !== undefined) && (root['Tabulator'] !== undefined)) {\n",
       "        clearInterval(timer);\n",
       "        embed_document(root);\n",
       "      } else if (document.readyState == \"complete\") {\n",
       "        attempts++;\n",
       "        if (attempts > 200) {\n",
       "          clearInterval(timer);\n",
       "          console.log(\"Bokeh: ERROR: Unable to run BokehJS code because BokehJS library is missing\");\n",
       "        }\n",
       "      }\n",
       "    }, 25, root)\n",
       "  }\n",
       "})(window);</script>"
      ],
      "text/plain": [
       "<hvplot.interactive.Interactive at 0x7fe5a1521370>"
      ]
     },
     "execution_count": 88,
     "metadata": {
      "application/vnd.holoviews_exec.v0+json": {
       "id": "10318"
      }
     },
     "output_type": "execute_result"
    }
   ],
   "source": [
    "cat_distribution_plot2 = cat_distribution_pipeline2.hvplot.bar(\n",
    "    x=select_cat_distribution_pipeline,\n",
    "    y='total',\n",
    "    title=\"Anzahl vorkommender Werte in kategorischen Spalten\",\n",
    "    ylabel=\"Anzahl\",\n",
    "    height=500,\n",
    "    width=600,\n",
    "    legend='top'\n",
    ")\n",
    "cat_distribution_plot2"
   ]
  },
  {
   "cell_type": "markdown",
   "id": "ae25f01a-cc33-4318-bc0a-1fd0708f9eac",
   "metadata": {},
   "source": [
    "## (4) Anzahl an unterschiedlichen Werten und deren Verteilung für numerische Werte"
   ]
  },
  {
   "cell_type": "code",
   "execution_count": 18,
   "id": "44079e9b-f03d-4ce0-887f-a7c5545a35cb",
   "metadata": {
    "tags": []
   },
   "outputs": [],
   "source": [
    "num_distribution_pipeline2 = (\n",
    "    idf\n",
    "    .assign(total=lambda x: x.groupby(select_num_distribution_pipeline.value)['Risk'].transform('count'))\n",
    "    .assign(NoRisk=lambda x: x['Risk'].eq(1).groupby(x[select_num_distribution_pipeline.value]).transform('sum') / x['total'] )\n",
    "    .assign(Risk=lambda x: x['Risk'].eq(0).groupby(x[select_num_distribution_pipeline.value]).transform('sum') / x['total'] )\n",
    "    .loc[:, [select_num_distribution_pipeline, 'total', 'Risk', 'NoRisk']]\n",
    "    .sort_values(select_num_distribution_pipeline)\n",
    "    .drop_duplicates()\n",
    ")"
   ]
  },
  {
   "cell_type": "code",
   "execution_count": 89,
   "id": "7881de75-d624-4476-a2a7-c5eb64fdfd52",
   "metadata": {
    "tags": []
   },
   "outputs": [
    {
     "data": {},
     "metadata": {},
     "output_type": "display_data"
    },
    {
     "data": {},
     "metadata": {},
     "output_type": "display_data"
    },
    {
     "data": {
      "application/vnd.holoviews_exec.v0+json": "",
      "text/html": [
       "<div id='10466'>\n",
       "  <div class=\"bk-root\" id=\"66139983-02e9-4ff2-b637-f3cc5de9a288\" data-root-id=\"10466\"></div>\n",
       "</div>\n",
       "<script type=\"application/javascript\">(function(root) {\n",
       "  function embed_document(root) {\n",
       "    var docs_json = {\"fba1e978-5ad1-49ae-93c5-360209986635\":{\"defs\":[{\"extends\":null,\"module\":null,\"name\":\"ReactiveHTML1\",\"overrides\":[],\"properties\":[]},{\"extends\":null,\"module\":null,\"name\":\"FlexBox1\",\"overrides\":[],\"properties\":[{\"default\":\"flex-start\",\"kind\":null,\"name\":\"align_content\"},{\"default\":\"flex-start\",\"kind\":null,\"name\":\"align_items\"},{\"default\":\"row\",\"kind\":null,\"name\":\"flex_direction\"},{\"default\":\"wrap\",\"kind\":null,\"name\":\"flex_wrap\"},{\"default\":\"flex-start\",\"kind\":null,\"name\":\"justify_content\"}]},{\"extends\":null,\"module\":null,\"name\":\"GridStack1\",\"overrides\":[],\"properties\":[{\"default\":\"warn\",\"kind\":null,\"name\":\"mode\"},{\"default\":null,\"kind\":null,\"name\":\"ncols\"},{\"default\":null,\"kind\":null,\"name\":\"nrows\"},{\"default\":true,\"kind\":null,\"name\":\"allow_resize\"},{\"default\":true,\"kind\":null,\"name\":\"allow_drag\"},{\"default\":[],\"kind\":null,\"name\":\"state\"}]},{\"extends\":null,\"module\":null,\"name\":\"click1\",\"overrides\":[],\"properties\":[{\"default\":\"\",\"kind\":null,\"name\":\"terminal_output\"},{\"default\":\"\",\"kind\":null,\"name\":\"debug_name\"},{\"default\":0,\"kind\":null,\"name\":\"clears\"}]},{\"extends\":null,\"module\":null,\"name\":\"NotificationAreaBase1\",\"overrides\":[],\"properties\":[{\"default\":\"bottom-right\",\"kind\":null,\"name\":\"position\"},{\"default\":0,\"kind\":null,\"name\":\"_clear\"}]},{\"extends\":null,\"module\":null,\"name\":\"NotificationArea1\",\"overrides\":[],\"properties\":[{\"default\":[],\"kind\":null,\"name\":\"notifications\"},{\"default\":\"bottom-right\",\"kind\":null,\"name\":\"position\"},{\"default\":0,\"kind\":null,\"name\":\"_clear\"},{\"default\":[{\"background\":\"#ffc107\",\"icon\":{\"className\":\"fas fa-exclamation-triangle\",\"color\":\"white\",\"tagName\":\"i\"},\"type\":\"warning\"},{\"background\":\"#007bff\",\"icon\":{\"className\":\"fas fa-info-circle\",\"color\":\"white\",\"tagName\":\"i\"},\"type\":\"info\"}],\"kind\":null,\"name\":\"types\"}]},{\"extends\":null,\"module\":null,\"name\":\"Notification\",\"overrides\":[],\"properties\":[{\"default\":null,\"kind\":null,\"name\":\"background\"},{\"default\":3000,\"kind\":null,\"name\":\"duration\"},{\"default\":null,\"kind\":null,\"name\":\"icon\"},{\"default\":\"\",\"kind\":null,\"name\":\"message\"},{\"default\":null,\"kind\":null,\"name\":\"notification_type\"},{\"default\":false,\"kind\":null,\"name\":\"_destroyed\"}]},{\"extends\":null,\"module\":null,\"name\":\"TemplateActions1\",\"overrides\":[],\"properties\":[{\"default\":0,\"kind\":null,\"name\":\"open_modal\"},{\"default\":0,\"kind\":null,\"name\":\"close_modal\"}]},{\"extends\":null,\"module\":null,\"name\":\"MaterialTemplateActions1\",\"overrides\":[],\"properties\":[{\"default\":0,\"kind\":null,\"name\":\"open_modal\"},{\"default\":0,\"kind\":null,\"name\":\"close_modal\"}]}],\"roots\":{\"references\":[{\"attributes\":{},\"id\":\"10493\",\"type\":\"PanTool\"},{\"attributes\":{\"coordinates\":null,\"data_source\":{\"id\":\"10505\"},\"glyph\":{\"id\":\"10508\"},\"group\":null,\"hover_glyph\":null,\"muted_glyph\":{\"id\":\"10510\"},\"nonselection_glyph\":{\"id\":\"10509\"},\"selection_glyph\":{\"id\":\"10513\"},\"view\":{\"id\":\"10512\"}},\"id\":\"10511\",\"type\":\"GlyphRenderer\"},{\"attributes\":{\"coordinates\":null,\"group\":null,\"text\":\"Anzahl vorkommender Werte in numerischen Spalten\",\"text_color\":\"black\",\"text_font_size\":\"12pt\"},\"id\":\"10476\",\"type\":\"Title\"},{\"attributes\":{},\"id\":\"10531\",\"type\":\"UnionRenderers\"},{\"attributes\":{\"axis_label\":\"Age\",\"coordinates\":null,\"formatter\":{\"id\":\"10515\"},\"group\":null,\"major_label_policy\":{\"id\":\"10516\"},\"ticker\":{\"id\":\"10485\"}},\"id\":\"10484\",\"type\":\"LinearAxis\"},{\"attributes\":{\"axis\":{\"id\":\"10484\"},\"coordinates\":null,\"grid_line_color\":null,\"group\":null,\"ticker\":null},\"id\":\"10487\",\"type\":\"Grid\"},{\"attributes\":{\"line_color\":\"#30a2da\",\"line_width\":5,\"x\":{\"field\":\"Age\"},\"y\":{\"field\":\"total\"}},\"id\":\"10508\",\"type\":\"Line\"},{\"attributes\":{},\"id\":\"10485\",\"type\":\"BasicTicker\"},{\"attributes\":{\"line_alpha\":0.1,\"line_color\":\"#30a2da\",\"line_width\":5,\"x\":{\"field\":\"Age\"},\"y\":{\"field\":\"total\"}},\"id\":\"10509\",\"type\":\"Line\"},{\"attributes\":{},\"id\":\"10482\",\"type\":\"LinearScale\"},{\"attributes\":{\"axis_label\":\"Anzahl\",\"coordinates\":null,\"formatter\":{\"id\":\"10518\"},\"group\":null,\"major_label_policy\":{\"id\":\"10519\"},\"ticker\":{\"id\":\"10489\"}},\"id\":\"10488\",\"type\":\"LinearAxis\"},{\"attributes\":{\"margin\":[5,10,5,10],\"options\":[\"Age\",\"LoanDuration\",\"ExistingCreditsCount\"],\"title\":\"Select\",\"value\":\"Age\"},\"id\":\"10470\",\"type\":\"panel.models.widgets.CustomSelect\"},{\"attributes\":{\"axis\":{\"id\":\"10488\"},\"coordinates\":null,\"dimension\":1,\"grid_line_color\":null,\"group\":null,\"ticker\":null},\"id\":\"10491\",\"type\":\"Grid\"},{\"attributes\":{},\"id\":\"10489\",\"type\":\"BasicTicker\"},{\"attributes\":{},\"id\":\"10506\",\"type\":\"Selection\"},{\"attributes\":{\"children\":[{\"id\":\"10470\"}],\"margin\":[0,0,0,0],\"name\":\"Column20031\"},\"id\":\"10469\",\"type\":\"Column\"},{\"attributes\":{},\"id\":\"10494\",\"type\":\"WheelZoomTool\"},{\"attributes\":{},\"id\":\"10515\",\"type\":\"BasicTickFormatter\"},{\"attributes\":{\"client_comm_id\":\"a404b7b219ab4fddb9a122c3c0dc352a\",\"comm_id\":\"1514ec2aa47544da987499747688106b\",\"plot_id\":\"10466\"},\"id\":\"10564\",\"type\":\"panel.models.comm_manager.CommManager\"},{\"attributes\":{},\"id\":\"10492\",\"type\":\"SaveTool\"},{\"attributes\":{\"line_alpha\":0.2,\"line_color\":\"#30a2da\",\"line_width\":5,\"x\":{\"field\":\"Age\"},\"y\":{\"field\":\"total\"}},\"id\":\"10510\",\"type\":\"Line\"},{\"attributes\":{\"overlay\":{\"id\":\"10497\"}},\"id\":\"10495\",\"type\":\"BoxZoomTool\"},{\"attributes\":{\"source\":{\"id\":\"10505\"}},\"id\":\"10512\",\"type\":\"CDSView\"},{\"attributes\":{},\"id\":\"10496\",\"type\":\"ResetTool\"},{\"attributes\":{\"bottom_units\":\"screen\",\"coordinates\":null,\"fill_alpha\":0.5,\"fill_color\":\"lightgrey\",\"group\":null,\"left_units\":\"screen\",\"level\":\"overlay\",\"line_alpha\":1.0,\"line_color\":\"black\",\"line_dash\":[4,4],\"line_width\":2,\"right_units\":\"screen\",\"syncable\":false,\"top_units\":\"screen\"},\"id\":\"10497\",\"type\":\"BoxAnnotation\"},{\"attributes\":{\"active_drag\":{\"id\":\"10493\"},\"active_scroll\":{\"id\":\"10494\"},\"tools\":[{\"id\":\"10474\"},{\"id\":\"10492\"},{\"id\":\"10493\"},{\"id\":\"10494\"},{\"id\":\"10495\"},{\"id\":\"10496\"}]},\"id\":\"10498\",\"type\":\"Toolbar\"},{\"attributes\":{},\"id\":\"10518\",\"type\":\"BasicTickFormatter\"},{\"attributes\":{},\"id\":\"10516\",\"type\":\"AllLabels\"},{\"attributes\":{\"end\":67.0,\"reset_end\":67.0,\"reset_start\":19.0,\"start\":19.0,\"tags\":[[[\"Age\",\"Age\",null]]]},\"id\":\"10472\",\"type\":\"Range1d\"},{\"attributes\":{},\"id\":\"10519\",\"type\":\"AllLabels\"},{\"attributes\":{},\"id\":\"10480\",\"type\":\"LinearScale\"},{\"attributes\":{\"children\":[{\"id\":\"10468\"},{\"id\":\"10475\"}],\"margin\":[0,0,0,0],\"name\":\"Column20042\"},\"id\":\"10467\",\"type\":\"Column\"},{\"attributes\":{\"line_color\":\"#30a2da\",\"line_width\":5,\"x\":{\"field\":\"Age\"},\"y\":{\"field\":\"total\"}},\"id\":\"10513\",\"type\":\"Line\"},{\"attributes\":{\"children\":[{\"id\":\"10469\"},{\"id\":\"10471\"}],\"margin\":[0,0,0,0],\"name\":\"Row20036\"},\"id\":\"10468\",\"type\":\"Row\"},{\"attributes\":{\"children\":[{\"id\":\"10467\"}],\"margin\":[0,0,0,0],\"name\":\"Row20043\"},\"id\":\"10466\",\"type\":\"Row\"},{\"attributes\":{\"end\":468.4,\"reset_end\":468.4,\"reset_start\":-40.400000000000006,\"start\":-40.400000000000006,\"tags\":[[[\"total\",\"total\",null]]]},\"id\":\"10473\",\"type\":\"Range1d\"},{\"attributes\":{\"below\":[{\"id\":\"10484\"}],\"center\":[{\"id\":\"10487\"},{\"id\":\"10491\"}],\"height\":500,\"left\":[{\"id\":\"10488\"}],\"margin\":[5,5,5,5],\"min_border_bottom\":10,\"min_border_left\":10,\"min_border_right\":10,\"min_border_top\":10,\"renderers\":[{\"id\":\"10511\"}],\"sizing_mode\":\"fixed\",\"title\":{\"id\":\"10476\"},\"toolbar\":{\"id\":\"10498\"},\"x_range\":{\"id\":\"10472\"},\"x_scale\":{\"id\":\"10480\"},\"y_range\":{\"id\":\"10473\"},\"y_scale\":{\"id\":\"10482\"}},\"id\":\"10475\",\"subtype\":\"Figure\",\"type\":\"Plot\"},{\"attributes\":{\"callback\":null,\"renderers\":[{\"id\":\"10511\"}],\"tags\":[\"hv_created\"],\"tooltips\":[[\"Age\",\"@{Age}\"],[\"total\",\"@{total}\"]]},\"id\":\"10474\",\"type\":\"HoverTool\"},{\"attributes\":{\"data\":{\"Age\":[19,20,21,22,23,24,25,26,27,28,29,30,31,32,33,34,35,36,37,38,39,40,41,42,43,44,45,46,47,48,49,50,51,52,53,54,55,56,57,58,59,60,61,62,63,64,65,66,67],\"total\":[426,79,78,104,87,108,108,116,128,157,155,150,179,168,180,192,150,207,186,173,185,191,188,168,171,157,171,167,130,118,116,99,92,87,67,62,55,36,36,29,21,23,16,6,5,6,6,5,2]},\"selected\":{\"id\":\"10506\"},\"selection_policy\":{\"id\":\"10531\"}},\"id\":\"10505\",\"type\":\"ColumnDataSource\"},{\"attributes\":{\"margin\":[5,5,5,5],\"name\":\"HSpacer20035\",\"sizing_mode\":\"stretch_width\"},\"id\":\"10471\",\"type\":\"Spacer\"}],\"root_ids\":[\"10466\",\"10564\"]},\"title\":\"Bokeh Application\",\"version\":\"2.4.3\"}};\n",
       "    var render_items = [{\"docid\":\"fba1e978-5ad1-49ae-93c5-360209986635\",\"root_ids\":[\"10466\"],\"roots\":{\"10466\":\"66139983-02e9-4ff2-b637-f3cc5de9a288\"}}];\n",
       "    root.Bokeh.embed.embed_items_notebook(docs_json, render_items);\n",
       "    for (const render_item of render_items) {\n",
       "      for (const root_id of render_item.root_ids) {\n",
       "\tconst id_el = document.getElementById(root_id)\n",
       "\tif (id_el.children.length && (id_el.children[0].className === 'bk-root')) {\n",
       "\t  const root_el = id_el.children[0]\n",
       "\t  root_el.id = root_el.id + '-rendered'\n",
       "\t}\n",
       "      }\n",
       "    }\n",
       "  }\n",
       "  if (root.Bokeh !== undefined && root.Bokeh.Panel !== undefined && ( root['Tabulator'] !== undefined) && ( root['Tabulator'] !== undefined) && ( root['Tabulator'] !== undefined) && ( root['Tabulator'] !== undefined) && ( root['Tabulator'] !== undefined)) {\n",
       "    embed_document(root);\n",
       "  } else {\n",
       "    var attempts = 0;\n",
       "    var timer = setInterval(function(root) {\n",
       "      if (root.Bokeh !== undefined && root.Bokeh.Panel !== undefined && (root['Tabulator'] !== undefined) && (root['Tabulator'] !== undefined) && (root['Tabulator'] !== undefined) && (root['Tabulator'] !== undefined) && (root['Tabulator'] !== undefined)) {\n",
       "        clearInterval(timer);\n",
       "        embed_document(root);\n",
       "      } else if (document.readyState == \"complete\") {\n",
       "        attempts++;\n",
       "        if (attempts > 200) {\n",
       "          clearInterval(timer);\n",
       "          console.log(\"Bokeh: ERROR: Unable to run BokehJS code because BokehJS library is missing\");\n",
       "        }\n",
       "      }\n",
       "    }, 25, root)\n",
       "  }\n",
       "})(window);</script>"
      ],
      "text/plain": [
       "<hvplot.interactive.Interactive at 0x7fe561389580>"
      ]
     },
     "execution_count": 89,
     "metadata": {
      "application/vnd.holoviews_exec.v0+json": {
       "id": "10466"
      }
     },
     "output_type": "execute_result"
    }
   ],
   "source": [
    "num_distribution_plot2 = num_distribution_pipeline2.hvplot.line(\n",
    "    x=select_num_distribution_pipeline,\n",
    "    y='total',\n",
    "    title=\"Anzahl vorkommender Werte in numerischen Spalten\",\n",
    "    ylabel=\"Anzahl\",\n",
    "    height=500,\n",
    "    width=600,\n",
    "    line_width=5,\n",
    "    legend='top'\n",
    ")\n",
    "num_distribution_plot2"
   ]
  },
  {
   "cell_type": "markdown",
   "id": "239b92de-de96-4150-9564-002ab5234e00",
   "metadata": {},
   "source": [
    "## (5) Lineplot der Anzahl an Transaktionen und der Akzeptanzrate pro Tag"
   ]
  },
  {
   "cell_type": "code",
   "execution_count": 20,
   "id": "10762985-5666-4985-9791-7b0697d5e483",
   "metadata": {
    "tags": []
   },
   "outputs": [
    {
     "data": {
      "text/html": [
       "<div>\n",
       "<style scoped>\n",
       "    .dataframe tbody tr th:only-of-type {\n",
       "        vertical-align: middle;\n",
       "    }\n",
       "\n",
       "    .dataframe tbody tr th {\n",
       "        vertical-align: top;\n",
       "    }\n",
       "\n",
       "    .dataframe thead th {\n",
       "        text-align: right;\n",
       "    }\n",
       "</style>\n",
       "<table border=\"1\" class=\"dataframe\">\n",
       "  <thead>\n",
       "    <tr style=\"text-align: right;\">\n",
       "      <th></th>\n",
       "      <th>date</th>\n",
       "      <th>total_number_of_transactions</th>\n",
       "      <th>correct_classifies</th>\n",
       "      <th>share_of_accepted_transactions</th>\n",
       "    </tr>\n",
       "  </thead>\n",
       "  <tbody>\n",
       "    <tr>\n",
       "      <th>30</th>\n",
       "      <td>2023-03-31</td>\n",
       "      <td>510.0</td>\n",
       "      <td>498.0</td>\n",
       "      <td>0,98</td>\n",
       "    </tr>\n",
       "  </tbody>\n",
       "</table>\n",
       "</div>"
      ],
      "text/plain": [
       "         date  total_number_of_transactions  correct_classifies  \\\n",
       "30 2023-03-31                         510.0               498.0   \n",
       "\n",
       "   share_of_accepted_transactions  \n",
       "30                           0,98  "
      ]
     },
     "execution_count": 20,
     "metadata": {},
     "output_type": "execute_result"
    }
   ],
   "source": [
    "df_time.tail(1)"
   ]
  },
  {
   "cell_type": "code",
   "execution_count": 62,
   "id": "d41b7735-0668-454d-8378-d21ddaf60da0",
   "metadata": {
    "tags": []
   },
   "outputs": [],
   "source": [
    "day_slider = pn.widgets.IntSlider(name='Last Days', start=7, end=31, step=1, value=14)\n",
    "\n",
    "transactions_pipeline1 = (\n",
    "    idf2\n",
    "    .tail(day_slider)\n",
    ")"
   ]
  },
  {
   "cell_type": "code",
   "execution_count": 132,
   "id": "7810ac30-e642-4daf-aa83-c324a59c583e",
   "metadata": {
    "tags": []
   },
   "outputs": [
    {
     "data": {},
     "metadata": {},
     "output_type": "display_data"
    },
    {
     "data": {},
     "metadata": {},
     "output_type": "display_data"
    },
    {
     "data": {
      "application/vnd.holoviews_exec.v0+json": "",
      "text/html": [
       "<div id='17958'>\n",
       "  <div class=\"bk-root\" id=\"6a9c019e-763a-4201-a103-90ee639f0cc7\" data-root-id=\"17958\"></div>\n",
       "</div>\n",
       "<script type=\"application/javascript\">(function(root) {\n",
       "  function embed_document(root) {\n",
       "    var docs_json = {\"f8cc1414-c759-4b62-a1d5-0f9c7efeff41\":{\"defs\":[{\"extends\":null,\"module\":null,\"name\":\"ReactiveHTML1\",\"overrides\":[],\"properties\":[]},{\"extends\":null,\"module\":null,\"name\":\"FlexBox1\",\"overrides\":[],\"properties\":[{\"default\":\"flex-start\",\"kind\":null,\"name\":\"align_content\"},{\"default\":\"flex-start\",\"kind\":null,\"name\":\"align_items\"},{\"default\":\"row\",\"kind\":null,\"name\":\"flex_direction\"},{\"default\":\"wrap\",\"kind\":null,\"name\":\"flex_wrap\"},{\"default\":\"flex-start\",\"kind\":null,\"name\":\"justify_content\"}]},{\"extends\":null,\"module\":null,\"name\":\"GridStack1\",\"overrides\":[],\"properties\":[{\"default\":\"warn\",\"kind\":null,\"name\":\"mode\"},{\"default\":null,\"kind\":null,\"name\":\"ncols\"},{\"default\":null,\"kind\":null,\"name\":\"nrows\"},{\"default\":true,\"kind\":null,\"name\":\"allow_resize\"},{\"default\":true,\"kind\":null,\"name\":\"allow_drag\"},{\"default\":[],\"kind\":null,\"name\":\"state\"}]},{\"extends\":null,\"module\":null,\"name\":\"click1\",\"overrides\":[],\"properties\":[{\"default\":\"\",\"kind\":null,\"name\":\"terminal_output\"},{\"default\":\"\",\"kind\":null,\"name\":\"debug_name\"},{\"default\":0,\"kind\":null,\"name\":\"clears\"}]},{\"extends\":null,\"module\":null,\"name\":\"NotificationAreaBase1\",\"overrides\":[],\"properties\":[{\"default\":\"bottom-right\",\"kind\":null,\"name\":\"position\"},{\"default\":0,\"kind\":null,\"name\":\"_clear\"}]},{\"extends\":null,\"module\":null,\"name\":\"NotificationArea1\",\"overrides\":[],\"properties\":[{\"default\":[],\"kind\":null,\"name\":\"notifications\"},{\"default\":\"bottom-right\",\"kind\":null,\"name\":\"position\"},{\"default\":0,\"kind\":null,\"name\":\"_clear\"},{\"default\":[{\"background\":\"#ffc107\",\"icon\":{\"className\":\"fas fa-exclamation-triangle\",\"color\":\"white\",\"tagName\":\"i\"},\"type\":\"warning\"},{\"background\":\"#007bff\",\"icon\":{\"className\":\"fas fa-info-circle\",\"color\":\"white\",\"tagName\":\"i\"},\"type\":\"info\"}],\"kind\":null,\"name\":\"types\"}]},{\"extends\":null,\"module\":null,\"name\":\"Notification\",\"overrides\":[],\"properties\":[{\"default\":null,\"kind\":null,\"name\":\"background\"},{\"default\":3000,\"kind\":null,\"name\":\"duration\"},{\"default\":null,\"kind\":null,\"name\":\"icon\"},{\"default\":\"\",\"kind\":null,\"name\":\"message\"},{\"default\":null,\"kind\":null,\"name\":\"notification_type\"},{\"default\":false,\"kind\":null,\"name\":\"_destroyed\"}]},{\"extends\":null,\"module\":null,\"name\":\"TemplateActions1\",\"overrides\":[],\"properties\":[{\"default\":0,\"kind\":null,\"name\":\"open_modal\"},{\"default\":0,\"kind\":null,\"name\":\"close_modal\"}]},{\"extends\":null,\"module\":null,\"name\":\"MaterialTemplateActions1\",\"overrides\":[],\"properties\":[{\"default\":0,\"kind\":null,\"name\":\"open_modal\"},{\"default\":0,\"kind\":null,\"name\":\"close_modal\"}]}],\"roots\":{\"references\":[{\"attributes\":{\"children\":[{\"id\":\"17959\"}],\"margin\":[0,0,0,0],\"name\":\"Row27569\"},\"id\":\"17958\",\"type\":\"Row\"},{\"attributes\":{\"line_alpha\":0.2,\"line_color\":\"#04b032\",\"line_width\":2,\"x\":{\"field\":\"date\"},\"y\":{\"field\":\"value\"}},\"id\":\"18042\",\"type\":\"Line\"},{\"attributes\":{\"click_policy\":\"mute\",\"coordinates\":null,\"group\":null,\"items\":[{\"id\":\"18035\"},{\"id\":\"18069\"}],\"location\":[0,0],\"orientation\":\"horizontal\",\"title\":\"Variable\"},\"id\":\"18034\",\"type\":\"Legend\"},{\"attributes\":{\"line_color\":\"#04b032\",\"line_width\":2,\"x\":{\"field\":\"date\"},\"y\":{\"field\":\"value\"}},\"id\":\"18040\",\"type\":\"Line\"},{\"attributes\":{\"axis_label\":\"Anzahl\",\"coordinates\":null,\"formatter\":{\"id\":\"18002\"},\"group\":null,\"major_label_policy\":{\"id\":\"18003\"},\"ticker\":{\"id\":\"17982\"}},\"id\":\"17981\",\"type\":\"LinearAxis\"},{\"attributes\":{\"mantissas\":[1,2,5],\"max_interval\":500.0,\"num_minor_ticks\":0},\"id\":\"18022\",\"type\":\"AdaptiveTicker\"},{\"attributes\":{},\"id\":\"17999\",\"type\":\"DatetimeTickFormatter\"},{\"attributes\":{\"coordinates\":null,\"group\":null,\"text\":\"Analyse der korrekt klassifizierten Antr\\u00e4gen\",\"text_color\":\"black\",\"text_font_size\":\"12pt\"},\"id\":\"17969\",\"type\":\"Title\"},{\"attributes\":{\"coordinates\":null,\"data_source\":{\"id\":\"18037\"},\"glyph\":{\"id\":\"18040\"},\"group\":null,\"hover_glyph\":null,\"muted_glyph\":{\"id\":\"18042\"},\"nonselection_glyph\":{\"id\":\"18041\"},\"selection_glyph\":{\"id\":\"18070\"},\"view\":{\"id\":\"18044\"}},\"id\":\"18043\",\"type\":\"GlyphRenderer\"},{\"attributes\":{},\"id\":\"17986\",\"type\":\"PanTool\"},{\"attributes\":{\"callback\":null,\"formatters\":{\"@{date}\":\"datetime\"},\"renderers\":[{\"id\":\"18010\"},{\"id\":\"18043\"}],\"tags\":[\"hv_created\"],\"tooltips\":[[\"Variable\",\"@{Variable}\"],[\"date\",\"@{date}{%F %T}\"],[\"value\",\"@{value}\"]]},\"id\":\"17966\",\"type\":\"HoverTool\"},{\"attributes\":{\"base\":60,\"mantissas\":[1,2,5,10,15,20,30],\"max_interval\":1800000.0,\"min_interval\":1000.0,\"num_minor_ticks\":0},\"id\":\"18023\",\"type\":\"AdaptiveTicker\"},{\"attributes\":{\"base\":24,\"mantissas\":[1,2,4,6,8,12],\"max_interval\":43200000.0,\"min_interval\":3600000.0,\"num_minor_ticks\":0},\"id\":\"18024\",\"type\":\"AdaptiveTicker\"},{\"attributes\":{},\"id\":\"18033\",\"type\":\"YearsTicker\"},{\"attributes\":{\"axis_label\":\"date\",\"coordinates\":null,\"formatter\":{\"id\":\"17999\"},\"group\":null,\"major_label_policy\":{\"id\":\"18000\"},\"ticker\":{\"id\":\"17978\"}},\"id\":\"17977\",\"type\":\"DatetimeAxis\"},{\"attributes\":{\"line_alpha\":0.1,\"line_color\":\"#04b032\",\"line_width\":2,\"x\":{\"field\":\"date\"},\"y\":{\"field\":\"value\"}},\"id\":\"18041\",\"type\":\"Line\"},{\"attributes\":{\"axis\":{\"id\":\"17977\"},\"coordinates\":null,\"grid_line_color\":null,\"group\":null,\"ticker\":null},\"id\":\"17980\",\"type\":\"Grid\"},{\"attributes\":{\"months\":[0,1,2,3,4,5,6,7,8,9,10,11]},\"id\":\"18029\",\"type\":\"MonthsTicker\"},{\"attributes\":{\"source\":{\"id\":\"18037\"}},\"id\":\"18044\",\"type\":\"CDSView\"},{\"attributes\":{\"data\":{\"Variable\":[\"total_number_of_transactions\",\"total_number_of_transactions\",\"total_number_of_transactions\",\"total_number_of_transactions\",\"total_number_of_transactions\",\"total_number_of_transactions\",\"total_number_of_transactions\",\"total_number_of_transactions\",\"total_number_of_transactions\",\"total_number_of_transactions\",\"total_number_of_transactions\",\"total_number_of_transactions\",\"total_number_of_transactions\"],\"date\":{\"__ndarray__\":\"AABAp3JveEIAAAANxW94QgAAwHIXcHhCAACA2GlweEIAAEA+vHB4QgAAAKQOcXhCAADACWFxeEIAAIBvs3F4QgAAQNUFcnhCAAAAO1hyeEIAAMCgqnJ4QgAAgAb9cnhCAABAbE9zeEI=\",\"dtype\":\"float64\",\"order\":\"little\",\"shape\":[13]},\"value\":{\"__ndarray__\":\"AAAAAABojkAAAAAAAABpQAAAAAAAKIRAAAAAAADQdEAAAAAAAHiBQAAAAAAAQHBAAAAAAADga0AAAAAAADB3QAAAAAAAcINAAAAAAADAeUAAAAAAACBpQAAAAAAAQFxAAAAAAADgf0A=\",\"dtype\":\"float64\",\"order\":\"little\",\"shape\":[13]}},\"selected\":{\"id\":\"18005\"},\"selection_policy\":{\"id\":\"18019\"}},\"id\":\"18004\",\"type\":\"ColumnDataSource\"},{\"attributes\":{\"days\":[1,15]},\"id\":\"18028\",\"type\":\"DaysTicker\"},{\"attributes\":{\"line_color\":\"#04b032\",\"line_width\":2,\"x\":{\"field\":\"date\"},\"y\":{\"field\":\"value\"}},\"id\":\"18070\",\"type\":\"Line\"},{\"attributes\":{\"days\":[1,2,3,4,5,6,7,8,9,10,11,12,13,14,15,16,17,18,19,20,21,22,23,24,25,26,27,28,29,30,31]},\"id\":\"18025\",\"type\":\"DaysTicker\"},{\"attributes\":{},\"id\":\"18002\",\"type\":\"BasicTickFormatter\"},{\"attributes\":{\"label\":{\"value\":\"correct_classifies\"},\"renderers\":[{\"id\":\"18043\"}]},\"id\":\"18069\",\"type\":\"LegendItem\"},{\"attributes\":{\"num_minor_ticks\":5,\"tickers\":[{\"id\":\"18022\"},{\"id\":\"18023\"},{\"id\":\"18024\"},{\"id\":\"18025\"},{\"id\":\"18026\"},{\"id\":\"18027\"},{\"id\":\"18028\"},{\"id\":\"18029\"},{\"id\":\"18030\"},{\"id\":\"18031\"},{\"id\":\"18032\"},{\"id\":\"18033\"}]},\"id\":\"17978\",\"type\":\"DatetimeTicker\"},{\"attributes\":{\"days\":[1,4,7,10,13,16,19,22,25,28]},\"id\":\"18026\",\"type\":\"DaysTicker\"},{\"attributes\":{},\"id\":\"17975\",\"type\":\"LinearScale\"},{\"attributes\":{\"days\":[1,8,15,22]},\"id\":\"18027\",\"type\":\"DaysTicker\"},{\"attributes\":{},\"id\":\"18003\",\"type\":\"AllLabels\"},{\"attributes\":{\"months\":[0,6]},\"id\":\"18032\",\"type\":\"MonthsTicker\"},{\"attributes\":{\"months\":[0,2,4,6,8,10]},\"id\":\"18030\",\"type\":\"MonthsTicker\"},{\"attributes\":{\"axis\":{\"id\":\"17981\"},\"coordinates\":null,\"dimension\":1,\"grid_line_color\":null,\"group\":null,\"ticker\":null},\"id\":\"17984\",\"type\":\"Grid\"},{\"attributes\":{\"bottom_units\":\"screen\",\"coordinates\":null,\"fill_alpha\":0.5,\"fill_color\":\"lightgrey\",\"group\":null,\"left_units\":\"screen\",\"level\":\"overlay\",\"line_alpha\":1.0,\"line_color\":\"black\",\"line_dash\":[4,4],\"line_width\":2,\"right_units\":\"screen\",\"syncable\":false,\"top_units\":\"screen\"},\"id\":\"17990\",\"type\":\"BoxAnnotation\"},{\"attributes\":{},\"id\":\"17982\",\"type\":\"BasicTicker\"},{\"attributes\":{},\"id\":\"18054\",\"type\":\"UnionRenderers\"},{\"attributes\":{},\"id\":\"17987\",\"type\":\"WheelZoomTool\"},{\"attributes\":{\"months\":[0,4,8]},\"id\":\"18031\",\"type\":\"MonthsTicker\"},{\"attributes\":{\"end\":31,\"margin\":[5,10,5,10],\"start\":7,\"title\":\"Last Days\",\"value\":13},\"id\":\"17962\",\"type\":\"Slider\"},{\"attributes\":{\"children\":[{\"id\":\"17960\"},{\"id\":\"17968\"}],\"margin\":[0,0,0,0],\"name\":\"Column27568\"},\"id\":\"17959\",\"type\":\"Column\"},{\"attributes\":{},\"id\":\"17985\",\"type\":\"SaveTool\"},{\"attributes\":{\"line_alpha\":0.1,\"line_color\":\"#1e85f7\",\"line_width\":2,\"x\":{\"field\":\"date\"},\"y\":{\"field\":\"value\"}},\"id\":\"18008\",\"type\":\"Line\"},{\"attributes\":{\"overlay\":{\"id\":\"17990\"}},\"id\":\"17988\",\"type\":\"BoxZoomTool\"},{\"attributes\":{\"children\":[{\"id\":\"17962\"}],\"margin\":[0,0,0,0],\"name\":\"Column27557\"},\"id\":\"17961\",\"type\":\"Column\"},{\"attributes\":{},\"id\":\"17989\",\"type\":\"ResetTool\"},{\"attributes\":{\"coordinates\":null,\"data_source\":{\"id\":\"18004\"},\"glyph\":{\"id\":\"18007\"},\"group\":null,\"hover_glyph\":null,\"muted_glyph\":{\"id\":\"18009\"},\"nonselection_glyph\":{\"id\":\"18008\"},\"selection_glyph\":{\"id\":\"18036\"},\"view\":{\"id\":\"18011\"}},\"id\":\"18010\",\"type\":\"GlyphRenderer\"},{\"attributes\":{\"end\":1680220800000.0,\"reset_end\":1680220800000.0,\"reset_start\":1679184000000.0,\"start\":1679184000000.0,\"tags\":[[[\"date\",\"date\",null]]]},\"id\":\"17964\",\"type\":\"Range1d\"},{\"attributes\":{\"margin\":[5,5,5,5],\"name\":\"HSpacer27561\",\"sizing_mode\":\"stretch_width\"},\"id\":\"17963\",\"type\":\"Spacer\"},{\"attributes\":{\"client_comm_id\":\"3c8a12492cd642739a4bc45cd5daecf8\",\"comm_id\":\"846c65799e0d470390dbb76e7d357d73\",\"plot_id\":\"17958\"},\"id\":\"18171\",\"type\":\"panel.models.comm_manager.CommManager\"},{\"attributes\":{},\"id\":\"18005\",\"type\":\"Selection\"},{\"attributes\":{},\"id\":\"17973\",\"type\":\"LinearScale\"},{\"attributes\":{\"label\":{\"value\":\"total_number_of_transactions\"},\"renderers\":[{\"id\":\"18010\"}]},\"id\":\"18035\",\"type\":\"LegendItem\"},{\"attributes\":{\"above\":[{\"id\":\"18034\"}],\"below\":[{\"id\":\"17977\"}],\"center\":[{\"id\":\"17980\"},{\"id\":\"17984\"}],\"height\":500,\"left\":[{\"id\":\"17981\"}],\"margin\":[5,5,5,5],\"min_border_bottom\":10,\"min_border_left\":10,\"min_border_right\":10,\"min_border_top\":10,\"renderers\":[{\"id\":\"18010\"},{\"id\":\"18043\"}],\"sizing_mode\":\"fixed\",\"title\":{\"id\":\"17969\"},\"toolbar\":{\"id\":\"17991\"},\"x_range\":{\"id\":\"17964\"},\"x_scale\":{\"id\":\"17973\"},\"y_range\":{\"id\":\"17965\"},\"y_scale\":{\"id\":\"17975\"}},\"id\":\"17968\",\"subtype\":\"Figure\",\"type\":\"Plot\"},{\"attributes\":{\"line_alpha\":0.2,\"line_color\":\"#1e85f7\",\"line_width\":2,\"x\":{\"field\":\"date\"},\"y\":{\"field\":\"value\"}},\"id\":\"18009\",\"type\":\"Line\"},{\"attributes\":{},\"id\":\"18000\",\"type\":\"AllLabels\"},{\"attributes\":{\"data\":{\"Variable\":[\"correct_classifies\",\"correct_classifies\",\"correct_classifies\",\"correct_classifies\",\"correct_classifies\",\"correct_classifies\",\"correct_classifies\",\"correct_classifies\",\"correct_classifies\",\"correct_classifies\",\"correct_classifies\",\"correct_classifies\",\"correct_classifies\"],\"date\":{\"__ndarray__\":\"AABAp3JveEIAAAANxW94QgAAwHIXcHhCAACA2GlweEIAAEA+vHB4QgAAAKQOcXhCAADACWFxeEIAAIBvs3F4QgAAQNUFcnhCAAAAO1hyeEIAAMCgqnJ4QgAAgAb9cnhCAABAbE9zeEI=\",\"dtype\":\"float64\",\"order\":\"little\",\"shape\":[13]},\"value\":{\"__ndarray__\":\"AAAAAAB4i0AAAAAAAEBmQAAAAAAAmIFAAAAAAACwckAAAAAAAFB/QAAAAAAAAG5AAAAAAABgakAAAAAAAAB2QAAAAAAAyIJAAAAAAADweEAAAAAAAGBnQAAAAAAAQFpAAAAAAAAgf0A=\",\"dtype\":\"float64\",\"order\":\"little\",\"shape\":[13]}},\"selected\":{\"id\":\"18038\"},\"selection_policy\":{\"id\":\"18054\"}},\"id\":\"18037\",\"type\":\"ColumnDataSource\"},{\"attributes\":{},\"id\":\"18038\",\"type\":\"Selection\"},{\"attributes\":{\"line_color\":\"#1e85f7\",\"line_width\":2,\"x\":{\"field\":\"date\"},\"y\":{\"field\":\"value\"}},\"id\":\"18007\",\"type\":\"Line\"},{\"attributes\":{\"line_color\":\"#1e85f7\",\"line_width\":2,\"x\":{\"field\":\"date\"},\"y\":{\"field\":\"value\"}},\"id\":\"18036\",\"type\":\"Line\"},{\"attributes\":{\"end\":1059.8,\"reset_end\":1059.8,\"reset_start\":18.19999999999999,\"start\":18.19999999999999,\"tags\":[[[\"value\",\"value\",null]]]},\"id\":\"17965\",\"type\":\"Range1d\"},{\"attributes\":{\"children\":[{\"id\":\"17961\"},{\"id\":\"17963\"}],\"margin\":[0,0,0,0],\"name\":\"Row27562\"},\"id\":\"17960\",\"type\":\"Row\"},{\"attributes\":{\"source\":{\"id\":\"18004\"}},\"id\":\"18011\",\"type\":\"CDSView\"},{\"attributes\":{\"active_drag\":{\"id\":\"17986\"},\"active_scroll\":{\"id\":\"17987\"},\"tools\":[{\"id\":\"17966\"},{\"id\":\"17985\"},{\"id\":\"17986\"},{\"id\":\"17987\"},{\"id\":\"17988\"},{\"id\":\"17989\"}]},\"id\":\"17991\",\"type\":\"Toolbar\"},{\"attributes\":{},\"id\":\"18019\",\"type\":\"UnionRenderers\"}],\"root_ids\":[\"17958\",\"18171\"]},\"title\":\"Bokeh Application\",\"version\":\"2.4.3\"}};\n",
       "    var render_items = [{\"docid\":\"f8cc1414-c759-4b62-a1d5-0f9c7efeff41\",\"root_ids\":[\"17958\"],\"roots\":{\"17958\":\"6a9c019e-763a-4201-a103-90ee639f0cc7\"}}];\n",
       "    root.Bokeh.embed.embed_items_notebook(docs_json, render_items);\n",
       "    for (const render_item of render_items) {\n",
       "      for (const root_id of render_item.root_ids) {\n",
       "\tconst id_el = document.getElementById(root_id)\n",
       "\tif (id_el.children.length && (id_el.children[0].className === 'bk-root')) {\n",
       "\t  const root_el = id_el.children[0]\n",
       "\t  root_el.id = root_el.id + '-rendered'\n",
       "\t}\n",
       "      }\n",
       "    }\n",
       "  }\n",
       "  if (root.Bokeh !== undefined && root.Bokeh.Panel !== undefined && ( root['Tabulator'] !== undefined) && ( root['Tabulator'] !== undefined) && ( root['Tabulator'] !== undefined) && ( root['Tabulator'] !== undefined) && ( root['Tabulator'] !== undefined)) {\n",
       "    embed_document(root);\n",
       "  } else {\n",
       "    var attempts = 0;\n",
       "    var timer = setInterval(function(root) {\n",
       "      if (root.Bokeh !== undefined && root.Bokeh.Panel !== undefined && (root['Tabulator'] !== undefined) && (root['Tabulator'] !== undefined) && (root['Tabulator'] !== undefined) && (root['Tabulator'] !== undefined) && (root['Tabulator'] !== undefined)) {\n",
       "        clearInterval(timer);\n",
       "        embed_document(root);\n",
       "      } else if (document.readyState == \"complete\") {\n",
       "        attempts++;\n",
       "        if (attempts > 200) {\n",
       "          clearInterval(timer);\n",
       "          console.log(\"Bokeh: ERROR: Unable to run BokehJS code because BokehJS library is missing\");\n",
       "        }\n",
       "      }\n",
       "    }, 25, root)\n",
       "  }\n",
       "})(window);</script>"
      ],
      "text/plain": [
       "<hvplot.interactive.Interactive at 0x7fe5b151fbe0>"
      ]
     },
     "execution_count": 132,
     "metadata": {
      "application/vnd.holoviews_exec.v0+json": {
       "id": "17958"
      }
     },
     "output_type": "execute_result"
    }
   ],
   "source": [
    "transaction_plot1 = transactions_pipeline1.hvplot.line(\n",
    "    x='date',\n",
    "    y=['total_number_of_transactions', 'correct_classifies'],\n",
    "    title=\"Analyse der korrekt klassifizierten Anträgen\",\n",
    "    ylabel=\"Anzahl\",\n",
    "    height=500,\n",
    "    width=600,\n",
    "    line_width=2,\n",
    "    color=[\"#1e85f7\", \"#04b032\"],\n",
    "    legend='top'\n",
    ")\n",
    "transaction_plot1"
   ]
  },
  {
   "cell_type": "markdown",
   "id": "af165b69-3c82-4248-9871-ab0cf6c61c36",
   "metadata": {},
   "source": [
    "## (6) kp"
   ]
  },
  {
   "cell_type": "code",
   "execution_count": 92,
   "id": "3a463d74-8f7c-4425-afaf-9163d8159ca7",
   "metadata": {
    "tags": []
   },
   "outputs": [
    {
     "data": {},
     "metadata": {},
     "output_type": "display_data"
    },
    {
     "data": {},
     "metadata": {},
     "output_type": "display_data"
    },
    {
     "data": {
      "application/vnd.holoviews_exec.v0+json": "",
      "text/html": [
       "<div id='11283'>\n",
       "  <div class=\"bk-root\" id=\"529fc55a-6acf-4891-aeda-e6b8ceaa8c33\" data-root-id=\"11283\"></div>\n",
       "</div>\n",
       "<script type=\"application/javascript\">(function(root) {\n",
       "  function embed_document(root) {\n",
       "    var docs_json = {\"b6cba7d2-679f-4202-a4a3-5cc202f3f961\":{\"defs\":[{\"extends\":null,\"module\":null,\"name\":\"ReactiveHTML1\",\"overrides\":[],\"properties\":[]},{\"extends\":null,\"module\":null,\"name\":\"FlexBox1\",\"overrides\":[],\"properties\":[{\"default\":\"flex-start\",\"kind\":null,\"name\":\"align_content\"},{\"default\":\"flex-start\",\"kind\":null,\"name\":\"align_items\"},{\"default\":\"row\",\"kind\":null,\"name\":\"flex_direction\"},{\"default\":\"wrap\",\"kind\":null,\"name\":\"flex_wrap\"},{\"default\":\"flex-start\",\"kind\":null,\"name\":\"justify_content\"}]},{\"extends\":null,\"module\":null,\"name\":\"GridStack1\",\"overrides\":[],\"properties\":[{\"default\":\"warn\",\"kind\":null,\"name\":\"mode\"},{\"default\":null,\"kind\":null,\"name\":\"ncols\"},{\"default\":null,\"kind\":null,\"name\":\"nrows\"},{\"default\":true,\"kind\":null,\"name\":\"allow_resize\"},{\"default\":true,\"kind\":null,\"name\":\"allow_drag\"},{\"default\":[],\"kind\":null,\"name\":\"state\"}]},{\"extends\":null,\"module\":null,\"name\":\"click1\",\"overrides\":[],\"properties\":[{\"default\":\"\",\"kind\":null,\"name\":\"terminal_output\"},{\"default\":\"\",\"kind\":null,\"name\":\"debug_name\"},{\"default\":0,\"kind\":null,\"name\":\"clears\"}]},{\"extends\":null,\"module\":null,\"name\":\"NotificationAreaBase1\",\"overrides\":[],\"properties\":[{\"default\":\"bottom-right\",\"kind\":null,\"name\":\"position\"},{\"default\":0,\"kind\":null,\"name\":\"_clear\"}]},{\"extends\":null,\"module\":null,\"name\":\"NotificationArea1\",\"overrides\":[],\"properties\":[{\"default\":[],\"kind\":null,\"name\":\"notifications\"},{\"default\":\"bottom-right\",\"kind\":null,\"name\":\"position\"},{\"default\":0,\"kind\":null,\"name\":\"_clear\"},{\"default\":[{\"background\":\"#ffc107\",\"icon\":{\"className\":\"fas fa-exclamation-triangle\",\"color\":\"white\",\"tagName\":\"i\"},\"type\":\"warning\"},{\"background\":\"#007bff\",\"icon\":{\"className\":\"fas fa-info-circle\",\"color\":\"white\",\"tagName\":\"i\"},\"type\":\"info\"}],\"kind\":null,\"name\":\"types\"}]},{\"extends\":null,\"module\":null,\"name\":\"Notification\",\"overrides\":[],\"properties\":[{\"default\":null,\"kind\":null,\"name\":\"background\"},{\"default\":3000,\"kind\":null,\"name\":\"duration\"},{\"default\":null,\"kind\":null,\"name\":\"icon\"},{\"default\":\"\",\"kind\":null,\"name\":\"message\"},{\"default\":null,\"kind\":null,\"name\":\"notification_type\"},{\"default\":false,\"kind\":null,\"name\":\"_destroyed\"}]},{\"extends\":null,\"module\":null,\"name\":\"TemplateActions1\",\"overrides\":[],\"properties\":[{\"default\":0,\"kind\":null,\"name\":\"open_modal\"},{\"default\":0,\"kind\":null,\"name\":\"close_modal\"}]},{\"extends\":null,\"module\":null,\"name\":\"MaterialTemplateActions1\",\"overrides\":[],\"properties\":[{\"default\":0,\"kind\":null,\"name\":\"open_modal\"},{\"default\":0,\"kind\":null,\"name\":\"close_modal\"}]}],\"roots\":{\"references\":[{\"attributes\":{\"children\":[{\"id\":\"11284\"}],\"margin\":[0,0,0,0],\"name\":\"Row20562\"},\"id\":\"11283\",\"type\":\"Row\"},{\"attributes\":{\"line_color\":\"#30a2da\",\"line_width\":2,\"x\":{\"field\":\"date\"},\"y\":{\"field\":\"share_of_accepted_transactions\"}},\"id\":\"11330\",\"type\":\"Line\"},{\"attributes\":{\"overlay\":{\"id\":\"11314\"}},\"id\":\"11312\",\"type\":\"BoxZoomTool\"},{\"attributes\":{\"mantissas\":[1,2,5],\"max_interval\":500.0,\"num_minor_ticks\":0},\"id\":\"11351\",\"type\":\"AdaptiveTicker\"},{\"attributes\":{},\"id\":\"11313\",\"type\":\"ResetTool\"},{\"attributes\":{\"bottom_units\":\"screen\",\"coordinates\":null,\"fill_alpha\":0.5,\"fill_color\":\"lightgrey\",\"group\":null,\"left_units\":\"screen\",\"level\":\"overlay\",\"line_alpha\":1.0,\"line_color\":\"black\",\"line_dash\":[4,4],\"line_width\":2,\"right_units\":\"screen\",\"syncable\":false,\"top_units\":\"screen\"},\"id\":\"11314\",\"type\":\"BoxAnnotation\"},{\"attributes\":{\"base\":60,\"mantissas\":[1,2,5,10,15,20,30],\"max_interval\":1800000.0,\"min_interval\":1000.0,\"num_minor_ticks\":0},\"id\":\"11352\",\"type\":\"AdaptiveTicker\"},{\"attributes\":{\"end\":1680220800000.0,\"reset_end\":1680220800000.0,\"reset_start\":1679184000000.0,\"start\":1679184000000.0,\"tags\":[[[\"date\",\"date\",null]]]},\"id\":\"11289\",\"type\":\"Range1d\"},{\"attributes\":{\"coordinates\":null,\"data_source\":{\"id\":\"11322\"},\"glyph\":{\"id\":\"11325\"},\"group\":null,\"hover_glyph\":null,\"muted_glyph\":{\"id\":\"11327\"},\"nonselection_glyph\":{\"id\":\"11326\"},\"selection_glyph\":{\"id\":\"11330\"},\"view\":{\"id\":\"11329\"}},\"id\":\"11328\",\"type\":\"GlyphRenderer\"},{\"attributes\":{\"base\":24,\"mantissas\":[1,2,4,6,8,12],\"max_interval\":43200000.0,\"min_interval\":3600000.0,\"num_minor_ticks\":0},\"id\":\"11353\",\"type\":\"AdaptiveTicker\"},{\"attributes\":{},\"id\":\"11335\",\"type\":\"BasicTickFormatter\"},{\"attributes\":{},\"id\":\"11362\",\"type\":\"YearsTicker\"},{\"attributes\":{\"months\":[0,1,2,3,4,5,6,7,8,9,10,11]},\"id\":\"11358\",\"type\":\"MonthsTicker\"},{\"attributes\":{\"days\":[1,15]},\"id\":\"11357\",\"type\":\"DaysTicker\"},{\"attributes\":{},\"id\":\"11332\",\"type\":\"DatetimeTickFormatter\"},{\"attributes\":{\"days\":[1,2,3,4,5,6,7,8,9,10,11,12,13,14,15,16,17,18,19,20,21,22,23,24,25,26,27,28,29,30,31]},\"id\":\"11354\",\"type\":\"DaysTicker\"},{\"attributes\":{\"days\":[1,4,7,10,13,16,19,22,25,28]},\"id\":\"11355\",\"type\":\"DaysTicker\"},{\"attributes\":{},\"id\":\"11333\",\"type\":\"AllLabels\"},{\"attributes\":{\"active_drag\":{\"id\":\"11310\"},\"active_scroll\":{\"id\":\"11311\"},\"tools\":[{\"id\":\"11291\"},{\"id\":\"11309\"},{\"id\":\"11310\"},{\"id\":\"11311\"},{\"id\":\"11312\"},{\"id\":\"11313\"}]},\"id\":\"11315\",\"type\":\"Toolbar\"},{\"attributes\":{\"days\":[1,8,15,22]},\"id\":\"11356\",\"type\":\"DaysTicker\"},{\"attributes\":{\"months\":[0,6]},\"id\":\"11361\",\"type\":\"MonthsTicker\"},{\"attributes\":{\"line_alpha\":0.2,\"line_color\":\"#30a2da\",\"line_width\":2,\"x\":{\"field\":\"date\"},\"y\":{\"field\":\"share_of_accepted_transactions\"}},\"id\":\"11327\",\"type\":\"Line\"},{\"attributes\":{\"children\":[{\"id\":\"11285\"},{\"id\":\"11292\"}],\"margin\":[0,0,0,0],\"name\":\"Column20561\"},\"id\":\"11284\",\"type\":\"Column\"},{\"attributes\":{\"months\":[0,2,4,6,8,10]},\"id\":\"11359\",\"type\":\"MonthsTicker\"},{\"attributes\":{},\"id\":\"11336\",\"type\":\"AllLabels\"},{\"attributes\":{},\"id\":\"11297\",\"type\":\"LinearScale\"},{\"attributes\":{\"source\":{\"id\":\"11322\"}},\"id\":\"11329\",\"type\":\"CDSView\"},{\"attributes\":{},\"id\":\"11348\",\"type\":\"UnionRenderers\"},{\"attributes\":{\"months\":[0,4,8]},\"id\":\"11360\",\"type\":\"MonthsTicker\"},{\"attributes\":{\"client_comm_id\":\"89f42effed6a426babfc3f59cf54bf4d\",\"comm_id\":\"47f4c464c09e41aea98b2e1abda74c17\",\"plot_id\":\"11283\"},\"id\":\"11429\",\"type\":\"panel.models.comm_manager.CommManager\"},{\"attributes\":{\"end\":0.991,\"reset_end\":0.991,\"reset_start\":0.859,\"start\":0.859,\"tags\":[[[\"share_of_accepted_transactions\",\"share_of_accepted_transactions\",null]]]},\"id\":\"11290\",\"type\":\"Range1d\"},{\"attributes\":{\"line_alpha\":0.1,\"line_color\":\"#30a2da\",\"line_width\":2,\"x\":{\"field\":\"date\"},\"y\":{\"field\":\"share_of_accepted_transactions\"}},\"id\":\"11326\",\"type\":\"Line\"},{\"attributes\":{\"callback\":null,\"formatters\":{\"@{date}\":\"datetime\"},\"renderers\":[{\"id\":\"11328\"}],\"tags\":[\"hv_created\"],\"tooltips\":[[\"date\",\"@{date}{%F %T}\"],[\"share_of_accepted_transactions\",\"@{share_of_accepted_transactions}\"]]},\"id\":\"11291\",\"type\":\"HoverTool\"},{\"attributes\":{\"line_color\":\"#30a2da\",\"line_width\":2,\"x\":{\"field\":\"date\"},\"y\":{\"field\":\"share_of_accepted_transactions\"}},\"id\":\"11325\",\"type\":\"Line\"},{\"attributes\":{\"below\":[{\"id\":\"11301\"}],\"center\":[{\"id\":\"11304\"},{\"id\":\"11308\"}],\"height\":500,\"left\":[{\"id\":\"11305\"}],\"margin\":[5,5,5,5],\"min_border_bottom\":10,\"min_border_left\":10,\"min_border_right\":10,\"min_border_top\":10,\"renderers\":[{\"id\":\"11328\"}],\"sizing_mode\":\"fixed\",\"title\":{\"id\":\"11293\"},\"toolbar\":{\"id\":\"11315\"},\"x_range\":{\"id\":\"11289\"},\"x_scale\":{\"id\":\"11297\"},\"y_range\":{\"id\":\"11290\"},\"y_scale\":{\"id\":\"11299\"}},\"id\":\"11292\",\"subtype\":\"Figure\",\"type\":\"Plot\"},{\"attributes\":{},\"id\":\"11310\",\"type\":\"PanTool\"},{\"attributes\":{\"data\":{\"date\":{\"__ndarray__\":\"AABAp3JveEIAAAANxW94QgAAwHIXcHhCAACA2GlweEIAAEA+vHB4QgAAAKQOcXhCAADACWFxeEIAAIBvs3F4QgAAQNUFcnhCAAAAO1hyeEIAAMCgqnJ4QgAAgAb9cnhCAABAbE9zeEI=\",\"dtype\":\"float64\",\"order\":\"little\",\"shape\":[13]},\"share_of_accepted_transactions\":{\"__ndarray__\":\"zczMzMzM7D97FK5H4XrsP9ejcD0K1+s/zczMzMzM7D/NzMzMzMzsP3E9CtejcO0/ZmZmZmZm7j9mZmZmZmbuPwrXo3A9Cu8/CtejcD0K7z/D9Shcj8LtP8P1KFyPwu0/XI/C9Shc7z8=\",\"dtype\":\"float64\",\"order\":\"little\",\"shape\":[13]}},\"selected\":{\"id\":\"11323\"},\"selection_policy\":{\"id\":\"11348\"}},\"id\":\"11322\",\"type\":\"ColumnDataSource\"},{\"attributes\":{\"coordinates\":null,\"group\":null,\"text\":\"Ver\\u00e4nderung der Genauigkeit von Klassifizierungen\",\"text_color\":\"black\",\"text_font_size\":\"12pt\"},\"id\":\"11293\",\"type\":\"Title\"},{\"attributes\":{\"axis_label\":\"date\",\"coordinates\":null,\"formatter\":{\"id\":\"11332\"},\"group\":null,\"major_label_policy\":{\"id\":\"11333\"},\"ticker\":{\"id\":\"11302\"}},\"id\":\"11301\",\"type\":\"DatetimeAxis\"},{\"attributes\":{\"axis\":{\"id\":\"11301\"},\"coordinates\":null,\"grid_line_color\":null,\"group\":null,\"ticker\":null},\"id\":\"11304\",\"type\":\"Grid\"},{\"attributes\":{},\"id\":\"11323\",\"type\":\"Selection\"},{\"attributes\":{\"axis_label\":\"Anzahl\",\"coordinates\":null,\"formatter\":{\"id\":\"11335\"},\"group\":null,\"major_label_policy\":{\"id\":\"11336\"},\"ticker\":{\"id\":\"11306\"}},\"id\":\"11305\",\"type\":\"LinearAxis\"},{\"attributes\":{\"num_minor_ticks\":5,\"tickers\":[{\"id\":\"11351\"},{\"id\":\"11352\"},{\"id\":\"11353\"},{\"id\":\"11354\"},{\"id\":\"11355\"},{\"id\":\"11356\"},{\"id\":\"11357\"},{\"id\":\"11358\"},{\"id\":\"11359\"},{\"id\":\"11360\"},{\"id\":\"11361\"},{\"id\":\"11362\"}]},\"id\":\"11302\",\"type\":\"DatetimeTicker\"},{\"attributes\":{},\"id\":\"11299\",\"type\":\"LinearScale\"},{\"attributes\":{\"axis\":{\"id\":\"11305\"},\"coordinates\":null,\"dimension\":1,\"grid_line_color\":null,\"group\":null,\"ticker\":null},\"id\":\"11308\",\"type\":\"Grid\"},{\"attributes\":{\"end\":31,\"margin\":[5,10,5,10],\"start\":7,\"title\":\"Last Days\",\"value\":13},\"id\":\"11287\",\"type\":\"Slider\"},{\"attributes\":{\"children\":[{\"id\":\"11287\"}],\"margin\":[0,0,0,0],\"name\":\"Column20550\"},\"id\":\"11286\",\"type\":\"Column\"},{\"attributes\":{},\"id\":\"11306\",\"type\":\"BasicTicker\"},{\"attributes\":{},\"id\":\"11311\",\"type\":\"WheelZoomTool\"},{\"attributes\":{\"children\":[{\"id\":\"11286\"},{\"id\":\"11288\"}],\"margin\":[0,0,0,0],\"name\":\"Row20555\"},\"id\":\"11285\",\"type\":\"Row\"},{\"attributes\":{\"margin\":[5,5,5,5],\"name\":\"HSpacer20554\",\"sizing_mode\":\"stretch_width\"},\"id\":\"11288\",\"type\":\"Spacer\"},{\"attributes\":{},\"id\":\"11309\",\"type\":\"SaveTool\"}],\"root_ids\":[\"11283\",\"11429\"]},\"title\":\"Bokeh Application\",\"version\":\"2.4.3\"}};\n",
       "    var render_items = [{\"docid\":\"b6cba7d2-679f-4202-a4a3-5cc202f3f961\",\"root_ids\":[\"11283\"],\"roots\":{\"11283\":\"529fc55a-6acf-4891-aeda-e6b8ceaa8c33\"}}];\n",
       "    root.Bokeh.embed.embed_items_notebook(docs_json, render_items);\n",
       "    for (const render_item of render_items) {\n",
       "      for (const root_id of render_item.root_ids) {\n",
       "\tconst id_el = document.getElementById(root_id)\n",
       "\tif (id_el.children.length && (id_el.children[0].className === 'bk-root')) {\n",
       "\t  const root_el = id_el.children[0]\n",
       "\t  root_el.id = root_el.id + '-rendered'\n",
       "\t}\n",
       "      }\n",
       "    }\n",
       "  }\n",
       "  if (root.Bokeh !== undefined && root.Bokeh.Panel !== undefined && ( root['Tabulator'] !== undefined) && ( root['Tabulator'] !== undefined) && ( root['Tabulator'] !== undefined) && ( root['Tabulator'] !== undefined) && ( root['Tabulator'] !== undefined)) {\n",
       "    embed_document(root);\n",
       "  } else {\n",
       "    var attempts = 0;\n",
       "    var timer = setInterval(function(root) {\n",
       "      if (root.Bokeh !== undefined && root.Bokeh.Panel !== undefined && (root['Tabulator'] !== undefined) && (root['Tabulator'] !== undefined) && (root['Tabulator'] !== undefined) && (root['Tabulator'] !== undefined) && (root['Tabulator'] !== undefined)) {\n",
       "        clearInterval(timer);\n",
       "        embed_document(root);\n",
       "      } else if (document.readyState == \"complete\") {\n",
       "        attempts++;\n",
       "        if (attempts > 200) {\n",
       "          clearInterval(timer);\n",
       "          console.log(\"Bokeh: ERROR: Unable to run BokehJS code because BokehJS library is missing\");\n",
       "        }\n",
       "      }\n",
       "    }, 25, root)\n",
       "  }\n",
       "})(window);</script>"
      ],
      "text/plain": [
       "<hvplot.interactive.Interactive at 0x7fe5b1369eb0>"
      ]
     },
     "execution_count": 92,
     "metadata": {
      "application/vnd.holoviews_exec.v0+json": {
       "id": "11283"
      }
     },
     "output_type": "execute_result"
    }
   ],
   "source": [
    "transaction_plot2 = transactions_pipeline1.hvplot.line(\n",
    "    x='date',\n",
    "    y=['share_of_accepted_transactions'],\n",
    "    title=\"Veränderung der Genauigkeit von Klassifizierungen\",\n",
    "    ylabel=\"Anzahl\",\n",
    "    height=500,\n",
    "    width=600,\n",
    "    line_width=2,\n",
    "    legend='top'\n",
    ")\n",
    "transaction_plot2"
   ]
  },
  {
   "cell_type": "markdown",
   "id": "935e8e8a-d08e-4ab3-9295-231708d7e058",
   "metadata": {},
   "source": [
    "## (7) Anzahl der Anzahl an Transaktionen usw. als Kennzahl für unten links"
   ]
  },
  {
   "cell_type": "code",
   "execution_count": 57,
   "id": "1af68638-5678-4fb0-abc1-09ceca0b0d32",
   "metadata": {
    "tags": []
   },
   "outputs": [
    {
     "data": {},
     "metadata": {},
     "output_type": "display_data"
    },
    {
     "data": {
      "application/vnd.holoviews_exec.v0+json": "",
      "text/html": [
       "<div id='5990'>\n",
       "  <div class=\"bk-root\" id=\"4b26ca86-2559-4a4b-be0f-ffa8aa088a15\" data-root-id=\"5990\"></div>\n",
       "</div>\n",
       "<script type=\"application/javascript\">(function(root) {\n",
       "  function embed_document(root) {\n",
       "    var docs_json = {\"3557e061-eefe-4588-b8e9-c5613260568e\":{\"defs\":[{\"extends\":null,\"module\":null,\"name\":\"ReactiveHTML1\",\"overrides\":[],\"properties\":[]},{\"extends\":null,\"module\":null,\"name\":\"FlexBox1\",\"overrides\":[],\"properties\":[{\"default\":\"flex-start\",\"kind\":null,\"name\":\"align_content\"},{\"default\":\"flex-start\",\"kind\":null,\"name\":\"align_items\"},{\"default\":\"row\",\"kind\":null,\"name\":\"flex_direction\"},{\"default\":\"wrap\",\"kind\":null,\"name\":\"flex_wrap\"},{\"default\":\"flex-start\",\"kind\":null,\"name\":\"justify_content\"}]},{\"extends\":null,\"module\":null,\"name\":\"GridStack1\",\"overrides\":[],\"properties\":[{\"default\":\"warn\",\"kind\":null,\"name\":\"mode\"},{\"default\":null,\"kind\":null,\"name\":\"ncols\"},{\"default\":null,\"kind\":null,\"name\":\"nrows\"},{\"default\":true,\"kind\":null,\"name\":\"allow_resize\"},{\"default\":true,\"kind\":null,\"name\":\"allow_drag\"},{\"default\":[],\"kind\":null,\"name\":\"state\"}]},{\"extends\":null,\"module\":null,\"name\":\"click1\",\"overrides\":[],\"properties\":[{\"default\":\"\",\"kind\":null,\"name\":\"terminal_output\"},{\"default\":\"\",\"kind\":null,\"name\":\"debug_name\"},{\"default\":0,\"kind\":null,\"name\":\"clears\"}]},{\"extends\":null,\"module\":null,\"name\":\"NotificationAreaBase1\",\"overrides\":[],\"properties\":[{\"default\":\"bottom-right\",\"kind\":null,\"name\":\"position\"},{\"default\":0,\"kind\":null,\"name\":\"_clear\"}]},{\"extends\":null,\"module\":null,\"name\":\"NotificationArea1\",\"overrides\":[],\"properties\":[{\"default\":[],\"kind\":null,\"name\":\"notifications\"},{\"default\":\"bottom-right\",\"kind\":null,\"name\":\"position\"},{\"default\":0,\"kind\":null,\"name\":\"_clear\"},{\"default\":[{\"background\":\"#ffc107\",\"icon\":{\"className\":\"fas fa-exclamation-triangle\",\"color\":\"white\",\"tagName\":\"i\"},\"type\":\"warning\"},{\"background\":\"#007bff\",\"icon\":{\"className\":\"fas fa-info-circle\",\"color\":\"white\",\"tagName\":\"i\"},\"type\":\"info\"}],\"kind\":null,\"name\":\"types\"}]},{\"extends\":null,\"module\":null,\"name\":\"Notification\",\"overrides\":[],\"properties\":[{\"default\":null,\"kind\":null,\"name\":\"background\"},{\"default\":3000,\"kind\":null,\"name\":\"duration\"},{\"default\":null,\"kind\":null,\"name\":\"icon\"},{\"default\":\"\",\"kind\":null,\"name\":\"message\"},{\"default\":null,\"kind\":null,\"name\":\"notification_type\"},{\"default\":false,\"kind\":null,\"name\":\"_destroyed\"}]},{\"extends\":null,\"module\":null,\"name\":\"TemplateActions1\",\"overrides\":[],\"properties\":[{\"default\":0,\"kind\":null,\"name\":\"open_modal\"},{\"default\":0,\"kind\":null,\"name\":\"close_modal\"}]},{\"extends\":null,\"module\":null,\"name\":\"MaterialTemplateActions1\",\"overrides\":[],\"properties\":[{\"default\":0,\"kind\":null,\"name\":\"open_modal\"},{\"default\":0,\"kind\":null,\"name\":\"close_modal\"}]}],\"roots\":{\"references\":[{\"attributes\":{\"margin\":[5,10,5,10],\"sizing_mode\":\"fixed\",\"text\":\"&lt;div style=&quot;font-size: 18pt; color: black&quot;&gt;Average Share of Accepted Transactions&lt;/div&gt;\\n&lt;div style=&quot;font-size: 54pt; color: black&quot;&gt;90.30%&lt;/div&gt;\"},\"id\":\"5990\",\"type\":\"panel.models.markup.HTML\"},{\"attributes\":{\"client_comm_id\":\"b96975ed74024a4488e980788ee8bfee\",\"comm_id\":\"d11098e9c6be43c9bffe61c14f6d444d\",\"plot_id\":\"5990\"},\"id\":\"5991\",\"type\":\"panel.models.comm_manager.CommManager\"}],\"root_ids\":[\"5990\",\"5991\"]},\"title\":\"Bokeh Application\",\"version\":\"2.4.3\"}};\n",
       "    var render_items = [{\"docid\":\"3557e061-eefe-4588-b8e9-c5613260568e\",\"root_ids\":[\"5990\"],\"roots\":{\"5990\":\"4b26ca86-2559-4a4b-be0f-ffa8aa088a15\"}}];\n",
       "    root.Bokeh.embed.embed_items_notebook(docs_json, render_items);\n",
       "    for (const render_item of render_items) {\n",
       "      for (const root_id of render_item.root_ids) {\n",
       "\tconst id_el = document.getElementById(root_id)\n",
       "\tif (id_el.children.length && (id_el.children[0].className === 'bk-root')) {\n",
       "\t  const root_el = id_el.children[0]\n",
       "\t  root_el.id = root_el.id + '-rendered'\n",
       "\t}\n",
       "      }\n",
       "    }\n",
       "  }\n",
       "  if (root.Bokeh !== undefined && root.Bokeh.Panel !== undefined && ( root['Tabulator'] !== undefined) && ( root['Tabulator'] !== undefined) && ( root['Tabulator'] !== undefined) && ( root['Tabulator'] !== undefined) && ( root['Tabulator'] !== undefined)) {\n",
       "    embed_document(root);\n",
       "  } else {\n",
       "    var attempts = 0;\n",
       "    var timer = setInterval(function(root) {\n",
       "      if (root.Bokeh !== undefined && root.Bokeh.Panel !== undefined && (root['Tabulator'] !== undefined) && (root['Tabulator'] !== undefined) && (root['Tabulator'] !== undefined) && (root['Tabulator'] !== undefined) && (root['Tabulator'] !== undefined)) {\n",
       "        clearInterval(timer);\n",
       "        embed_document(root);\n",
       "      } else if (document.readyState == \"complete\") {\n",
       "        attempts++;\n",
       "        if (attempts > 200) {\n",
       "          clearInterval(timer);\n",
       "          console.log(\"Bokeh: ERROR: Unable to run BokehJS code because BokehJS library is missing\");\n",
       "        }\n",
       "      }\n",
       "    }, 25, root)\n",
       "  }\n",
       "})(window);</script>"
      ],
      "text/plain": [
       "Number(format='{value:.2%}', name='Average Share o..., value=0.9029999999999999)"
      ]
     },
     "execution_count": 57,
     "metadata": {
      "application/vnd.holoviews_exec.v0+json": {
       "id": "5990"
      }
     },
     "output_type": "execute_result"
    }
   ],
   "source": [
    "import pandas as pd\n",
    "import panel as pn\n",
    "\n",
    "# create a slider widget\n",
    "days_slider = pn.widgets.IntSlider(name='Last Days', start=1, end=30, step=1, value=30)\n",
    "\n",
    "# create a pipeline to filter the data based on the slider value and calculate the average share of accepted transactions\n",
    "indicator_pipeline1 = (\n",
    "    df_time\n",
    "    .tail(days_slider.value)  # select the last 'days_slider.value' rows\n",
    "    .assign(average_share=lambda x: x['share_of_accepted_transactions'].mean())  # calculate the average of the 'share_of_accepted_transactions' column\n",
    ")\n",
    "\n",
    "# create an indicator widget for the average share of accepted transactions\n",
    "average_share_indicator = pn.indicators.Number(\n",
    "    name='Anteil der korrekten Klassifizierungen',\n",
    "    value=indicator_pipeline1['average_share'].iloc[-1],  # get the last row of the 'average_share' column\n",
    "    format='{value:.2%}'\n",
    ")\n",
    "average_share_indicator"
   ]
  },
  {
   "cell_type": "markdown",
   "id": "ef1d523e-0409-4024-9783-2b654b8f9d53",
   "metadata": {},
   "source": [
    "## Creating Dashboard"
   ]
  },
  {
   "cell_type": "code",
   "execution_count": 72,
   "id": "1c2e45bf-37c7-48e0-a2d3-a36da8843362",
   "metadata": {},
   "outputs": [],
   "source": [
    "#Layout using Template\n",
    "template = pn.template.FastListTemplate(\n",
    "    title='Machine Learning Monitoring Dashboard', \n",
    "    sidebar=[pn.pane.Markdown(\"# Machine Learning Modell Überwachung Dashboard von Moritz Scheele\"), \n",
    "             pn.pane.Markdown(\"#### Das folgende Dashboard wurde im Rahmen der Vorlesung MADS2100 Reporting & Visualisierung gehalten von Dr. Robert Stahlbock entwickelt. Die hier dargestellten Informationen werden auf Basis von fiktiven Daten berechnet. Das Ziel des Dashboards ist es sozial ungerechte Klassifizierungen des Modells zu identifizieren. Dies gelingt in der ersten Zeile, wobei verschiedene Merkmale untersucht werden können. In Zeile zwei kann zusätzlich die Verteilung dieser Merkmale im Datensatz untersucht werden. In der dritten Zeile kann die zeitliche Veränderung der Genauigkeit des Modells eingesehen werden.\"), \n",
    "             average_share_indicator,\n",
    "             pn.pane.Markdown(\"### Bekannte Fehler\"),\n",
    "             pn.pane.Markdown(\"#### Es kann vorkommen, dass beim ersten Aufrufen des Dashboards der Graph zur Betrachtung des Alters in der ersten Zeile nicht geladen wird. Bitte kurz ein anderes Merkmal auswählen, dann sollte es gehen. Zusätzlich werden die Skalen der Visualisierungen nicht automatisch beim Wechsel von Merkmalen zurückgesetzt. Dies kann aber über das Symbol neben den Graphen bewerkstelligt werden.\"),\n",
    "             ],\n",
    "    main=[pn.Row(pn.Column(select_cat_distribution_pipeline, cat_distribution_plot.panel(width=700), margin=(0,25)), \n",
    "                 pn.Column(select_num_distribution_pipeline, num_distribution_plot.panel(width=500))), \n",
    "          pn.Row(pn.Column(select_cat_distribution_pipeline, cat_distribution_plot2.panel(width=600), margin=(0,25)), \n",
    "                 pn.Column(select_num_distribution_pipeline, num_distribution_plot2.panel(width=600))),\n",
    "         pn.Row(pn.Column(transaction_plot1.panel(width=600), margin=(0,15)), \n",
    "                pn.Column(day_slider, margin=(0,15)),\n",
    "                pn.Column(transaction_plot2.panel(width=600)))],\n",
    "    accent_base_color=\"#88d8b0\",\n",
    "    header_background=\"#88d8b0\",\n",
    ")\n",
    "# template.show()\n",
    "template.servable();"
   ]
  },
  {
   "cell_type": "code",
   "execution_count": null,
   "id": "438f8daa-0017-4cb2-a8cb-c86784a6ab52",
   "metadata": {},
   "outputs": [],
   "source": []
  }
 ],
 "metadata": {
  "kernelspec": {
   "display_name": "Python 3 (ipykernel)",
   "language": "python",
   "name": "python3"
  },
  "language_info": {
   "codemirror_mode": {
    "name": "ipython",
    "version": 3
   },
   "file_extension": ".py",
   "mimetype": "text/x-python",
   "name": "python",
   "nbconvert_exporter": "python",
   "pygments_lexer": "ipython3",
   "version": "3.9.12"
  }
 },
 "nbformat": 4,
 "nbformat_minor": 5
}
